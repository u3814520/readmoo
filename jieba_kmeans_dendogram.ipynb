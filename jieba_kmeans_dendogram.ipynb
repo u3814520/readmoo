{
 "cells": [
  {
   "cell_type": "code",
   "execution_count": 1,
   "id": "5ab2389f",
   "metadata": {},
   "outputs": [],
   "source": [
    "import pandas as pd\n",
    "import jieba\n",
    "import jieba.analyse\n",
    "from sklearn.decomposition import PCA"
   ]
  },
  {
   "cell_type": "code",
   "execution_count": 2,
   "id": "c7dea74e",
   "metadata": {},
   "outputs": [],
   "source": [
    "import zh_core_web_sm\n",
    "nlp = zh_core_web_sm.load()"
   ]
  },
  {
   "cell_type": "code",
   "execution_count": 3,
   "id": "dfd012de",
   "metadata": {},
   "outputs": [
    {
     "data": {
      "text/html": [
       "<div>\n",
       "<style scoped>\n",
       "    .dataframe tbody tr th:only-of-type {\n",
       "        vertical-align: middle;\n",
       "    }\n",
       "\n",
       "    .dataframe tbody tr th {\n",
       "        vertical-align: top;\n",
       "    }\n",
       "\n",
       "    .dataframe thead th {\n",
       "        text-align: right;\n",
       "    }\n",
       "</style>\n",
       "<table border=\"1\" class=\"dataframe\">\n",
       "  <thead>\n",
       "    <tr style=\"text-align: right;\">\n",
       "      <th></th>\n",
       "      <th>書名</th>\n",
       "      <th>書籍網站</th>\n",
       "      <th>作者</th>\n",
       "      <th>出版社</th>\n",
       "      <th>ISBN</th>\n",
       "      <th>圖片網址</th>\n",
       "      <th>書籍簡介</th>\n",
       "      <th>類別</th>\n",
       "    </tr>\n",
       "  </thead>\n",
       "  <tbody>\n",
       "    <tr>\n",
       "      <th>0</th>\n",
       "      <td>瞄過一眼就忘不了的世界史：高中老師╳神級YouTuber 2，000萬次點閱的超人氣課程</td>\n",
       "      <td>https://www.kingstone.com.tw//basic/2017110045...</td>\n",
       "      <td>山崎圭一</td>\n",
       "      <td>野人文化</td>\n",
       "      <td>9789863844433</td>\n",
       "      <td>https://cdn.kingstone.com.tw/book/images/produ...</td>\n",
       "      <td>高中老師╳神級YouTuber╳最強「圖像記憶法」★2,000萬次點閱的超人氣課程！★狂銷3...</td>\n",
       "      <td>文化</td>\n",
       "    </tr>\n",
       "    <tr>\n",
       "      <th>1</th>\n",
       "      <td>大戰略：耶魯大學長紅20年大師課程，從歷史提煉的領導決策心法</td>\n",
       "      <td>https://www.kingstone.com.tw//basic/2015410301...</td>\n",
       "      <td>約翰．路易斯．蓋迪斯</td>\n",
       "      <td>聯經</td>\n",
       "      <td>9789570856712</td>\n",
       "      <td>https://cdn.kingstone.com.tw/book/images/produ...</td>\n",
       "      <td>金石堂強力推薦書 !★耶魯大學長紅20年的戰略大師課★★投資銀行摩根大通必讀清單★★Amaz...</td>\n",
       "      <td>文化</td>\n",
       "    </tr>\n",
       "    <tr>\n",
       "      <th>2</th>\n",
       "      <td>歷史學的探究與實作操作手冊</td>\n",
       "      <td>https://www.kingstone.com.tw//basic/2015240255...</td>\n",
       "      <td>陳建守、韓承樺、張育甄、萬雅筑</td>\n",
       "      <td>臺灣商務</td>\n",
       "      <td>9789570533446</td>\n",
       "      <td>https://cdn.kingstone.com.tw/book/images/produ...</td>\n",
       "      <td>108課綱歷史科目「探究與實作」課程規劃設計參考指南！一次解決 主題設定、課程活動、參考書目...</td>\n",
       "      <td>文化</td>\n",
       "    </tr>\n",
       "    <tr>\n",
       "      <th>3</th>\n",
       "      <td>忘了自己是動物的人類：重思生命起源的歷史與身而為人的意義</td>\n",
       "      <td>https://www.kingstone.com.tw//basic/2011730257...</td>\n",
       "      <td>梅蘭妮．查林傑</td>\n",
       "      <td>商周出版</td>\n",
       "      <td>9789864779376</td>\n",
       "      <td>https://cdn.kingstone.com.tw/book/images/produ...</td>\n",
       "      <td>最優美的生命起源敘事，重思人類身為動物的美麗與哀愁英、美、加、德、義、荷、葡、俄、西、台灣十...</td>\n",
       "      <td>運動</td>\n",
       "    </tr>\n",
       "    <tr>\n",
       "      <th>4</th>\n",
       "      <td>西方憑什麼：五萬年人類大歷史，破解中國落後之謎</td>\n",
       "      <td>https://www.kingstone.com.tw//basic/2017130022...</td>\n",
       "      <td>伊安．摩里士</td>\n",
       "      <td>雅言文化</td>\n",
       "      <td>9789868271272</td>\n",
       "      <td>https://cdn.kingstone.com.tw/book/images/produ...</td>\n",
       "      <td>美國筆會書獎、德國GetAbstract國際財經書獎 美國、英國、中國、德國暢銷書 書開頭...</td>\n",
       "      <td>宗教</td>\n",
       "    </tr>\n",
       "  </tbody>\n",
       "</table>\n",
       "</div>"
      ],
      "text/plain": [
       "                                             書名  \\\n",
       "0  瞄過一眼就忘不了的世界史：高中老師╳神級YouTuber 2，000萬次點閱的超人氣課程   \n",
       "1                大戰略：耶魯大學長紅20年大師課程，從歷史提煉的領導決策心法   \n",
       "2                                 歷史學的探究與實作操作手冊   \n",
       "3                  忘了自己是動物的人類：重思生命起源的歷史與身而為人的意義   \n",
       "4                       西方憑什麼：五萬年人類大歷史，破解中國落後之謎   \n",
       "\n",
       "                                                書籍網站               作者  \\\n",
       "0  https://www.kingstone.com.tw//basic/2017110045...             山崎圭一   \n",
       "1  https://www.kingstone.com.tw//basic/2015410301...       約翰．路易斯．蓋迪斯   \n",
       "2  https://www.kingstone.com.tw//basic/2015240255...  陳建守、韓承樺、張育甄、萬雅筑   \n",
       "3  https://www.kingstone.com.tw//basic/2011730257...          梅蘭妮．查林傑   \n",
       "4  https://www.kingstone.com.tw//basic/2017130022...           伊安．摩里士   \n",
       "\n",
       "        出版社           ISBN                                               圖片網址  \\\n",
       "0    野人文化    9789863844433  https://cdn.kingstone.com.tw/book/images/produ...   \n",
       "1  聯經        9789570856712  https://cdn.kingstone.com.tw/book/images/produ...   \n",
       "2    臺灣商務    9789570533446  https://cdn.kingstone.com.tw/book/images/produ...   \n",
       "3    商周出版    9789864779376  https://cdn.kingstone.com.tw/book/images/produ...   \n",
       "4    雅言文化    9789868271272  https://cdn.kingstone.com.tw/book/images/produ...   \n",
       "\n",
       "                                                書籍簡介  類別  \n",
       "0  高中老師╳神級YouTuber╳最強「圖像記憶法」★2,000萬次點閱的超人氣課程！★狂銷3...  文化  \n",
       "1  金石堂強力推薦書 !★耶魯大學長紅20年的戰略大師課★★投資銀行摩根大通必讀清單★★Amaz...  文化  \n",
       "2  108課綱歷史科目「探究與實作」課程規劃設計參考指南！一次解決 主題設定、課程活動、參考書目...  文化  \n",
       "3  最優美的生命起源敘事，重思人類身為動物的美麗與哀愁英、美、加、德、義、荷、葡、俄、西、台灣十...  運動  \n",
       "4   美國筆會書獎、德國GetAbstract國際財經書獎 美國、英國、中國、德國暢銷書 書開頭...  宗教  "
      ]
     },
     "execution_count": 3,
     "metadata": {},
     "output_type": "execute_result"
    }
   ],
   "source": [
    "df=pd.read_json('./categ.json',lines=True)\n",
    "df.head()"
   ]
  },
  {
   "cell_type": "code",
   "execution_count": 4,
   "id": "c66ff7e9",
   "metadata": {
    "code_folding": []
   },
   "outputs": [],
   "source": [
    "df['words'] = df['書名']+'，' + df['書籍簡介']"
   ]
  },
  {
   "cell_type": "code",
   "execution_count": 5,
   "id": "834b10d8",
   "metadata": {},
   "outputs": [],
   "source": [
    "del df['書籍網站'],df['作者'],df['出版社'],df['圖片網址'],df['書籍簡介'],df['類別']"
   ]
  },
  {
   "cell_type": "code",
   "execution_count": 6,
   "id": "89484927",
   "metadata": {},
   "outputs": [],
   "source": [
    "stop_words_list=[]\n",
    "with open(file='./stop_words.txt',mode='r', encoding=\"UTF-8\") as file:\n",
    "    for line in file:\n",
    "        line = line.strip()\n",
    "        stop_words_list.append(line)"
   ]
  },
  {
   "cell_type": "code",
   "execution_count": 7,
   "id": "57f98074",
   "metadata": {},
   "outputs": [],
   "source": [
    "stop_words='|'.join(stop_words_list)"
   ]
  },
  {
   "cell_type": "code",
   "execution_count": 8,
   "id": "89108463",
   "metadata": {},
   "outputs": [],
   "source": [
    "kill1='[^\\w\\s]+'"
   ]
  },
  {
   "cell_type": "code",
   "execution_count": 9,
   "id": "2c932e51",
   "metadata": {
    "scrolled": false
   },
   "outputs": [
    {
     "name": "stderr",
     "output_type": "stream",
     "text": [
      "C:\\Users\\Tibame\\AppData\\Local\\Temp/ipykernel_12404/92872001.py:1: FutureWarning: The default value of regex will change from True to False in a future version.\n",
      "  df['words']=df.words.str.replace(stop_words,'')\n"
     ]
    }
   ],
   "source": [
    "df['words']=df.words.str.replace(stop_words,'')"
   ]
  },
  {
   "cell_type": "code",
   "execution_count": 10,
   "id": "48d92697",
   "metadata": {},
   "outputs": [
    {
     "name": "stderr",
     "output_type": "stream",
     "text": [
      "C:\\Users\\Tibame\\AppData\\Local\\Temp/ipykernel_12404/2591340210.py:2: FutureWarning: The default value of regex will change from True to False in a future version.\n",
      "  df['words']=df.words.str.replace(kill1,'')\n"
     ]
    }
   ],
   "source": [
    "kill1='[^\\w\\s]+'\n",
    "df['words']=df.words.str.replace(kill1,'')"
   ]
  },
  {
   "cell_type": "code",
   "execution_count": 11,
   "id": "33ec3e72",
   "metadata": {
    "scrolled": false
   },
   "outputs": [
    {
     "data": {
      "text/html": [
       "<div>\n",
       "<style scoped>\n",
       "    .dataframe tbody tr th:only-of-type {\n",
       "        vertical-align: middle;\n",
       "    }\n",
       "\n",
       "    .dataframe tbody tr th {\n",
       "        vertical-align: top;\n",
       "    }\n",
       "\n",
       "    .dataframe thead th {\n",
       "        text-align: right;\n",
       "    }\n",
       "</style>\n",
       "<table border=\"1\" class=\"dataframe\">\n",
       "  <thead>\n",
       "    <tr style=\"text-align: right;\">\n",
       "      <th></th>\n",
       "      <th>書名</th>\n",
       "      <th>ISBN</th>\n",
       "      <th>words</th>\n",
       "    </tr>\n",
       "  </thead>\n",
       "  <tbody>\n",
       "    <tr>\n",
       "      <th>0</th>\n",
       "      <td>瞄過一眼就忘不了的世界史：高中老師╳神級YouTuber 2，000萬次點閱的超人氣課程</td>\n",
       "      <td>9789863844433</td>\n",
       "      <td>瞄過一眼忘不世界史高中老師神級YouTur 2000萬次點閱超人氣課程高中老師神級YouTu...</td>\n",
       "    </tr>\n",
       "    <tr>\n",
       "      <th>1</th>\n",
       "      <td>大戰略：耶魯大學長紅20年大師課程，從歷史提煉的領導決策心法</td>\n",
       "      <td>9789570856712</td>\n",
       "      <td>大戰略耶魯大學長紅20年大師課程從歷史提煉領導決策心法金石堂強力推薦書 耶魯大學長紅20年戰...</td>\n",
       "    </tr>\n",
       "    <tr>\n",
       "      <th>2</th>\n",
       "      <td>歷史學的探究與實作操作手冊</td>\n",
       "      <td>9789570533446</td>\n",
       "      <td>歷史學探究實作操作手冊108課綱歷史科目探究實作課程規劃設計參考指南一次解決 主題設定課程活...</td>\n",
       "    </tr>\n",
       "    <tr>\n",
       "      <th>3</th>\n",
       "      <td>忘了自己是動物的人類：重思生命起源的歷史與身而為人的意義</td>\n",
       "      <td>9789864779376</td>\n",
       "      <td>忘自己動物人類重思生命起源歷史身為人意義最優美生命起源敘事重思人類身為動物美麗哀愁英美加德義...</td>\n",
       "    </tr>\n",
       "    <tr>\n",
       "      <th>4</th>\n",
       "      <td>西方憑什麼：五萬年人類大歷史，破解中國落後之謎</td>\n",
       "      <td>9789868271272</td>\n",
       "      <td>西方憑什麼五萬年人類大歷史破解中國落後之謎 美國筆會書獎德國GetAbstract國際財經書...</td>\n",
       "    </tr>\n",
       "  </tbody>\n",
       "</table>\n",
       "</div>"
      ],
      "text/plain": [
       "                                             書名           ISBN  \\\n",
       "0  瞄過一眼就忘不了的世界史：高中老師╳神級YouTuber 2，000萬次點閱的超人氣課程  9789863844433   \n",
       "1                大戰略：耶魯大學長紅20年大師課程，從歷史提煉的領導決策心法  9789570856712   \n",
       "2                                 歷史學的探究與實作操作手冊  9789570533446   \n",
       "3                  忘了自己是動物的人類：重思生命起源的歷史與身而為人的意義  9789864779376   \n",
       "4                       西方憑什麼：五萬年人類大歷史，破解中國落後之謎  9789868271272   \n",
       "\n",
       "                                               words  \n",
       "0  瞄過一眼忘不世界史高中老師神級YouTur 2000萬次點閱超人氣課程高中老師神級YouTu...  \n",
       "1  大戰略耶魯大學長紅20年大師課程從歷史提煉領導決策心法金石堂強力推薦書 耶魯大學長紅20年戰...  \n",
       "2  歷史學探究實作操作手冊108課綱歷史科目探究實作課程規劃設計參考指南一次解決 主題設定課程活...  \n",
       "3  忘自己動物人類重思生命起源歷史身為人意義最優美生命起源敘事重思人類身為動物美麗哀愁英美加德義...  \n",
       "4  西方憑什麼五萬年人類大歷史破解中國落後之謎 美國筆會書獎德國GetAbstract國際財經書...  "
      ]
     },
     "execution_count": 11,
     "metadata": {},
     "output_type": "execute_result"
    }
   ],
   "source": [
    "df.head()"
   ]
  },
  {
   "cell_type": "code",
   "execution_count": 12,
   "id": "8bd573ba",
   "metadata": {},
   "outputs": [],
   "source": [
    "jieba.set_dictionary('./dict.txt.big')"
   ]
  },
  {
   "cell_type": "code",
   "execution_count": 13,
   "id": "8dae01d3",
   "metadata": {},
   "outputs": [],
   "source": [
    "df_1=df.iloc[:500,:]"
   ]
  },
  {
   "cell_type": "code",
   "execution_count": 14,
   "id": "2510a7cc",
   "metadata": {},
   "outputs": [
    {
     "name": "stderr",
     "output_type": "stream",
     "text": [
      "Building prefix dict from C:\\Users\\Tibame\\Desktop\\readmoo\\dict.txt.big ...\n",
      "Loading model from cache C:\\Users\\Tibame\\AppData\\Local\\Temp\\jieba.u6479a9542c539c09597b2dcade53eab6.cache\n",
      "Loading model cost 1.023 seconds.\n",
      "Prefix dict has been built successfully.\n",
      "C:\\Users\\Tibame\\AppData\\Local\\Temp/ipykernel_12404/1213286939.py:6: SettingWithCopyWarning: \n",
      "A value is trying to be set on a copy of a slice from a DataFrame.\n",
      "Try using .loc[row_indexer,col_indexer] = value instead\n",
      "\n",
      "See the caveats in the documentation: https://pandas.pydata.org/pandas-docs/stable/user_guide/indexing.html#returning-a-view-versus-a-copy\n",
      "  df_1['cut_word']=df_1['words'].apply(cut_word)\n"
     ]
    }
   ],
   "source": [
    "def cut_word(word):\n",
    "    cw=jieba.cut(word)\n",
    "    result=' '.join(cw)\n",
    "    tags=jieba.analyse.extract_tags(result,topK=10,allowPOS=('n','ns','nz'))\n",
    "    return ','.join(tags)\n",
    "df_1['cut_word']=df_1['words'].apply(cut_word)"
   ]
  },
  {
   "cell_type": "code",
   "execution_count": 15,
   "id": "fbf8039f",
   "metadata": {},
   "outputs": [],
   "source": [
    "# def cut_word(word):\n",
    "# #     cw=jieba.cut(word)\n",
    "# #     result=' '.join(cw)\n",
    "#     tags=nlp(word)\n",
    "#     a = []\n",
    "#     for token in tags:\n",
    "#         print(token.text, token.pos_, token.dep_)\n",
    "#         a.append(token.text)\n",
    "#     return ','.join(a)\n",
    "# df_1['cut_word']=df_1['words'].apply(cut_word)\n"
   ]
  },
  {
   "cell_type": "code",
   "execution_count": 16,
   "id": "1cdba790",
   "metadata": {},
   "outputs": [
    {
     "data": {
      "text/html": [
       "<div>\n",
       "<style scoped>\n",
       "    .dataframe tbody tr th:only-of-type {\n",
       "        vertical-align: middle;\n",
       "    }\n",
       "\n",
       "    .dataframe tbody tr th {\n",
       "        vertical-align: top;\n",
       "    }\n",
       "\n",
       "    .dataframe thead th {\n",
       "        text-align: right;\n",
       "    }\n",
       "</style>\n",
       "<table border=\"1\" class=\"dataframe\">\n",
       "  <thead>\n",
       "    <tr style=\"text-align: right;\">\n",
       "      <th></th>\n",
       "      <th>書名</th>\n",
       "      <th>ISBN</th>\n",
       "      <th>words</th>\n",
       "      <th>cut_word</th>\n",
       "    </tr>\n",
       "  </thead>\n",
       "  <tbody>\n",
       "    <tr>\n",
       "      <th>0</th>\n",
       "      <td>瞄過一眼就忘不了的世界史：高中老師╳神級YouTuber 2，000萬次點閱的超人氣課程</td>\n",
       "      <td>9789863844433</td>\n",
       "      <td>瞄過一眼忘不世界史高中老師神級YouTur 2000萬次點閱超人氣課程高中老師神級YouTu...</td>\n",
       "      <td>世界史,神級,年表,死背,事件,高分,故事,特色,分章,整理</td>\n",
       "    </tr>\n",
       "    <tr>\n",
       "      <th>1</th>\n",
       "      <td>大戰略：耶魯大學長紅20年大師課程，從歷史提煉的領導決策心法</td>\n",
       "      <td>9789570856712</td>\n",
       "      <td>大戰略耶魯大學長紅20年大師課程從歷史提煉領導決策心法金石堂強力推薦書 耶魯大學長紅20年戰...</td>\n",
       "      <td>狐狸,學程,政策,心法,政治,全局,同事,方式,原本,人才</td>\n",
       "    </tr>\n",
       "    <tr>\n",
       "      <th>2</th>\n",
       "      <td>歷史學的探究與實作操作手冊</td>\n",
       "      <td>9789570533446</td>\n",
       "      <td>歷史學探究實作操作手冊108課綱歷史科目探究實作課程規劃設計參考指南一次解決 主題設定課程活...</td>\n",
       "      <td>課綱,全彩,桌遊,社群,作品,答案,成果,依序,大眾,概念</td>\n",
       "    </tr>\n",
       "    <tr>\n",
       "      <th>3</th>\n",
       "      <td>忘了自己是動物的人類：重思生命起源的歷史與身而為人的意義</td>\n",
       "      <td>9789864779376</td>\n",
       "      <td>忘自己動物人類重思生命起源歷史身為人意義最優美生命起源敘事重思人類身為動物美麗哀愁英美加德義...</td>\n",
       "      <td>台灣,起源,星球,人性,狂想,故事,義荷,葡俄西,將人,將身</td>\n",
       "    </tr>\n",
       "    <tr>\n",
       "      <th>4</th>\n",
       "      <td>西方憑什麼：五萬年人類大歷史，破解中國落後之謎</td>\n",
       "      <td>9789868271272</td>\n",
       "      <td>西方憑什麼五萬年人類大歷史破解中國落後之謎 美國筆會書獎德國GetAbstract國際財經書...</td>\n",
       "      <td>書獎,地理,病菌,中西,前人,女王,冰帽,主宰世界,旁徵博引,眾議</td>\n",
       "    </tr>\n",
       "  </tbody>\n",
       "</table>\n",
       "</div>"
      ],
      "text/plain": [
       "                                             書名           ISBN  \\\n",
       "0  瞄過一眼就忘不了的世界史：高中老師╳神級YouTuber 2，000萬次點閱的超人氣課程  9789863844433   \n",
       "1                大戰略：耶魯大學長紅20年大師課程，從歷史提煉的領導決策心法  9789570856712   \n",
       "2                                 歷史學的探究與實作操作手冊  9789570533446   \n",
       "3                  忘了自己是動物的人類：重思生命起源的歷史與身而為人的意義  9789864779376   \n",
       "4                       西方憑什麼：五萬年人類大歷史，破解中國落後之謎  9789868271272   \n",
       "\n",
       "                                               words  \\\n",
       "0  瞄過一眼忘不世界史高中老師神級YouTur 2000萬次點閱超人氣課程高中老師神級YouTu...   \n",
       "1  大戰略耶魯大學長紅20年大師課程從歷史提煉領導決策心法金石堂強力推薦書 耶魯大學長紅20年戰...   \n",
       "2  歷史學探究實作操作手冊108課綱歷史科目探究實作課程規劃設計參考指南一次解決 主題設定課程活...   \n",
       "3  忘自己動物人類重思生命起源歷史身為人意義最優美生命起源敘事重思人類身為動物美麗哀愁英美加德義...   \n",
       "4  西方憑什麼五萬年人類大歷史破解中國落後之謎 美國筆會書獎德國GetAbstract國際財經書...   \n",
       "\n",
       "                            cut_word  \n",
       "0     世界史,神級,年表,死背,事件,高分,故事,特色,分章,整理  \n",
       "1      狐狸,學程,政策,心法,政治,全局,同事,方式,原本,人才  \n",
       "2      課綱,全彩,桌遊,社群,作品,答案,成果,依序,大眾,概念  \n",
       "3     台灣,起源,星球,人性,狂想,故事,義荷,葡俄西,將人,將身  \n",
       "4  書獎,地理,病菌,中西,前人,女王,冰帽,主宰世界,旁徵博引,眾議  "
      ]
     },
     "execution_count": 16,
     "metadata": {},
     "output_type": "execute_result"
    }
   ],
   "source": [
    "df_1.head()"
   ]
  },
  {
   "cell_type": "code",
   "execution_count": 17,
   "id": "34cd7cee",
   "metadata": {},
   "outputs": [],
   "source": [
    "dummies=  df_1['cut_word'].str.get_dummies(',')"
   ]
  },
  {
   "cell_type": "code",
   "execution_count": 18,
   "id": "fc6e8488",
   "metadata": {},
   "outputs": [
    {
     "data": {
      "text/html": [
       "<div>\n",
       "<style scoped>\n",
       "    .dataframe tbody tr th:only-of-type {\n",
       "        vertical-align: middle;\n",
       "    }\n",
       "\n",
       "    .dataframe tbody tr th {\n",
       "        vertical-align: top;\n",
       "    }\n",
       "\n",
       "    .dataframe thead th {\n",
       "        text-align: right;\n",
       "    }\n",
       "</style>\n",
       "<table border=\"1\" class=\"dataframe\">\n",
       "  <thead>\n",
       "    <tr style=\"text-align: right;\">\n",
       "      <th></th>\n",
       "      <th>一串串</th>\n",
       "      <th>一介</th>\n",
       "      <th>一座座</th>\n",
       "      <th>一流</th>\n",
       "      <th>一神教</th>\n",
       "      <th>七大洲</th>\n",
       "      <th>七色</th>\n",
       "      <th>三星</th>\n",
       "      <th>三洲</th>\n",
       "      <th>三角洲</th>\n",
       "      <th>...</th>\n",
       "      <th>魔腦</th>\n",
       "      <th>黑幕</th>\n",
       "      <th>黑死病</th>\n",
       "      <th>黑洞</th>\n",
       "      <th>黑海</th>\n",
       "      <th>鼠疫</th>\n",
       "      <th>鼻屎</th>\n",
       "      <th>鼻水</th>\n",
       "      <th>龍族</th>\n",
       "      <th>龜速</th>\n",
       "    </tr>\n",
       "  </thead>\n",
       "  <tbody>\n",
       "    <tr>\n",
       "      <th>0</th>\n",
       "      <td>0</td>\n",
       "      <td>0</td>\n",
       "      <td>0</td>\n",
       "      <td>0</td>\n",
       "      <td>0</td>\n",
       "      <td>0</td>\n",
       "      <td>0</td>\n",
       "      <td>0</td>\n",
       "      <td>0</td>\n",
       "      <td>0</td>\n",
       "      <td>...</td>\n",
       "      <td>0</td>\n",
       "      <td>0</td>\n",
       "      <td>0</td>\n",
       "      <td>0</td>\n",
       "      <td>0</td>\n",
       "      <td>0</td>\n",
       "      <td>0</td>\n",
       "      <td>0</td>\n",
       "      <td>0</td>\n",
       "      <td>0</td>\n",
       "    </tr>\n",
       "    <tr>\n",
       "      <th>1</th>\n",
       "      <td>0</td>\n",
       "      <td>0</td>\n",
       "      <td>0</td>\n",
       "      <td>0</td>\n",
       "      <td>0</td>\n",
       "      <td>0</td>\n",
       "      <td>0</td>\n",
       "      <td>0</td>\n",
       "      <td>0</td>\n",
       "      <td>0</td>\n",
       "      <td>...</td>\n",
       "      <td>0</td>\n",
       "      <td>0</td>\n",
       "      <td>0</td>\n",
       "      <td>0</td>\n",
       "      <td>0</td>\n",
       "      <td>0</td>\n",
       "      <td>0</td>\n",
       "      <td>0</td>\n",
       "      <td>0</td>\n",
       "      <td>0</td>\n",
       "    </tr>\n",
       "    <tr>\n",
       "      <th>2</th>\n",
       "      <td>0</td>\n",
       "      <td>0</td>\n",
       "      <td>0</td>\n",
       "      <td>0</td>\n",
       "      <td>0</td>\n",
       "      <td>0</td>\n",
       "      <td>0</td>\n",
       "      <td>0</td>\n",
       "      <td>0</td>\n",
       "      <td>0</td>\n",
       "      <td>...</td>\n",
       "      <td>0</td>\n",
       "      <td>0</td>\n",
       "      <td>0</td>\n",
       "      <td>0</td>\n",
       "      <td>0</td>\n",
       "      <td>0</td>\n",
       "      <td>0</td>\n",
       "      <td>0</td>\n",
       "      <td>0</td>\n",
       "      <td>0</td>\n",
       "    </tr>\n",
       "    <tr>\n",
       "      <th>3</th>\n",
       "      <td>0</td>\n",
       "      <td>0</td>\n",
       "      <td>0</td>\n",
       "      <td>0</td>\n",
       "      <td>0</td>\n",
       "      <td>0</td>\n",
       "      <td>0</td>\n",
       "      <td>0</td>\n",
       "      <td>0</td>\n",
       "      <td>0</td>\n",
       "      <td>...</td>\n",
       "      <td>0</td>\n",
       "      <td>0</td>\n",
       "      <td>0</td>\n",
       "      <td>0</td>\n",
       "      <td>0</td>\n",
       "      <td>0</td>\n",
       "      <td>0</td>\n",
       "      <td>0</td>\n",
       "      <td>0</td>\n",
       "      <td>0</td>\n",
       "    </tr>\n",
       "    <tr>\n",
       "      <th>4</th>\n",
       "      <td>0</td>\n",
       "      <td>0</td>\n",
       "      <td>0</td>\n",
       "      <td>0</td>\n",
       "      <td>0</td>\n",
       "      <td>0</td>\n",
       "      <td>0</td>\n",
       "      <td>0</td>\n",
       "      <td>0</td>\n",
       "      <td>0</td>\n",
       "      <td>...</td>\n",
       "      <td>0</td>\n",
       "      <td>0</td>\n",
       "      <td>0</td>\n",
       "      <td>0</td>\n",
       "      <td>0</td>\n",
       "      <td>0</td>\n",
       "      <td>0</td>\n",
       "      <td>0</td>\n",
       "      <td>0</td>\n",
       "      <td>0</td>\n",
       "    </tr>\n",
       "  </tbody>\n",
       "</table>\n",
       "<p>5 rows × 1904 columns</p>\n",
       "</div>"
      ],
      "text/plain": [
       "   一串串  一介  一座座  一流  一神教  七大洲  七色  三星  三洲  三角洲  ...  魔腦  黑幕  黑死病  黑洞  黑海  鼠疫  \\\n",
       "0    0   0    0   0    0    0   0   0   0    0  ...   0   0    0   0   0   0   \n",
       "1    0   0    0   0    0    0   0   0   0    0  ...   0   0    0   0   0   0   \n",
       "2    0   0    0   0    0    0   0   0   0    0  ...   0   0    0   0   0   0   \n",
       "3    0   0    0   0    0    0   0   0   0    0  ...   0   0    0   0   0   0   \n",
       "4    0   0    0   0    0    0   0   0   0    0  ...   0   0    0   0   0   0   \n",
       "\n",
       "   鼻屎  鼻水  龍族  龜速  \n",
       "0   0   0   0   0  \n",
       "1   0   0   0   0  \n",
       "2   0   0   0   0  \n",
       "3   0   0   0   0  \n",
       "4   0   0   0   0  \n",
       "\n",
       "[5 rows x 1904 columns]"
      ]
     },
     "execution_count": 18,
     "metadata": {},
     "output_type": "execute_result"
    }
   ],
   "source": [
    "dummies.head()"
   ]
  },
  {
   "cell_type": "code",
   "execution_count": 19,
   "id": "b69970ab",
   "metadata": {},
   "outputs": [],
   "source": [
    "X = dummies.values\n",
    "pca = PCA(n_components=2, whiten=True).fit(X)  \n",
    "X_pca = pca.transform(X)"
   ]
  },
  {
   "cell_type": "code",
   "execution_count": 20,
   "id": "b10618d6",
   "metadata": {},
   "outputs": [
    {
     "name": "stdout",
     "output_type": "stream",
     "text": [
      "[3 0 0 3 0 3 3 0 0 2 1 1 3 0 0 0 1 0 0 0 0 3 0 1 1 1 0 2 0 0 0 0 1 1 1 1 0\n",
      " 1 0 1 0 2 1 3 2 0 1 2 2 1 1 1 1 0 0 1 3 1 0 1 3 0 3 1 0 1 0 1 1 1 0 0 0 0\n",
      " 0 0 3 0 0 0 0 0 0 0 0 0 1 2 0 0 0 0 1 0 2 2 2 2 1 3 1 0 0 2 1 3 0 1 1 2 1\n",
      " 1 3 1 1 1 1 3 3 0 0 0 0 0 1 1 3 0 0 2 1 1 2 0 3 0 0 0 1 2 3 1 1 1 3 1 0 1\n",
      " 0 1 0 3 3 1 0 1 2 0 0 0 1 0 1 1 0 0 2 0 0 0 0 1 2 1 1 2 0 0 0 1 0 0 0 0 1\n",
      " 0 1 0 2 0 1 1 0 3 0 1 1 0 0 3 2 2 2 0 1 2 1 1 0 0 1 0 3 0 1 1 1 1 3 1 1 0\n",
      " 3 1 3 1 1 1 0 3 3 3 0 2 2 0 0 1 2 1 3 0 0 0 0 0 1 0 0 0 0 1 0 0 0 0 0 2 3\n",
      " 0 1 0 0 0 3 0 0 0 0 0 0 3 3 3 2 2 1 1 0 0 0 0 0 1 0 0 0 0 0 0 0 0 1 0 0 3\n",
      " 1 1 0 1 0 0 0 1 0 0 0 0 0 1 0 0 0 0 0 0 0 1 1 0 1 0 2 1 0 0 0 0 0 3 0 1 0\n",
      " 2 2 0 0 0 1 1 0 0 0 0 3 0 2 2 0 0 0 3 0 0 0 3 3 0 0 0 0 0 0 1 0 0 1 1 0 0\n",
      " 0 0 0 0 1 0 0 0 3 0 0 0 1 3 0 0 1 0 1 2 0 1 0 1 0 0 1 0 0 0 0 0 1 0 0 1 0\n",
      " 0 3 1 0 2 0 1 1 0 0 0 0 3 0 3 0 1 2 3 1 1 3 3 1 0 0 0 2 0 0 0 1 1 0 0 0 0\n",
      " 0 0 0 0 0 0 0 1 1 0 1 2 0 1 1 0 1 0 2 0 2 0 2 2 3 1 1 0 0 0 0 1 0 0 0 0 0\n",
      " 1 0 0 0 0 0 0 3 3 0 0 0 0 1 3 1 1 0 3]\n"
     ]
    },
    {
     "name": "stderr",
     "output_type": "stream",
     "text": [
      "C:\\Users\\Tibame\\AppData\\Local\\Temp/ipykernel_12404/633169252.py:5: DeprecationWarning: `np.float` is a deprecated alias for the builtin `float`. To silence this warning, use `float` by itself. Doing this will not modify any behavior and is safe. If you specifically wanted the numpy scalar type, use `np.float64` here.\n",
      "Deprecated in NumPy 1.20; for more details and guidance: https://numpy.org/devdocs/release/1.20.0-notes.html#deprecations\n",
      "  from numpy import random, float\n"
     ]
    },
    {
     "data": {
      "image/png": "[encoded data removed]",
      "text/plain": [
       "<Figure size 576x432 with 1 Axes>"
      ]
     },
     "metadata": {
      "needs_background": "light"
     },
     "output_type": "display_data"
    }
   ],
   "source": [
    "%matplotlib inline\n",
    "from sklearn.cluster import KMeans\n",
    "import matplotlib.pyplot as plt\n",
    "from sklearn.preprocessing import scale\n",
    "from numpy import random, float\n",
    "\n",
    "model = KMeans(n_clusters=4)\n",
    "model = model.fit(scale(X_pca))       \n",
    "print(model.labels_)\n",
    "\n",
    "plt.figure(figsize=(8, 6))\n",
    "plt.scatter(X_pca[:,0], X_pca[:,1], c=model.labels_.astype(float))\n",
    "plt.show()"
   ]
  },
  {
   "cell_type": "code",
   "execution_count": 21,
   "id": "1cdfca5c",
   "metadata": {},
   "outputs": [
    {
     "name": "stdout",
     "output_type": "stream",
     "text": [
      "cluster:  0\n",
      "Index(['一介', '一座座', '一神教', '三星', '三洲', '上市', '上帝', '上獅', '上薩瓦省', '上鮮',\n",
      "       ...\n",
      "       '地中海', '地位', '地具', '地化', '地名', '地域', '地將', '地底', '地形', '地景'],\n",
      "      dtype='object', length=265)\n",
      "cluster:  1\n",
      "Index(['上古', '上古史', '上班族', '世局', '世工殤', '世界', '中南美洲', '中原', '中古', '中古史',\n",
      "       ...\n",
      "       '四大洲', '四川', '回京', '國食', '圓型', '圖話', '圭臬', '地應', '地方史', '地方志'],\n",
      "      dtype='object', length=134)\n",
      "cluster:  2\n",
      "Index(['三角洲', '世界屋脊', '中心', '中本', '中縣', '中美洲', '交融', '人事', '人人', '人口', '人口比例',\n",
      "       '人工智能', '人文', '人面', '仁者', '代金券', '何物', '作深', '使徒', '例子', '儲思', '党爭',\n",
      "       '入主中原', '入侵者', '全化', '公益', '公眾', '共派', '冰川', '列表', '初名', '南美洲', '印安',\n",
      "       '印巴', '原作', '原名', '史事', '名作', '君主', '呢喃', '善堂', '回音', '困境', '圈圈', '國帶'],\n",
      "      dtype='object')\n",
      "cluster:  3\n",
      "Index(['一串串', '一流', '七大洲', '七色', '上山下海', '不史', '中文版', '主管', '之口', '之士', '事會',\n",
      "       '人報', '人性', '人會', '人民', '人父', '人觀', '今人', '代餐', '任期制', '位何會', '位具',\n",
      "       '先民', '光采', '全彩', '全球化', '全部', '全面性', '八王', '公式', '公民', '共筆', '冰帽',\n",
      "       '出版社', '分章', '刊物', '刑具', '加快速度', '印刷工', '厚達', '原文', '原稿', '原貌', '古法',\n",
      "       '可能性', '同袍', '名校', '名震', '君士坦丁', '吠陀', '含金', '國族', '地向', '地國', '地方',\n",
      "       '地毯式'],\n",
      "      dtype='object')\n"
     ]
    }
   ],
   "source": [
    "import numpy as np\n",
    "pred_classes=model.labels_ \n",
    "\n",
    "for cluster in range(4):\n",
    "    print('cluster: ', cluster)\n",
    "    print(dummies.columns[np.where(pred_classes == cluster)])"
   ]
  },
  {
   "cell_type": "code",
   "execution_count": 22,
   "id": "435ce230",
   "metadata": {},
   "outputs": [
    {
     "data": {
      "image/png": "[encoded data removed]",
      "text/plain": [
       "<Figure size 1440x1296 with 1 Axes>"
      ]
     },
     "metadata": {
      "needs_background": "light"
     },
     "output_type": "display_data"
    }
   ],
   "source": [
    "import scipy.cluster.hierarchy as sch\n",
    "from sklearn.cluster import AgglomerativeClustering\n",
    "plt.figure(figsize=(20, 18))\n",
    "dendogram = sch.dendrogram(sch.linkage(X, method= 'ward', metric = 'euclidean'))\n",
    "cluster= AgglomerativeClustering(n_clusters  = 5)\n",
    "cluster.fit(X)\n",
    "Y_pred_dendrogram = cluster.fit_predict(X)\n",
    "plt.title('Dendrogram')\n",
    "plt.show()"
   ]
  },
  {
   "cell_type": "code",
   "execution_count": 23,
   "id": "c50ed727",
   "metadata": {},
   "outputs": [
    {
     "name": "stdout",
     "output_type": "stream",
     "text": [
      "一座座/n\n"
     ]
    }
   ],
   "source": [
    "# 引入詞性標註介面\n",
    "import jieba.posseg as psg\n",
    "\n",
    "text = \"一座座\"\n",
    "#詞性標註\n",
    "seg = psg.cut(text)\n",
    "\n",
    "#將詞性標註結果打印出來\n",
    "for ele in seg:\n",
    "    print(ele)"
   ]
  }
 ],
 "metadata": {
  "kernelspec": {
   "display_name": "Python 3 (ipykernel)",
   "language": "python",
   "name": "python3"
  },
  "language_info": {
   "codemirror_mode": {
    "name": "ipython",
    "version": 3
   },
   "file_extension": ".py",
   "mimetype": "text/x-python",
   "name": "python",
   "nbconvert_exporter": "python",
   "pygments_lexer": "ipython3",
   "version": "3.9.6"
  }
 },
 "nbformat": 4,
 "nbformat_minor": 5
}
