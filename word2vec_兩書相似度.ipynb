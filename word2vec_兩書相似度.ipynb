{
 "cells": [
  {
   "cell_type": "code",
   "execution_count": 5,
   "id": "696704f9",
   "metadata": {},
   "outputs": [],
   "source": [
    "import jieba\n",
    "import pandas as pd\n",
    "from gensim.models import Word2Vec\n",
    "import numpy as np"
   ]
  },
  {
   "cell_type": "code",
   "execution_count": 6,
   "id": "a89e2cfc",
   "metadata": {},
   "outputs": [
    {
     "data": {
      "text/html": [
       "<div>\n",
       "<style scoped>\n",
       "    .dataframe tbody tr th:only-of-type {\n",
       "        vertical-align: middle;\n",
       "    }\n",
       "\n",
       "    .dataframe tbody tr th {\n",
       "        vertical-align: top;\n",
       "    }\n",
       "\n",
       "    .dataframe thead th {\n",
       "        text-align: right;\n",
       "    }\n",
       "</style>\n",
       "<table border=\"1\" class=\"dataframe\">\n",
       "  <thead>\n",
       "    <tr style=\"text-align: right;\">\n",
       "      <th></th>\n",
       "      <th>書名</th>\n",
       "      <th>ISBN</th>\n",
       "      <th>jieba_cut</th>\n",
       "    </tr>\n",
       "  </thead>\n",
       "  <tbody>\n",
       "    <tr>\n",
       "      <th>0</th>\n",
       "      <td>詭圖：地圖歷史上最偉大的神話、謊言和謬誤（精裝）</td>\n",
       "      <td>9789869590235</td>\n",
       "      <td>全彩,高度,教授,博物,荒野,副教授,排行榜,未知,困境,揭露,大地,征服,探索,主人,整理...</td>\n",
       "    </tr>\n",
       "    <tr>\n",
       "      <th>1</th>\n",
       "      <td>瞄過一眼就忘不了的世界史：高中老師╳神級YouTuber 2，000萬次點閱的超人氣課程</td>\n",
       "      <td>9789863844433</td>\n",
       "      <td>世界史,神級,考前,年表,死背,事件,高分,故事,好看,特色,分章,整理,不用,瞄過,狂銷,...</td>\n",
       "    </tr>\n",
       "    <tr>\n",
       "      <th>2</th>\n",
       "      <td>忘了自己是動物的人類：重思生命起源的歷史與身而為人的意義</td>\n",
       "      <td>9789864779376</td>\n",
       "      <td>認為,身為,台灣,起源,思考,星球,人性,狂想,故事,義荷,葡俄西,視為,將人,將身,作為,...</td>\n",
       "    </tr>\n",
       "    <tr>\n",
       "      <th>3</th>\n",
       "      <td>大戰略：耶魯大學長紅20年大師課程，從歷史提煉的領導決策心法</td>\n",
       "      <td>9789570856712</td>\n",
       "      <td>狐狸,甘迺迪,掌握,學程,失準,政策,心法,探看,政治,全局,跨越,同事,思考,方式,原本,...</td>\n",
       "    </tr>\n",
       "    <tr>\n",
       "      <th>4</th>\n",
       "      <td>2021世界年鑑</td>\n",
       "      <td>9789869278799</td>\n",
       "      <td>疫情,全球,大事,反送,肆虐,入主,肺炎,世界,深入,整理,香港,全面,控制,北京</td>\n",
       "    </tr>\n",
       "  </tbody>\n",
       "</table>\n",
       "</div>"
      ],
      "text/plain": [
       "                                             書名           ISBN  \\\n",
       "0                      詭圖：地圖歷史上最偉大的神話、謊言和謬誤（精裝）  9789869590235   \n",
       "1  瞄過一眼就忘不了的世界史：高中老師╳神級YouTuber 2，000萬次點閱的超人氣課程  9789863844433   \n",
       "2                  忘了自己是動物的人類：重思生命起源的歷史與身而為人的意義  9789864779376   \n",
       "3                大戰略：耶魯大學長紅20年大師課程，從歷史提煉的領導決策心法  9789570856712   \n",
       "4                                      2021世界年鑑  9789869278799   \n",
       "\n",
       "                                           jieba_cut  \n",
       "0  全彩,高度,教授,博物,荒野,副教授,排行榜,未知,困境,揭露,大地,征服,探索,主人,整理...  \n",
       "1  世界史,神級,考前,年表,死背,事件,高分,故事,好看,特色,分章,整理,不用,瞄過,狂銷,...  \n",
       "2  認為,身為,台灣,起源,思考,星球,人性,狂想,故事,義荷,葡俄西,視為,將人,將身,作為,...  \n",
       "3  狐狸,甘迺迪,掌握,學程,失準,政策,心法,探看,政治,全局,跨越,同事,思考,方式,原本,...  \n",
       "4          疫情,全球,大事,反送,肆虐,入主,肺炎,世界,深入,整理,香港,全面,控制,北京  "
      ]
     },
     "execution_count": 6,
     "metadata": {},
     "output_type": "execute_result"
    }
   ],
   "source": [
    "df_all=pd.read_json('./jieba_top40.json',lines=True)\n",
    "del df_all['_id']\n",
    "df_all.head()"
   ]
  },
  {
   "cell_type": "code",
   "execution_count": 7,
   "id": "4443e5bb",
   "metadata": {},
   "outputs": [
    {
     "data": {
      "text/html": [
       "<div>\n",
       "<style scoped>\n",
       "    .dataframe tbody tr th:only-of-type {\n",
       "        vertical-align: middle;\n",
       "    }\n",
       "\n",
       "    .dataframe tbody tr th {\n",
       "        vertical-align: top;\n",
       "    }\n",
       "\n",
       "    .dataframe thead th {\n",
       "        text-align: right;\n",
       "    }\n",
       "</style>\n",
       "<table border=\"1\" class=\"dataframe\">\n",
       "  <thead>\n",
       "    <tr style=\"text-align: right;\">\n",
       "      <th></th>\n",
       "      <th>ISBN</th>\n",
       "    </tr>\n",
       "  </thead>\n",
       "  <tbody>\n",
       "    <tr>\n",
       "      <th>0</th>\n",
       "      <td>9789863844433</td>\n",
       "    </tr>\n",
       "    <tr>\n",
       "      <th>1</th>\n",
       "      <td>9789570856712</td>\n",
       "    </tr>\n",
       "    <tr>\n",
       "      <th>2</th>\n",
       "      <td>9789570856712</td>\n",
       "    </tr>\n",
       "    <tr>\n",
       "      <th>3</th>\n",
       "      <td>9789868271272</td>\n",
       "    </tr>\n",
       "    <tr>\n",
       "      <th>4</th>\n",
       "      <td>9789868271272</td>\n",
       "    </tr>\n",
       "  </tbody>\n",
       "</table>\n",
       "</div>"
      ],
      "text/plain": [
       "            ISBN\n",
       "0  9789863844433\n",
       "1  9789570856712\n",
       "2  9789570856712\n",
       "3  9789868271272\n",
       "4  9789868271272"
      ]
     },
     "execution_count": 7,
     "metadata": {},
     "output_type": "execute_result"
    }
   ],
   "source": [
    "userstar_df=pd.read_csv('./userstar.csv')\n",
    "del userstar_df['USERSTAR']\n",
    "del userstar_df['CONTENT']\n",
    "del userstar_df['USER']\n",
    "del userstar_df['words']\n",
    "del userstar_df['書名']\n",
    "userstar_df.head()"
   ]
  },
  {
   "cell_type": "code",
   "execution_count": 8,
   "id": "58ada826",
   "metadata": {},
   "outputs": [
    {
     "data": {
      "text/plain": [
       "(57641, 1)"
      ]
     },
     "execution_count": 8,
     "metadata": {},
     "output_type": "execute_result"
    }
   ],
   "source": [
    "userstar_df.shape"
   ]
  },
  {
   "cell_type": "code",
   "execution_count": 9,
   "id": "d47e7f8d",
   "metadata": {},
   "outputs": [
    {
     "data": {
      "text/html": [
       "<div>\n",
       "<style scoped>\n",
       "    .dataframe tbody tr th:only-of-type {\n",
       "        vertical-align: middle;\n",
       "    }\n",
       "\n",
       "    .dataframe tbody tr th {\n",
       "        vertical-align: top;\n",
       "    }\n",
       "\n",
       "    .dataframe thead th {\n",
       "        text-align: right;\n",
       "    }\n",
       "</style>\n",
       "<table border=\"1\" class=\"dataframe\">\n",
       "  <thead>\n",
       "    <tr style=\"text-align: right;\">\n",
       "      <th></th>\n",
       "      <th>書名</th>\n",
       "      <th>ISBN</th>\n",
       "      <th>jieba_cut</th>\n",
       "    </tr>\n",
       "  </thead>\n",
       "  <tbody>\n",
       "    <tr>\n",
       "      <th>0</th>\n",
       "      <td>瞄過一眼就忘不了的世界史：高中老師╳神級YouTuber 2，000萬次點閱的超人氣課程</td>\n",
       "      <td>9789863844433</td>\n",
       "      <td>世界史,神級,考前,年表,死背,事件,高分,故事,好看,特色,分章,整理,不用,瞄過,狂銷,...</td>\n",
       "    </tr>\n",
       "    <tr>\n",
       "      <th>1</th>\n",
       "      <td>大戰略：耶魯大學長紅20年大師課程，從歷史提煉的領導決策心法</td>\n",
       "      <td>9789570856712</td>\n",
       "      <td>狐狸,甘迺迪,掌握,學程,失準,政策,心法,探看,政治,全局,跨越,同事,思考,方式,原本,...</td>\n",
       "    </tr>\n",
       "    <tr>\n",
       "      <th>2</th>\n",
       "      <td>大戰略：耶魯大學長紅20年大師課程，從歷史提煉的領導決策心法</td>\n",
       "      <td>9789570856712</td>\n",
       "      <td>狐狸,甘迺迪,掌握,學程,失準,政策,心法,探看,政治,全局,跨越,同事,思考,方式,原本,...</td>\n",
       "    </tr>\n",
       "    <tr>\n",
       "      <th>3</th>\n",
       "      <td>跟史家一起創作：近代史學的閱讀方法與寫作技藝</td>\n",
       "      <td>9789865080747</td>\n",
       "      <td>史家,人文,文史,受用,案例,江湖,方法,思考力,故事,工具,文史系,實作力,課綱,人能,能...</td>\n",
       "    </tr>\n",
       "    <tr>\n",
       "      <th>4</th>\n",
       "      <td>歷史學柑仔店 1</td>\n",
       "      <td>9789869865661</td>\n",
       "      <td>柑仔店,大眾,店小二,公眾,文章,史料,思考,巷仔口,共筆,能店,人客,性共筆,青壯輩,民眾...</td>\n",
       "    </tr>\n",
       "  </tbody>\n",
       "</table>\n",
       "</div>"
      ],
      "text/plain": [
       "                                             書名           ISBN  \\\n",
       "0  瞄過一眼就忘不了的世界史：高中老師╳神級YouTuber 2，000萬次點閱的超人氣課程  9789863844433   \n",
       "1                大戰略：耶魯大學長紅20年大師課程，從歷史提煉的領導決策心法  9789570856712   \n",
       "2                大戰略：耶魯大學長紅20年大師課程，從歷史提煉的領導決策心法  9789570856712   \n",
       "3                        跟史家一起創作：近代史學的閱讀方法與寫作技藝  9789865080747   \n",
       "4                                      歷史學柑仔店 1  9789869865661   \n",
       "\n",
       "                                           jieba_cut  \n",
       "0  世界史,神級,考前,年表,死背,事件,高分,故事,好看,特色,分章,整理,不用,瞄過,狂銷,...  \n",
       "1  狐狸,甘迺迪,掌握,學程,失準,政策,心法,探看,政治,全局,跨越,同事,思考,方式,原本,...  \n",
       "2  狐狸,甘迺迪,掌握,學程,失準,政策,心法,探看,政治,全局,跨越,同事,思考,方式,原本,...  \n",
       "3  史家,人文,文史,受用,案例,江湖,方法,思考力,故事,工具,文史系,實作力,課綱,人能,能...  \n",
       "4  柑仔店,大眾,店小二,公眾,文章,史料,思考,巷仔口,共筆,能店,人客,性共筆,青壯輩,民眾...  "
      ]
     },
     "execution_count": 9,
     "metadata": {},
     "output_type": "execute_result"
    }
   ],
   "source": [
    "df_all['ISBN'] =df_all['ISBN'].astype('str') \n",
    "userstar_df['ISBN'] = userstar_df['ISBN'].astype('str') \n",
    "df=pd.merge(df_all,userstar_df,on=['ISBN'],how='inner')\n",
    "df.head()"
   ]
  },
  {
   "cell_type": "code",
   "execution_count": 10,
   "id": "b50f0668",
   "metadata": {},
   "outputs": [
    {
     "data": {
      "text/html": [
       "<div>\n",
       "<style scoped>\n",
       "    .dataframe tbody tr th:only-of-type {\n",
       "        vertical-align: middle;\n",
       "    }\n",
       "\n",
       "    .dataframe tbody tr th {\n",
       "        vertical-align: top;\n",
       "    }\n",
       "\n",
       "    .dataframe thead th {\n",
       "        text-align: right;\n",
       "    }\n",
       "</style>\n",
       "<table border=\"1\" class=\"dataframe\">\n",
       "  <thead>\n",
       "    <tr style=\"text-align: right;\">\n",
       "      <th></th>\n",
       "      <th>書名</th>\n",
       "      <th>ISBN</th>\n",
       "      <th>jieba_cut</th>\n",
       "    </tr>\n",
       "  </thead>\n",
       "  <tbody>\n",
       "    <tr>\n",
       "      <th>0</th>\n",
       "      <td>瞄過一眼就忘不了的世界史：高中老師╳神級YouTuber 2，000萬次點閱的超人氣課程</td>\n",
       "      <td>9789863844433</td>\n",
       "      <td>世界史,神級,考前,年表,死背,事件,高分,故事,好看,特色,分章,整理,不用,瞄過,狂銷,...</td>\n",
       "    </tr>\n",
       "    <tr>\n",
       "      <th>1</th>\n",
       "      <td>大戰略：耶魯大學長紅20年大師課程，從歷史提煉的領導決策心法</td>\n",
       "      <td>9789570856712</td>\n",
       "      <td>狐狸,甘迺迪,掌握,學程,失準,政策,心法,探看,政治,全局,跨越,同事,思考,方式,原本,...</td>\n",
       "    </tr>\n",
       "    <tr>\n",
       "      <th>2</th>\n",
       "      <td>跟史家一起創作：近代史學的閱讀方法與寫作技藝</td>\n",
       "      <td>9789865080747</td>\n",
       "      <td>史家,人文,文史,受用,案例,江湖,方法,思考力,故事,工具,文史系,實作力,課綱,人能,能...</td>\n",
       "    </tr>\n",
       "    <tr>\n",
       "      <th>3</th>\n",
       "      <td>歷史學柑仔店 1</td>\n",
       "      <td>9789869865661</td>\n",
       "      <td>柑仔店,大眾,店小二,公眾,文章,史料,思考,巷仔口,共筆,能店,人客,性共筆,青壯輩,民眾...</td>\n",
       "    </tr>\n",
       "    <tr>\n",
       "      <th>4</th>\n",
       "      <td>西方憑什麼：五萬年人類大歷史，破解中國落後之謎</td>\n",
       "      <td>9789868271272</td>\n",
       "      <td>書獎,地理,病菌,中西,前人,女王,衰退,征服,冰帽,主宰世界,力排,旁徵博引,認為,眾議,...</td>\n",
       "    </tr>\n",
       "    <tr>\n",
       "      <th>...</th>\n",
       "      <td>...</td>\n",
       "      <td>...</td>\n",
       "      <td>...</td>\n",
       "    </tr>\n",
       "    <tr>\n",
       "      <th>28775</th>\n",
       "      <td>城市獵人35</td>\n",
       "      <td>9789571305943</td>\n",
       "      <td>爆笑,生本,剛縣,賞為,手塚治虫,賞以,獠成,成版,久美,名噪,全本,卡通,投稿,男主角,女...</td>\n",
       "    </tr>\n",
       "    <tr>\n",
       "      <th>28776</th>\n",
       "      <td>怪奇檔案全</td>\n",
       "      <td>9789573464747</td>\n",
       "      <td>野出志,巨匠,怪病,留下</td>\n",
       "    </tr>\n",
       "    <tr>\n",
       "      <th>28777</th>\n",
       "      <td>阿保的童話</td>\n",
       "      <td>9789576930041</td>\n",
       "      <td>開啟,寄情,映象,孩童,有情,意境,成年人,天地,天空,故事,得到</td>\n",
       "    </tr>\n",
       "    <tr>\n",
       "      <th>28778</th>\n",
       "      <td>小鎮人家</td>\n",
       "      <td>9789576930058</td>\n",
       "      <td>散文,美代,失鏡,人家,寓言,憎恨,哲理,想像,有如,事件</td>\n",
       "    </tr>\n",
       "    <tr>\n",
       "      <th>28779</th>\n",
       "      <td>森林小語</td>\n",
       "      <td>9789576930072</td>\n",
       "      <td>小語,留白,森林,省略,趣味,想像,懂得,文字</td>\n",
       "    </tr>\n",
       "  </tbody>\n",
       "</table>\n",
       "<p>28780 rows × 3 columns</p>\n",
       "</div>"
      ],
      "text/plain": [
       "                                                 書名           ISBN  \\\n",
       "0      瞄過一眼就忘不了的世界史：高中老師╳神級YouTuber 2，000萬次點閱的超人氣課程  9789863844433   \n",
       "1                    大戰略：耶魯大學長紅20年大師課程，從歷史提煉的領導決策心法  9789570856712   \n",
       "2                            跟史家一起創作：近代史學的閱讀方法與寫作技藝  9789865080747   \n",
       "3                                          歷史學柑仔店 1  9789869865661   \n",
       "4                           西方憑什麼：五萬年人類大歷史，破解中國落後之謎  9789868271272   \n",
       "...                                             ...            ...   \n",
       "28775                                        城市獵人35  9789571305943   \n",
       "28776                                         怪奇檔案全  9789573464747   \n",
       "28777                                         阿保的童話  9789576930041   \n",
       "28778                                          小鎮人家  9789576930058   \n",
       "28779                                          森林小語  9789576930072   \n",
       "\n",
       "                                               jieba_cut  \n",
       "0      世界史,神級,考前,年表,死背,事件,高分,故事,好看,特色,分章,整理,不用,瞄過,狂銷,...  \n",
       "1      狐狸,甘迺迪,掌握,學程,失準,政策,心法,探看,政治,全局,跨越,同事,思考,方式,原本,...  \n",
       "2      史家,人文,文史,受用,案例,江湖,方法,思考力,故事,工具,文史系,實作力,課綱,人能,能...  \n",
       "3      柑仔店,大眾,店小二,公眾,文章,史料,思考,巷仔口,共筆,能店,人客,性共筆,青壯輩,民眾...  \n",
       "4      書獎,地理,病菌,中西,前人,女王,衰退,征服,冰帽,主宰世界,力排,旁徵博引,認為,眾議,...  \n",
       "...                                                  ...  \n",
       "28775  爆笑,生本,剛縣,賞為,手塚治虫,賞以,獠成,成版,久美,名噪,全本,卡通,投稿,男主角,女...  \n",
       "28776                                       野出志,巨匠,怪病,留下  \n",
       "28777                  開啟,寄情,映象,孩童,有情,意境,成年人,天地,天空,故事,得到  \n",
       "28778                      散文,美代,失鏡,人家,寓言,憎恨,哲理,想像,有如,事件  \n",
       "28779                            小語,留白,森林,省略,趣味,想像,懂得,文字  \n",
       "\n",
       "[28780 rows x 3 columns]"
      ]
     },
     "execution_count": 10,
     "metadata": {},
     "output_type": "execute_result"
    }
   ],
   "source": [
    "df=df.drop_duplicates(subset=['ISBN','jieba_cut'],ignore_index=True)\n",
    "df"
   ]
  },
  {
   "cell_type": "code",
   "execution_count": 11,
   "id": "91bce43d",
   "metadata": {},
   "outputs": [],
   "source": [
    "# 把str轉成list \n",
    "df['jieba_list']=df.jieba_cut.apply(lambda x:x.split(','))"
   ]
  },
  {
   "cell_type": "code",
   "execution_count": 12,
   "id": "6680ed5f",
   "metadata": {},
   "outputs": [
    {
     "name": "stdout",
     "output_type": "stream",
     "text": [
      "                    書名           ISBN  \\\n",
      "8551  長生外傳：霸道總裁愛上我 （上）  9789865051112   \n",
      "\n",
      "                                             jieba_cut  \\\n",
      "8551  霸道,陌生人,好像,初吻,前求,作為,存封,心扉,溜走,自持,敲打,眼神,直至,不成,男人,建立   \n",
      "\n",
      "                                             jieba_list  \n",
      "8551  [霸道, 陌生人, 好像, 初吻, 前求, 作為, 存封, 心扉, 溜走, 自持, 敲打, ...  \n",
      "         書名           ISBN                jieba_cut  \\\n",
      "28779  森林小語  9789576930072  小語,留白,森林,省略,趣味,想像,懂得,文字   \n",
      "\n",
      "                             jieba_list  \n",
      "28779  [小語, 留白, 森林, 省略, 趣味, 想像, 懂得, 文字]  \n"
     ]
    }
   ],
   "source": [
    "# 隨機找兩本書\n",
    "print(df[df.ISBN=='9789865051112'])\n",
    "print(df[df.ISBN=='9789576930072'])"
   ]
  },
  {
   "cell_type": "code",
   "execution_count": 13,
   "id": "b778cfee",
   "metadata": {},
   "outputs": [],
   "source": [
    "# 結合全部jieba_list\n",
    "jieba_list=df.jieba_list.tolist()"
   ]
  },
  {
   "cell_type": "code",
   "execution_count": null,
   "id": "5a0a4dbe",
   "metadata": {
    "code_folding": []
   },
   "outputs": [],
   "source": [
    "# 建立模型\n",
    "# model = Word2Vec(jieba_list, vector_size=100,min_count=1,workers=7, window =3, sg = 1) #size=50"
   ]
  },
  {
   "cell_type": "code",
   "execution_count": 14,
   "id": "6a8e1e2c",
   "metadata": {},
   "outputs": [],
   "source": [
    "# 存出 存取模型\n",
    "# model = Word2Vec.save(\"word2vec_book_gensim.model\")\n",
    "model = Word2Vec.load(\"word2vec_book_gensim.model\")"
   ]
  },
  {
   "cell_type": "code",
   "execution_count": 15,
   "id": "0b66bcbf",
   "metadata": {},
   "outputs": [
    {
     "name": "stdout",
     "output_type": "stream",
     "text": [
      "1 ['世界史', '神級', '考前', '年表', '死背', '事件', '高分', '故事', '好看', '特色', '分章', '整理', '不用', '瞄過', '狂銷', '敲頭', '記年', '山崎', '金三角', '卷末', '速成', '概貌', '文化史', '篇章', '表格', '穿插', '尖叫', '排行榜', '主角', '剔除', '航海', '影片', '走上', '打破', '文字', '理由', '吸收', '掌握', '推出', '不得']\n",
      "2, ['狐狸', '甘迺迪', '掌握', '學程', '失準', '政策', '心法', '探看', '政治', '全局', '跨越', '同事', '思考', '方式', '原本', '整合', '人才', '世界', '需知', '認為', '眾人', '不選', '秘辛', '員們', '記裡', '現握', '登思', '策略', '手段', '德利', '力量', '蠢事', '匈牙利人', '步出', '身兼', '造成', '指出', '配角', '俯瞰', '面相']\n"
     ]
    }
   ],
   "source": [
    "# 找書本的斷字 \n",
    "exp_sent_1 = df.iloc[0,3]\n",
    "print('1',exp_sent_1)\n",
    "exp_sent_2 = df.iloc[1,3]\n",
    "print('2,',exp_sent_2)"
   ]
  },
  {
   "cell_type": "code",
   "execution_count": 16,
   "id": "040367d1",
   "metadata": {
    "scrolled": true
   },
   "outputs": [
    {
     "name": "stdout",
     "output_type": "stream",
     "text": [
      "[ 9.54168029e-02  4.96503407e+00  2.64362710e+00  2.13015763e+00\n",
      " -3.08910247e+00 -7.38902028e+00 -8.58277542e+00  1.70086022e+01\n",
      "  4.35057039e+00 -1.07814195e+01 -1.67329928e+01 -2.23582894e+01\n",
      "  1.50133443e+00  6.65915843e+00 -2.62042817e+00 -2.26242904e+00\n",
      " -5.08550717e-01 -2.09333335e+01  1.92623323e+01 -2.79792390e+01\n",
      "  8.91637946e+00  2.00104690e+01 -3.95812394e+00 -5.85958340e-01\n",
      "  3.52942318e+00  4.36154133e+00  1.08154982e+01 -1.18723474e+01\n",
      " -1.48261316e+01 -3.14836387e+00  9.38826825e+00  5.84365351e+00\n",
      " -3.34222901e+00 -1.01131454e+01 -4.58578328e+00  2.04849079e+01\n",
      "  7.11896866e+00 -1.08871743e+00 -1.61512283e+01 -3.42208325e+01\n",
      "  1.38611034e+01 -2.51095852e+01 -1.87203932e+01  3.49760122e+00\n",
      "  1.76250118e+01  9.37343292e+00 -1.70073461e+01 -4.27527948e+00\n",
      " -2.67692402e-01 -4.14607522e+00  3.27006242e+00 -1.05696823e+01\n",
      " -1.89117550e+01 -6.60616821e+00 -1.34384444e+01  3.50317066e-02\n",
      "  4.72554795e+00 -4.69565637e+00 -2.36726954e+01 -6.95934679e-01\n",
      "  1.38691031e+01 -2.30710847e+00  8.74990664e+00 -8.79075553e+00\n",
      " -1.50037334e+01  7.88806943e+00  1.20442386e+01  1.90783392e+01\n",
      " -2.23335189e+00  2.48724129e+01  1.29339649e+01  3.79246757e+00\n",
      "  1.10601995e+01  1.29591034e+00  8.65749979e+00  5.43441932e+00\n",
      "  1.38445137e+01 -2.08771006e+00 -5.37631643e+00 -9.77411272e-01\n",
      " -5.99526505e+00  8.73766145e+00 -2.29295679e+01  1.60767554e+01\n",
      " -5.20020040e+00 -6.64108584e+00 -2.70810351e-03  1.15851660e+01\n",
      "  1.14982001e+01  4.30338078e+00 -2.28088200e+00  1.40888765e+01\n",
      "  1.56020592e+01  1.25469550e+01 -2.36511676e+00  1.75582674e+01\n",
      " -1.99163257e+00 -8.10513914e+00 -3.80594818e+00  2.60235798e+00]\n",
      "[  3.26932564   8.5858558   -2.4931503   -3.64183945  -6.18776535\n",
      " -12.50223068 -12.05325613  15.72594578   2.22369369  -7.86958556\n",
      " -16.49350084 -16.46658382  -0.47213805   4.04958764  -7.62667663\n",
      "  -1.38092083  -3.71749538 -16.64168608  13.39580241 -16.27123609\n",
      "   7.02494517  16.8354467   -2.93169264  -0.35923459   2.67679715\n",
      "   5.05982332   4.67867137  -7.20753483  -9.13483736  -3.08800895\n",
      "  11.67615409   2.01774891  -4.70673268 -10.020908    -3.41078786\n",
      "  15.05666561   4.96604581  -5.48993947 -14.72774461 -26.10669447\n",
      "  13.31600368 -20.0924089  -18.48205356   0.36580565  14.65094691\n",
      "   6.76903818 -12.61303752 -10.00275449  -1.67006195   6.71594044\n",
      "   2.77121206  -9.29924743 -19.02788659  -6.02632    -10.90699997\n",
      "  -0.6658224    4.11586026  -4.36724664 -16.48651664   4.39596553\n",
      "  17.7064018   -8.7707032   15.90287934  -5.09587142 -13.69620639\n",
      "   2.31060128   8.10600452  12.04481504  -0.20592694  26.1045992\n",
      "  12.50694234   0.0802054    9.73654457  -2.02882791   6.47993086\n",
      "   6.88443004  13.20892155  -6.75657936  -6.12646832   2.70545261\n",
      "  -4.11386151   8.38262991 -23.5748666   16.28116757  -8.33996783\n",
      "  -5.04876447   0.68534173  10.59336387   9.57335081  -1.12101639\n",
      "  -7.29780026   5.18589325  12.27864828   3.89286628  -2.40515057\n",
      "  21.32051661  -2.62429862  -2.80152485  -1.69367862   2.99611856]\n"
     ]
    }
   ],
   "source": [
    "# 統一維度\n",
    "vec_sent_1_w2v = np.zeros(100)\n",
    "vec_sent_2_w2v = np.zeros(100)\n",
    "for w in exp_sent_1:\n",
    "    vec_sent_1_w2v += model.wv[w]\n",
    "print(vec_sent_1_w2v)\n",
    "for w in exp_sent_2:\n",
    "    vec_sent_2_w2v += model.wv[w]\n",
    "print(vec_sent_2_w2v)"
   ]
  },
  {
   "cell_type": "code",
   "execution_count": 17,
   "id": "a4f38020",
   "metadata": {},
   "outputs": [
    {
     "name": "stdout",
     "output_type": "stream",
     "text": [
      "similarity of Word2Vec+:  0.9453857982363106\n"
     ]
    }
   ],
   "source": [
    "# 兩本書的相似度\n",
    "w2v_similarity = np.dot(vec_sent_1_w2v, vec_sent_2_w2v) / (np.linalg.norm(vec_sent_1_w2v)*np.linalg.norm(vec_sent_2_w2v))\n",
    "print('similarity of Word2Vec+: ', w2v_similarity)"
   ]
  },
  {
   "cell_type": "code",
   "execution_count": 27,
   "id": "70a2f1e7",
   "metadata": {
    "scrolled": true
   },
   "outputs": [
    {
     "name": "stderr",
     "output_type": "stream",
     "text": [
      "C:\\Users\\Tibame\\AppData\\Local\\Temp/ipykernel_5436/2322567822.py:27: DeprecationWarning: insert is deprecated. Use insert_one or insert_many instead.\n",
      "  coll.insert([kv])\n"
     ]
    },
    {
     "name": "stdout",
     "output_type": "stream",
     "text": [
      "9789866571145\n",
      "9789866662898\n",
      "總共花費：15 秒\n"
     ]
    }
   ],
   "source": [
    "import time\n",
    "from operator import itemgetter\n",
    "from pymongo import MongoClient\n",
    "import json\n",
    "client = MongoClient()\n",
    "db = client.similar\n",
    "coll = db.similar\n",
    "# coll.drop()\n",
    "start=time.time()\n",
    "\n",
    "for i in range(2209,2211):\n",
    "    similar=[]\n",
    "    for j in range(len(df)):\n",
    "        exp_sent_1 = df.iloc[i,3]\n",
    "        exp_sent_2 = df.iloc[j,3]\n",
    "        vec_sent_1_w2v = np.zeros(100)\n",
    "        vec_sent_2_w2v = np.zeros(100)\n",
    "        for w in exp_sent_1:\n",
    "            vec_sent_1_w2v += model.wv[w]\n",
    "        for w in exp_sent_2:\n",
    "            vec_sent_2_w2v += model.wv[w]\n",
    "        w2v_similarity = np.dot(vec_sent_1_w2v, vec_sent_2_w2v) / (np.linalg.norm(vec_sent_1_w2v)*np.linalg.norm(vec_sent_2_w2v))\n",
    "        similar.append((df.iloc[j,1],w2v_similarity))\n",
    "    similar.sort(key=itemgetter(1), reverse=True)\n",
    "    # 存入資料庫\n",
    "    kv={\"ISBN\":df.iloc[i,1],\"list\":[similar[1][0],similar[2][0],similar[3][0]]}\n",
    "    coll.insert([kv])\n",
    "    print(df.iloc[i,1])\n",
    "    end=time.time()\n",
    "print(f\"總共花費：{int(end-start)} 秒\")"
   ]
  },
  {
   "cell_type": "code",
   "execution_count": 25,
   "id": "9ef5ed05",
   "metadata": {},
   "outputs": [
    {
     "data": {
      "text/html": [
       "<div>\n",
       "<style scoped>\n",
       "    .dataframe tbody tr th:only-of-type {\n",
       "        vertical-align: middle;\n",
       "    }\n",
       "\n",
       "    .dataframe tbody tr th {\n",
       "        vertical-align: top;\n",
       "    }\n",
       "\n",
       "    .dataframe thead th {\n",
       "        text-align: right;\n",
       "    }\n",
       "</style>\n",
       "<table border=\"1\" class=\"dataframe\">\n",
       "  <thead>\n",
       "    <tr style=\"text-align: right;\">\n",
       "      <th></th>\n",
       "      <th>書名</th>\n",
       "      <th>ISBN</th>\n",
       "      <th>jieba_cut</th>\n",
       "      <th>jieba_list</th>\n",
       "    </tr>\n",
       "  </thead>\n",
       "  <tbody>\n",
       "    <tr>\n",
       "      <th>2209</th>\n",
       "      <td>天真的人類學家 小泥屋筆記</td>\n",
       "      <td>9789866571145</td>\n",
       "      <td>教授,巴利,幽默感,洞察力,非洲,利幾,之林,利以,啟發,趣味十足,不起,巴樂馬,提絲,所會...</td>\n",
       "      <td>[教授, 巴利, 幽默感, 洞察力, 非洲, 利幾, 之林, 利以, 啟發, 趣味十足, 不...</td>\n",
       "    </tr>\n",
       "  </tbody>\n",
       "</table>\n",
       "</div>"
      ],
      "text/plain": [
       "                 書名           ISBN  \\\n",
       "2209  天真的人類學家 小泥屋筆記  9789866571145   \n",
       "\n",
       "                                              jieba_cut  \\\n",
       "2209  教授,巴利,幽默感,洞察力,非洲,利幾,之林,利以,啟發,趣味十足,不起,巴樂馬,提絲,所會...   \n",
       "\n",
       "                                             jieba_list  \n",
       "2209  [教授, 巴利, 幽默感, 洞察力, 非洲, 利幾, 之林, 利以, 啟發, 趣味十足, 不...  "
      ]
     },
     "execution_count": 25,
     "metadata": {},
     "output_type": "execute_result"
    }
   ],
   "source": [
    "df[df['ISBN']=='9789866571145']"
   ]
  },
  {
   "cell_type": "code",
   "execution_count": 26,
   "id": "26616788",
   "metadata": {},
   "outputs": [
    {
     "data": {
      "text/html": [
       "<div>\n",
       "<style scoped>\n",
       "    .dataframe tbody tr th:only-of-type {\n",
       "        vertical-align: middle;\n",
       "    }\n",
       "\n",
       "    .dataframe tbody tr th {\n",
       "        vertical-align: top;\n",
       "    }\n",
       "\n",
       "    .dataframe thead th {\n",
       "        text-align: right;\n",
       "    }\n",
       "</style>\n",
       "<table border=\"1\" class=\"dataframe\">\n",
       "  <thead>\n",
       "    <tr style=\"text-align: right;\">\n",
       "      <th></th>\n",
       "      <th>書名</th>\n",
       "      <th>ISBN</th>\n",
       "      <th>jieba_cut</th>\n",
       "      <th>jieba_list</th>\n",
       "    </tr>\n",
       "  </thead>\n",
       "  <tbody>\n",
       "    <tr>\n",
       "      <th>2209</th>\n",
       "      <td>天真的人類學家 小泥屋筆記</td>\n",
       "      <td>9789866571145</td>\n",
       "      <td>教授,巴利,幽默感,洞察力,非洲,利幾,之林,利以,啟發,趣味十足,不起,巴樂馬,提絲,所會...</td>\n",
       "      <td>[教授, 巴利, 幽默感, 洞察力, 非洲, 利幾, 之林, 利以, 啟發, 趣味十足, 不...</td>\n",
       "    </tr>\n",
       "    <tr>\n",
       "      <th>2210</th>\n",
       "      <td>菁英的反叛</td>\n",
       "      <td>9789866662898</td>\n",
       "      <td>菁英,民主,社群,分子,反叛,理想,操弄,認為,群眾,問化,民眾,回歸,思想,拔擢,迷失,洪...</td>\n",
       "      <td>[菁英, 民主, 社群, 分子, 反叛, 理想, 操弄, 認為, 群眾, 問化, 民眾, 回...</td>\n",
       "    </tr>\n",
       "    <tr>\n",
       "      <th>2211</th>\n",
       "      <td>自己幹文化-派對與革命</td>\n",
       "      <td>9789572938621</td>\n",
       "      <td>文化,上山下海,開啟,舞客,宣示,制度化,反省,景象,收集,角色,禁止,模式,公路,作者,限...</td>\n",
       "      <td>[文化, 上山下海, 開啟, 舞客, 宣示, 制度化, 反省, 景象, 收集, 角色, 禁止...</td>\n",
       "    </tr>\n",
       "    <tr>\n",
       "      <th>2212</th>\n",
       "      <td>知識人與中國文化的價值</td>\n",
       "      <td>9789571346427</td>\n",
       "      <td>文化,人文,儒家,超越,有士,形塑,人求,旁徵博引,選賢,唯才,建請,禮易,規臬,試說,可辱...</td>\n",
       "      <td>[文化, 人文, 儒家, 超越, 有士, 形塑, 人求, 旁徵博引, 選賢, 唯才, 建請,...</td>\n",
       "    </tr>\n",
       "    <tr>\n",
       "      <th>2213</th>\n",
       "      <td>死也要上報!</td>\n",
       "      <td>9789866852015</td>\n",
       "      <td>死亡,作家,天使,整份,奇行,怪癖,之能事,化身,世界,八卦,英美,格式,捕捉,面貌,代表性...</td>\n",
       "      <td>[死亡, 作家, 天使, 整份, 奇行, 怪癖, 之能事, 化身, 世界, 八卦, 英美, ...</td>\n",
       "    </tr>\n",
       "  </tbody>\n",
       "</table>\n",
       "</div>"
      ],
      "text/plain": [
       "                 書名           ISBN  \\\n",
       "2209  天真的人類學家 小泥屋筆記  9789866571145   \n",
       "2210          菁英的反叛  9789866662898   \n",
       "2211    自己幹文化-派對與革命  9789572938621   \n",
       "2212    知識人與中國文化的價值  9789571346427   \n",
       "2213         死也要上報!  9789866852015   \n",
       "\n",
       "                                              jieba_cut  \\\n",
       "2209  教授,巴利,幽默感,洞察力,非洲,利幾,之林,利以,啟發,趣味十足,不起,巴樂馬,提絲,所會...   \n",
       "2210  菁英,民主,社群,分子,反叛,理想,操弄,認為,群眾,問化,民眾,回歸,思想,拔擢,迷失,洪...   \n",
       "2211  文化,上山下海,開啟,舞客,宣示,制度化,反省,景象,收集,角色,禁止,模式,公路,作者,限...   \n",
       "2212  文化,人文,儒家,超越,有士,形塑,人求,旁徵博引,選賢,唯才,建請,禮易,規臬,試說,可辱...   \n",
       "2213  死亡,作家,天使,整份,奇行,怪癖,之能事,化身,世界,八卦,英美,格式,捕捉,面貌,代表性...   \n",
       "\n",
       "                                             jieba_list  \n",
       "2209  [教授, 巴利, 幽默感, 洞察力, 非洲, 利幾, 之林, 利以, 啟發, 趣味十足, 不...  \n",
       "2210  [菁英, 民主, 社群, 分子, 反叛, 理想, 操弄, 認為, 群眾, 問化, 民眾, 回...  \n",
       "2211  [文化, 上山下海, 開啟, 舞客, 宣示, 制度化, 反省, 景象, 收集, 角色, 禁止...  \n",
       "2212  [文化, 人文, 儒家, 超越, 有士, 形塑, 人求, 旁徵博引, 選賢, 唯才, 建請,...  \n",
       "2213  [死亡, 作家, 天使, 整份, 奇行, 怪癖, 之能事, 化身, 世界, 八卦, 英美, ...  "
      ]
     },
     "execution_count": 26,
     "metadata": {},
     "output_type": "execute_result"
    }
   ],
   "source": [
    "df[2209:].head()"
   ]
  }
 ],
 "metadata": {
  "kernelspec": {
   "display_name": "Python 3 (ipykernel)",
   "language": "python",
   "name": "python3"
  },
  "language_info": {
   "codemirror_mode": {
    "name": "ipython",
    "version": 3
   },
   "file_extension": ".py",
   "mimetype": "text/x-python",
   "name": "python",
   "nbconvert_exporter": "python",
   "pygments_lexer": "ipython3",
   "version": "3.9.6"
  }
 },
 "nbformat": 4,
 "nbformat_minor": 5
}
