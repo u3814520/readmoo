{
 "cells": [
  {
   "cell_type": "code",
   "execution_count": 1,
   "id": "c7c0df1a",
   "metadata": {},
   "outputs": [],
   "source": [
    "import pymongo\n",
    "import pandas as pd\n",
    "from pymongo import MongoClient\n",
    "MONGO_HOST = '10.2.14.10'\n",
    "MONGO_DB = 'kingstone'\n",
    "MONGO_COLLETION = 'clean_data'\n",
    "\n",
    "def connect_mongo():  #連線資料庫\n",
    "    global collection\n",
    "    client = MongoClient(MONGO_HOST, 27017)\n",
    "    db = client[MONGO_DB]\n",
    "    collection = db[MONGO_COLLETION]\n",
    "\n",
    "connect_mongo()  #呼叫連線資料庫函式\n",
    "cursor = collection.find()  #依query查詢資料\n",
    "book_df=  pd.DataFrame(list(cursor))  #轉換成DataFrame\n",
    "del book_df['_id']\n",
    "book_df['ISBN'] = book_df['ISBN'].astype('str')  # 確認 ISBN 為字串"
   ]
  },
  {
   "cell_type": "code",
   "execution_count": 14,
   "id": "03fa67be",
   "metadata": {},
   "outputs": [],
   "source": [
    "import numpy as np \n",
    "import random \n",
    "from tqdm import tqdm \n",
    "from gensim.models import Word2Vec \n",
    "import matplotlib.pyplot as plt \n",
    "%matplotlib inline \n",
    "import warnings;"
   ]
  },
  {
   "cell_type": "code",
   "execution_count": 2,
   "id": "2f5d5e78",
   "metadata": {},
   "outputs": [
    {
     "data": {
      "text/html": [
       "<div>\n",
       "<style scoped>\n",
       "    .dataframe tbody tr th:only-of-type {\n",
       "        vertical-align: middle;\n",
       "    }\n",
       "\n",
       "    .dataframe tbody tr th {\n",
       "        vertical-align: top;\n",
       "    }\n",
       "\n",
       "    .dataframe thead th {\n",
       "        text-align: right;\n",
       "    }\n",
       "</style>\n",
       "<table border=\"1\" class=\"dataframe\">\n",
       "  <thead>\n",
       "    <tr style=\"text-align: right;\">\n",
       "      <th></th>\n",
       "      <th>ISBN</th>\n",
       "      <th>BOOKNAME</th>\n",
       "      <th>USER</th>\n",
       "      <th>CONTENT</th>\n",
       "      <th>USERSTAR</th>\n",
       "    </tr>\n",
       "  </thead>\n",
       "  <tbody>\n",
       "    <tr>\n",
       "      <th>0</th>\n",
       "      <td>9789865683498</td>\n",
       "      <td>「氣內臟」自癒按摩法：每天按摩脾．肝．腎30秒，美肌、消除便秘、好眠、減肥，天天都有好氣色！</td>\n",
       "      <td>啟迪</td>\n",
       "      <td>深入淺出，圖片清晰介唔按壓身體及伸展。\\n按照個人體質、情志、節氣等，以吃，嗅香芬、調息、伸...</td>\n",
       "      <td>5.0</td>\n",
       "    </tr>\n",
       "    <tr>\n",
       "      <th>1</th>\n",
       "      <td>9789575036942</td>\n",
       "      <td>唐鳳：我所看待的自由與未來</td>\n",
       "      <td>Miley Guan</td>\n",
       "      <td>一開始是對唐鳳好奇，想更了解她，讀完之後真正體認到她是個傳奇人物，同時她的家庭給了她很大的自...</td>\n",
       "      <td>5.0</td>\n",
       "    </tr>\n",
       "    <tr>\n",
       "      <th>2</th>\n",
       "      <td>9789865241810</td>\n",
       "      <td>老夫老妻重返青春（1）</td>\n",
       "      <td>蘇蘇</td>\n",
       "      <td>看了很暖心的漫畫，會覺得要好好過每一天</td>\n",
       "      <td>0.0</td>\n",
       "    </tr>\n",
       "    <tr>\n",
       "      <th>3</th>\n",
       "      <td>9789864779079</td>\n",
       "      <td>祕密瑜伽士的日常</td>\n",
       "      <td>kbboss7416</td>\n",
       "      <td>直指心性的好書，書中道理發人省思</td>\n",
       "      <td>5.0</td>\n",
       "    </tr>\n",
       "    <tr>\n",
       "      <th>4</th>\n",
       "      <td>9789571068121</td>\n",
       "      <td>花開千年（01）</td>\n",
       "      <td>Annie</td>\n",
       "      <td>好唯美的畫風。喜歡故事開頭引用的一段《佛經》：「彼岸花，開一千年，落一千年，花葉永不想見。情...</td>\n",
       "      <td>5.0</td>\n",
       "    </tr>\n",
       "  </tbody>\n",
       "</table>\n",
       "</div>"
      ],
      "text/plain": [
       "            ISBN                                        BOOKNAME        USER  \\\n",
       "0  9789865683498  「氣內臟」自癒按摩法：每天按摩脾．肝．腎30秒，美肌、消除便秘、好眠、減肥，天天都有好氣色！          啟迪   \n",
       "1  9789575036942                                   唐鳳：我所看待的自由與未來  Miley Guan   \n",
       "2  9789865241810                                     老夫老妻重返青春（1）          蘇蘇   \n",
       "3  9789864779079                                        祕密瑜伽士的日常  kbboss7416   \n",
       "4  9789571068121                                        花開千年（01）       Annie   \n",
       "\n",
       "                                             CONTENT USERSTAR  \n",
       "0  深入淺出，圖片清晰介唔按壓身體及伸展。\\n按照個人體質、情志、節氣等，以吃，嗅香芬、調息、伸...      5.0  \n",
       "1  一開始是對唐鳳好奇，想更了解她，讀完之後真正體認到她是個傳奇人物，同時她的家庭給了她很大的自...      5.0  \n",
       "2                                看了很暖心的漫畫，會覺得要好好過每一天      0.0  \n",
       "3                                   直指心性的好書，書中道理發人省思      5.0  \n",
       "4  好唯美的畫風。喜歡故事開頭引用的一段《佛經》：「彼岸花，開一千年，落一千年，花葉永不想見。情...      5.0  "
      ]
     },
     "execution_count": 2,
     "metadata": {},
     "output_type": "execute_result"
    }
   ],
   "source": [
    "import pymongo\n",
    "import pandas as pd\n",
    "from pymongo import MongoClient\n",
    "MONGO_HOST = '10.2.14.10'\n",
    "MONGO_DB = 'userstar'\n",
    "MONGO_COLLETION = 'userstar'\n",
    "\n",
    "def connect_mongo():  #連線資料庫\n",
    "    global collection\n",
    "    client = MongoClient(MONGO_HOST, 27017)\n",
    "    db = client[MONGO_DB]\n",
    "    collection = db[MONGO_COLLETION]\n",
    "\n",
    "connect_mongo()  #呼叫連線資料庫函式\n",
    "cursor = collection.find()  #依query查詢資料\n",
    "userstar_df=  pd.DataFrame(list(cursor))  #轉換成DataFrame\n",
    "del userstar_df['_id']\n",
    "userstar_df['ISBN'] = userstar_df['ISBN'].astype('str')  # 確認 ISBN 為字串\n",
    "userstar_df.head()"
   ]
  },
  {
   "cell_type": "code",
   "execution_count": 3,
   "id": "7100d059",
   "metadata": {},
   "outputs": [
    {
     "data": {
      "text/html": [
       "<div>\n",
       "<style scoped>\n",
       "    .dataframe tbody tr th:only-of-type {\n",
       "        vertical-align: middle;\n",
       "    }\n",
       "\n",
       "    .dataframe tbody tr th {\n",
       "        vertical-align: top;\n",
       "    }\n",
       "\n",
       "    .dataframe thead th {\n",
       "        text-align: right;\n",
       "    }\n",
       "</style>\n",
       "<table border=\"1\" class=\"dataframe\">\n",
       "  <thead>\n",
       "    <tr style=\"text-align: right;\">\n",
       "      <th></th>\n",
       "      <th>書名</th>\n",
       "      <th>ISBN</th>\n",
       "      <th>words</th>\n",
       "      <th>USER</th>\n",
       "      <th>CONTENT</th>\n",
       "      <th>USERSTAR</th>\n",
       "    </tr>\n",
       "  </thead>\n",
       "  <tbody>\n",
       "    <tr>\n",
       "      <th>0</th>\n",
       "      <td>瞄過一眼就忘不了的世界史：高中老師╳神級YouTuber 2，000萬次點閱的超人氣課程</td>\n",
       "      <td>9789863844433</td>\n",
       "      <td>瞄過一眼忘不世界史高中老師神級 萬次點閱超人氣課程高中老師神級最強圖像記憶法萬次點閱超人氣課...</td>\n",
       "      <td>Frankie</td>\n",
       "      <td>書中先按時期分類，將世界史分開前、中、後三個時期，再將前期世界史按地區分類，令錯綜複雜的大混...</td>\n",
       "      <td>5.0</td>\n",
       "    </tr>\n",
       "    <tr>\n",
       "      <th>1</th>\n",
       "      <td>大戰略：耶魯大學長紅20年大師課程，從歷史提煉的領導決策心法</td>\n",
       "      <td>9789570856712</td>\n",
       "      <td>大戰略耶魯大學長紅年大師課程從歷史提煉領導決策心法金石堂強力推薦書 耶魯大學長紅年戰略大師課...</td>\n",
       "      <td>luckylife8957</td>\n",
       "      <td>這本書花了一點時間才看完，雖然厚度頗高，讀起來卻是趣味十足。\\n從一個寓言故事開始破題，然後...</td>\n",
       "      <td>0.0</td>\n",
       "    </tr>\n",
       "    <tr>\n",
       "      <th>2</th>\n",
       "      <td>大戰略：耶魯大學長紅20年大師課程，從歷史提煉的領導決策心法</td>\n",
       "      <td>9789570856712</td>\n",
       "      <td>大戰略耶魯大學長紅年大師課程從歷史提煉領導決策心法金石堂強力推薦書 耶魯大學長紅年戰略大師課...</td>\n",
       "      <td>suliwen</td>\n",
       "      <td>列舉了貫穿古今的戰役歷史，不懂戰略的人來看也是很好看的歷史故事集。</td>\n",
       "      <td>5.0</td>\n",
       "    </tr>\n",
       "    <tr>\n",
       "      <th>3</th>\n",
       "      <td>西方憑什麼：五萬年人類大歷史，破解中國落後之謎</td>\n",
       "      <td>9789868271272</td>\n",
       "      <td>西方憑什麼五萬年人類大歷史破解中國落後之謎 美國筆會書獎德國國際財經書獎 美國英國中國德國暢...</td>\n",
       "      <td>p26842082001</td>\n",
       "      <td>古早決定論 vs. 一時碰巧論</td>\n",
       "      <td>0.0</td>\n",
       "    </tr>\n",
       "    <tr>\n",
       "      <th>4</th>\n",
       "      <td>西方憑什麼：五萬年人類大歷史，破解中國落後之謎</td>\n",
       "      <td>9789868271272</td>\n",
       "      <td>西方憑什麼五萬年人類大歷史破解中國落後之謎 美國筆會書獎德國國際財經書獎 美國英國中國德國暢...</td>\n",
       "      <td>rex.mcchiu</td>\n",
       "      <td>東西方比對發展軌跡的論述，清晰、具說服力時之所需支撐社會發展方向+地理決定論</td>\n",
       "      <td>5.0</td>\n",
       "    </tr>\n",
       "  </tbody>\n",
       "</table>\n",
       "</div>"
      ],
      "text/plain": [
       "                                             書名           ISBN  \\\n",
       "0  瞄過一眼就忘不了的世界史：高中老師╳神級YouTuber 2，000萬次點閱的超人氣課程  9789863844433   \n",
       "1                大戰略：耶魯大學長紅20年大師課程，從歷史提煉的領導決策心法  9789570856712   \n",
       "2                大戰略：耶魯大學長紅20年大師課程，從歷史提煉的領導決策心法  9789570856712   \n",
       "3                       西方憑什麼：五萬年人類大歷史，破解中國落後之謎  9789868271272   \n",
       "4                       西方憑什麼：五萬年人類大歷史，破解中國落後之謎  9789868271272   \n",
       "\n",
       "                                               words           USER  \\\n",
       "0  瞄過一眼忘不世界史高中老師神級 萬次點閱超人氣課程高中老師神級最強圖像記憶法萬次點閱超人氣課...        Frankie   \n",
       "1  大戰略耶魯大學長紅年大師課程從歷史提煉領導決策心法金石堂強力推薦書 耶魯大學長紅年戰略大師課...  luckylife8957   \n",
       "2  大戰略耶魯大學長紅年大師課程從歷史提煉領導決策心法金石堂強力推薦書 耶魯大學長紅年戰略大師課...        suliwen   \n",
       "3  西方憑什麼五萬年人類大歷史破解中國落後之謎 美國筆會書獎德國國際財經書獎 美國英國中國德國暢...   p26842082001   \n",
       "4  西方憑什麼五萬年人類大歷史破解中國落後之謎 美國筆會書獎德國國際財經書獎 美國英國中國德國暢...     rex.mcchiu   \n",
       "\n",
       "                                             CONTENT USERSTAR  \n",
       "0  書中先按時期分類，將世界史分開前、中、後三個時期，再將前期世界史按地區分類，令錯綜複雜的大混...      5.0  \n",
       "1  這本書花了一點時間才看完，雖然厚度頗高，讀起來卻是趣味十足。\\n從一個寓言故事開始破題，然後...      0.0  \n",
       "2                  列舉了貫穿古今的戰役歷史，不懂戰略的人來看也是很好看的歷史故事集。      5.0  \n",
       "3                                    古早決定論 vs. 一時碰巧論      0.0  \n",
       "4             東西方比對發展軌跡的論述，清晰、具說服力時之所需支撐社會發展方向+地理決定論      5.0  "
      ]
     },
     "execution_count": 3,
     "metadata": {},
     "output_type": "execute_result"
    }
   ],
   "source": [
    "df=pd.merge(book_df,userstar_df,on=['ISBN'],how='inner')\n",
    "del df['BOOKNAME']\n",
    "df.head()"
   ]
  },
  {
   "cell_type": "code",
   "execution_count": 5,
   "id": "943b0d0c",
   "metadata": {},
   "outputs": [
    {
     "data": {
      "text/plain": [
       "(53132, 6)"
      ]
     },
     "execution_count": 5,
     "metadata": {},
     "output_type": "execute_result"
    }
   ],
   "source": [
    "df.shape"
   ]
  },
  {
   "cell_type": "code",
   "execution_count": 6,
   "id": "6a8de278",
   "metadata": {},
   "outputs": [
    {
     "data": {
      "text/plain": [
       "書名           0\n",
       "ISBN         0\n",
       "words        0\n",
       "USER        96\n",
       "CONTENT     17\n",
       "USERSTAR     5\n",
       "dtype: int64"
      ]
     },
     "execution_count": 6,
     "metadata": {},
     "output_type": "execute_result"
    }
   ],
   "source": [
    "# 檢查缺失值數據\n",
    "df.isnull().sum()"
   ]
  },
  {
   "cell_type": "code",
   "execution_count": 7,
   "id": "27c7869c",
   "metadata": {},
   "outputs": [],
   "source": [
    "# 刪除缺失值所在行\n",
    "df.dropna(inplace=True)"
   ]
  },
  {
   "cell_type": "code",
   "execution_count": 8,
   "id": "401eadc2",
   "metadata": {},
   "outputs": [],
   "source": [
    "import statsmodels.api as sm\n",
    "df['user_id'] = pd.Categorical(df.USER).codes "
   ]
  },
  {
   "cell_type": "code",
   "execution_count": 9,
   "id": "77e4e3b2",
   "metadata": {},
   "outputs": [
    {
     "data": {
      "text/plain": [
       "7193"
      ]
     },
     "execution_count": 9,
     "metadata": {},
     "output_type": "execute_result"
    }
   ],
   "source": [
    "# USER數量\n",
    "customers = df[\"user_id\"].unique().tolist() \n",
    "len(customers)"
   ]
  },
  {
   "cell_type": "code",
   "execution_count": 10,
   "id": "6f554d8b",
   "metadata": {},
   "outputs": [],
   "source": [
    "df['ISBN']= df['ISBN'].astype(str)"
   ]
  },
  {
   "cell_type": "code",
   "execution_count": 12,
   "id": "ddd6a154",
   "metadata": {},
   "outputs": [],
   "source": [
    "# 打亂消費者id \n",
    "random.shuffle(customers) \n",
    "# 提取90%的消費者 \n",
    "customers_train = [customers[i] for i in range(round(0.9*len(customers)))] \n",
    "# 分為訓練集和驗證集 \n",
    "train_df = df[df['user_id'].isin(customers_train)] \n",
    "validation_df = df[~df['user_id'].isin(customers_train)]"
   ]
  },
  {
   "cell_type": "code",
   "execution_count": 15,
   "id": "2ab8803f",
   "metadata": {},
   "outputs": [
    {
     "name": "stderr",
     "output_type": "stream",
     "text": [
      "100%|█████████████████████████████████████████████████████████████████████████████| 6474/6474 [00:07<00:00, 870.53it/s]\n",
      "100%|███████████████████████████████████████████████████████████████████████████████| 719/719 [00:00<00:00, 988.17it/s]\n"
     ]
    }
   ],
   "source": [
    "# 存儲消費者的購買歷史 \n",
    "purchases_train = [] \n",
    "# 用商品代碼填充列表 \n",
    "for i in tqdm(customers_train): \n",
    "    temp = train_df[train_df[\"user_id\"] == i]\n",
    "    df[\"ISBN\"].values.tolist()\n",
    "    purchases_train.append(temp) \n",
    "# 存儲消費者的購買歷史 \n",
    "purchases_val = [] \n",
    "# 用商品代碼填充列表 \n",
    "for i in tqdm(validation_df['user_id'].unique()): \n",
    "    temp = validation_df[validation_df[\"user_id\"] == i]\n",
    "    df[\"ISBN\"].values.tolist() \n",
    "    purchases_val.append(temp)"
   ]
  },
  {
   "cell_type": "code",
   "execution_count": null,
   "id": "9557f45e",
   "metadata": {},
   "outputs": [
    {
     "name": "stderr",
     "output_type": "stream",
     "text": [
      "Exception in thread Exception in thread Thread-10:\n",
      "Traceback (most recent call last):\n",
      "  File \"C:\\Users\\Tibame\\anaconda3\\envs\\Flask\\lib\\threading.py\", line 973, in _bootstrap_inner\n",
      "Thread-8:\n",
      "Traceback (most recent call last):\n",
      "  File \"C:\\Users\\Tibame\\anaconda3\\envs\\Flask\\lib\\threading.py\", line 973, in _bootstrap_inner\n",
      "Exception in thread Thread-9:\n",
      "Traceback (most recent call last):\n",
      "  File \"C:\\Users\\Tibame\\anaconda3\\envs\\Flask\\lib\\threading.py\", line 973, in _bootstrap_inner\n",
      "        self.run()    self.run()\n",
      "  File \"C:\\Users\\Tibame\\anaconda3\\envs\\Flask\\lib\\threading.py\", line 910, in run\n",
      "\n",
      "  File \"C:\\Users\\Tibame\\anaconda3\\envs\\Flask\\lib\\threading.py\", line 910, in run\n",
      "self.run()\n",
      "  File \"C:\\Users\\Tibame\\anaconda3\\envs\\Flask\\lib\\threading.py\", line 910, in run\n",
      "    self._target(*self._args, **self._kwargs)\n",
      "  File \"C:\\Users\\Tibame\\anaconda3\\envs\\Flask\\lib\\site-packages\\gensim\\models\\word2vec.py\", line 1162, in _worker_loop\n",
      "    self._target(*self._args, **self._kwargs)\n",
      "  File \"C:\\Users\\Tibame\\anaconda3\\envs\\Flask\\lib\\site-packages\\gensim\\models\\word2vec.py\", line 1162, in _worker_loop\n",
      "    self._target(*self._args, **self._kwargs)\n",
      "  File \"C:\\Users\\Tibame\\anaconda3\\envs\\Flask\\lib\\site-packages\\gensim\\models\\word2vec.py\", line 1162, in _worker_loop\n",
      "        tally, raw_tally = self._do_train_job(data_iterable, alpha, thread_private_mem)\n",
      "  File \"C:\\Users\\Tibame\\anaconda3\\envs\\Flask\\lib\\site-packages\\gensim\\models\\word2vec.py\", line 951, in _do_train_job\n",
      "tally, raw_tally = self._do_train_job(data_iterable, alpha, thread_private_mem)\n",
      "  File \"C:\\Users\\Tibame\\anaconda3\\envs\\Flask\\lib\\site-packages\\gensim\\models\\word2vec.py\", line 951, in _do_train_job\n",
      "    tally, raw_tally = self._do_train_job(data_iterable, alpha, thread_private_mem)\n",
      "  File \"C:\\Users\\Tibame\\anaconda3\\envs\\Flask\\lib\\site-packages\\gensim\\models\\word2vec.py\", line 951, in _do_train_job\n",
      "    tally += train_batch_sg(self, sentences, alpha, work, self.compute_loss)\n",
      "  File \"gensim\\models\\word2vec_inner.pyx\", line 542, in gensim.models.word2vec_inner.train_batch_sg\n",
      "        tally += train_batch_sg(self, sentences, alpha, work, self.compute_loss)\n",
      "  File \"gensim\\models\\word2vec_inner.pyx\", line 542, in gensim.models.word2vec_inner.train_batch_sg\n",
      "tally += train_batch_sg(self, sentences, alpha, work, self.compute_loss)\n",
      "  File \"gensim\\models\\word2vec_inner.pyx\", line 542, in gensim.models.word2vec_inner.train_batch_sg\n",
      "  File \"C:\\Users\\Tibame\\anaconda3\\envs\\Flask\\lib\\site-packages\\pandas\\core\\generic.py\", line 1537, in __nonzero__\n",
      "  File \"C:\\Users\\Tibame\\anaconda3\\envs\\Flask\\lib\\site-packages\\pandas\\core\\generic.py\", line 1537, in __nonzero__\n",
      "  File \"C:\\Users\\Tibame\\anaconda3\\envs\\Flask\\lib\\site-packages\\pandas\\core\\generic.py\", line 1537, in __nonzero__\n",
      "            raise ValueError(\n",
      "ValueError: The truth value of a DataFrame is ambiguous. Use a.empty, a.bool(), a.item(), a.any() or a.all().\n",
      "raise ValueError(\n",
      "ValueError: The truth value of a DataFrame is ambiguous. Use a.empty, a.bool(), a.item(), a.any() or a.all().\n",
      "raise ValueError(\n",
      "ValueError: The truth value of a DataFrame is ambiguous. Use a.empty, a.bool(), a.item(), a.any() or a.all().\n"
     ]
    }
   ],
   "source": [
    "# 訓練word2vec模型 \n",
    "model = Word2Vec(window = 10, sg = 1, hs = 0, negative = 10, alpha=0.03, min_alpha=0.0007, seed = 14) \n",
    "model.build_vocab(purchases_train, progress_per=100) \n",
    "model.train(purchases_train, total_examples = model.corpus_count, epochs=10, report_delay=1)"
   ]
  },
  {
   "cell_type": "code",
   "execution_count": null,
   "id": "a68063ef",
   "metadata": {},
   "outputs": [],
   "source": [
    "model.init_sims(replace=True)"
   ]
  },
  {
   "cell_type": "code",
   "execution_count": null,
   "id": "0a3430be",
   "metadata": {},
   "outputs": [],
   "source": [
    "print(model)"
   ]
  },
  {
   "cell_type": "code",
   "execution_count": null,
   "id": "3a81985d",
   "metadata": {},
   "outputs": [],
   "source": [
    "# 提取向量 \n",
    "X = model[model.wv.vocab] \n",
    "X.shape"
   ]
  },
  {
   "cell_type": "code",
   "execution_count": null,
   "id": "99b60ed7",
   "metadata": {},
   "outputs": [],
   "source": [
    "import umap \n",
    "cluster_embedding = umap.UMAP(n_neighbors=30, min_dist=0.0, n_components=2, random_state=42).fit_transform(X) \n",
    "plt.figure(figsize=(10,9)) \n",
    "plt.scatter(cluster_embedding[:, 0], cluster_embedding[:, 1], s=3, cmap='Spectral')"
   ]
  }
 ],
 "metadata": {
  "kernelspec": {
   "display_name": "Python 3 (ipykernel)",
   "language": "python",
   "name": "python3"
  },
  "language_info": {
   "codemirror_mode": {
    "name": "ipython",
    "version": 3
   },
   "file_extension": ".py",
   "mimetype": "text/x-python",
   "name": "python",
   "nbconvert_exporter": "python",
   "pygments_lexer": "ipython3",
   "version": "3.9.6"
  }
 },
 "nbformat": 4,
 "nbformat_minor": 5
}
