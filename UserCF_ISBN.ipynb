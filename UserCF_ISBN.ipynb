{
 "cells": [
  {
   "cell_type": "code",
   "execution_count": 1,
   "id": "f871ef14",
   "metadata": {},
   "outputs": [],
   "source": [
    "import pandas as pd\n",
    "import numpy as np\n",
    "from scipy.sparse import csr_matrix\n",
    "from sklearn.neighbors import NearestNeighbors"
   ]
  },
  {
   "cell_type": "code",
   "execution_count": 2,
   "id": "85ea8c7e",
   "metadata": {},
   "outputs": [
    {
     "data": {
      "text/html": [
       "<div>\n",
       "<style scoped>\n",
       "    .dataframe tbody tr th:only-of-type {\n",
       "        vertical-align: middle;\n",
       "    }\n",
       "\n",
       "    .dataframe tbody tr th {\n",
       "        vertical-align: top;\n",
       "    }\n",
       "\n",
       "    .dataframe thead th {\n",
       "        text-align: right;\n",
       "    }\n",
       "</style>\n",
       "<table border=\"1\" class=\"dataframe\">\n",
       "  <thead>\n",
       "    <tr style=\"text-align: right;\">\n",
       "      <th></th>\n",
       "      <th>書名</th>\n",
       "      <th>ISBN</th>\n",
       "      <th>words</th>\n",
       "      <th>USER</th>\n",
       "      <th>CONTENT</th>\n",
       "      <th>USERSTAR</th>\n",
       "    </tr>\n",
       "  </thead>\n",
       "  <tbody>\n",
       "    <tr>\n",
       "      <th>0</th>\n",
       "      <td>瞄過一眼就忘不了的世界史：高中老師╳神級YouTuber 2，000萬次點閱的超人氣課程</td>\n",
       "      <td>9789863844433</td>\n",
       "      <td>瞄過一眼忘不世界史高中老師神級 萬次點閱超人氣課程高中老師神級最強圖像記憶法萬次點閱超人氣課...</td>\n",
       "      <td>Frankie</td>\n",
       "      <td>書中先按時期分類，將世界史分開前、中、後三個時期，再將前期世界史按地區分類，令錯綜複雜的大混...</td>\n",
       "      <td>5</td>\n",
       "    </tr>\n",
       "    <tr>\n",
       "      <th>1</th>\n",
       "      <td>大戰略：耶魯大學長紅20年大師課程，從歷史提煉的領導決策心法</td>\n",
       "      <td>9789570856712</td>\n",
       "      <td>大戰略耶魯大學長紅年大師課程從歷史提煉領導決策心法金石堂強力推薦書 耶魯大學長紅年戰略大師課...</td>\n",
       "      <td>luckylife8957</td>\n",
       "      <td>這本書花了一點時間才看完，雖然厚度頗高，讀起來卻是趣味十足。\\n從一個寓言故事開始破題，然後...</td>\n",
       "      <td>5</td>\n",
       "    </tr>\n",
       "    <tr>\n",
       "      <th>2</th>\n",
       "      <td>大戰略：耶魯大學長紅20年大師課程，從歷史提煉的領導決策心法</td>\n",
       "      <td>9789570856712</td>\n",
       "      <td>大戰略耶魯大學長紅年大師課程從歷史提煉領導決策心法金石堂強力推薦書 耶魯大學長紅年戰略大師課...</td>\n",
       "      <td>suliwen</td>\n",
       "      <td>列舉了貫穿古今的戰役歷史，不懂戰略的人來看也是很好看的歷史故事集。</td>\n",
       "      <td>5</td>\n",
       "    </tr>\n",
       "    <tr>\n",
       "      <th>3</th>\n",
       "      <td>西方憑什麼：五萬年人類大歷史，破解中國落後之謎</td>\n",
       "      <td>9789868271272</td>\n",
       "      <td>西方憑什麼五萬年人類大歷史破解中國落後之謎 美國筆會書獎德國國際財經書獎 美國英國中國德國暢...</td>\n",
       "      <td>p26842082001</td>\n",
       "      <td>古早決定論 vs. 一時碰巧論</td>\n",
       "      <td>3</td>\n",
       "    </tr>\n",
       "    <tr>\n",
       "      <th>4</th>\n",
       "      <td>西方憑什麼：五萬年人類大歷史，破解中國落後之謎</td>\n",
       "      <td>9789868271272</td>\n",
       "      <td>西方憑什麼五萬年人類大歷史破解中國落後之謎 美國筆會書獎德國國際財經書獎 美國英國中國德國暢...</td>\n",
       "      <td>rex.mcchiu</td>\n",
       "      <td>東西方比對發展軌跡的論述，清晰、具說服力時之所需支撐社會發展方向+地理決定論</td>\n",
       "      <td>5</td>\n",
       "    </tr>\n",
       "    <tr>\n",
       "      <th>...</th>\n",
       "      <td>...</td>\n",
       "      <td>...</td>\n",
       "      <td>...</td>\n",
       "      <td>...</td>\n",
       "      <td>...</td>\n",
       "      <td>...</td>\n",
       "    </tr>\n",
       "    <tr>\n",
       "      <th>57636</th>\n",
       "      <td>城市獵人35</td>\n",
       "      <td>9789571305943</td>\n",
       "      <td>城市獵人作者簡介北條司 年  月  生本福剛縣人 年投稿第  屆手塚賞為尊崇本漫畫大師手塚治...</td>\n",
       "      <td>萌太</td>\n",
       "      <td>翻一翻城市獵人出版日期，1985，僅僅比我小一歲。在那個年代裡，相信這樣畫風精緻、兼具戰鬥跟...</td>\n",
       "      <td>3</td>\n",
       "    </tr>\n",
       "    <tr>\n",
       "      <th>57637</th>\n",
       "      <td>怪奇檔案全</td>\n",
       "      <td>9789573464747</td>\n",
       "      <td>怪奇檔案全恐怖漫畫界巨匠野出志早期留下短篇４篇以被譽為最佳傑作藏六怪病開始每一篇扣人心弦非常...</td>\n",
       "      <td>fevlaner</td>\n",
       "      <td>市面僅見的日野日出志作品\\n也是第一本接觸，卻驚為天人的精選集\\n日野日出志的作品風格不一\\...</td>\n",
       "      <td>5</td>\n",
       "    </tr>\n",
       "    <tr>\n",
       "      <th>57638</th>\n",
       "      <td>阿保的童話</td>\n",
       "      <td>9789576930041</td>\n",
       "      <td>阿保童話如詩般阿保漫畫像夢般童年寄情歲孩童珍寶也成年人心中精靈每故事輕易帶領夢一般美麗天空中...</td>\n",
       "      <td>凜</td>\n",
       "      <td>〈炎夏裡的綿綿雪花〉是我的最愛。</td>\n",
       "      <td>5</td>\n",
       "    </tr>\n",
       "    <tr>\n",
       "      <th>57639</th>\n",
       "      <td>小鎮人家</td>\n",
       "      <td>9789576930058</td>\n",
       "      <td>小鎮人家阿保美代漫畫有散文氣質且精簡哲理散文觀賞小鎮人家有如閱讀莊子書中寓言故事蒲公英訊息中...</td>\n",
       "      <td>凜</td>\n",
       "      <td>純真。</td>\n",
       "      <td>5</td>\n",
       "    </tr>\n",
       "    <tr>\n",
       "      <th>57640</th>\n",
       "      <td>森林小語</td>\n",
       "      <td>9789576930072</td>\n",
       "      <td>森林小語中國人常說詩中有畫畫中有詩森林小語正這一句話最好詮釋文字用得輕巧懂得中國話中留白趣味...</td>\n",
       "      <td>凜</td>\n",
       "      <td>溫柔的童話。</td>\n",
       "      <td>5</td>\n",
       "    </tr>\n",
       "  </tbody>\n",
       "</table>\n",
       "<p>57641 rows × 6 columns</p>\n",
       "</div>"
      ],
      "text/plain": [
       "                                                 書名           ISBN  \\\n",
       "0      瞄過一眼就忘不了的世界史：高中老師╳神級YouTuber 2，000萬次點閱的超人氣課程  9789863844433   \n",
       "1                    大戰略：耶魯大學長紅20年大師課程，從歷史提煉的領導決策心法  9789570856712   \n",
       "2                    大戰略：耶魯大學長紅20年大師課程，從歷史提煉的領導決策心法  9789570856712   \n",
       "3                           西方憑什麼：五萬年人類大歷史，破解中國落後之謎  9789868271272   \n",
       "4                           西方憑什麼：五萬年人類大歷史，破解中國落後之謎  9789868271272   \n",
       "...                                             ...            ...   \n",
       "57636                                        城市獵人35  9789571305943   \n",
       "57637                                         怪奇檔案全  9789573464747   \n",
       "57638                                         阿保的童話  9789576930041   \n",
       "57639                                          小鎮人家  9789576930058   \n",
       "57640                                          森林小語  9789576930072   \n",
       "\n",
       "                                                   words           USER  \\\n",
       "0      瞄過一眼忘不世界史高中老師神級 萬次點閱超人氣課程高中老師神級最強圖像記憶法萬次點閱超人氣課...        Frankie   \n",
       "1      大戰略耶魯大學長紅年大師課程從歷史提煉領導決策心法金石堂強力推薦書 耶魯大學長紅年戰略大師課...  luckylife8957   \n",
       "2      大戰略耶魯大學長紅年大師課程從歷史提煉領導決策心法金石堂強力推薦書 耶魯大學長紅年戰略大師課...        suliwen   \n",
       "3      西方憑什麼五萬年人類大歷史破解中國落後之謎 美國筆會書獎德國國際財經書獎 美國英國中國德國暢...   p26842082001   \n",
       "4      西方憑什麼五萬年人類大歷史破解中國落後之謎 美國筆會書獎德國國際財經書獎 美國英國中國德國暢...     rex.mcchiu   \n",
       "...                                                  ...            ...   \n",
       "57636  城市獵人作者簡介北條司 年  月  生本福剛縣人 年投稿第  屆手塚賞為尊崇本漫畫大師手塚治...             萌太   \n",
       "57637  怪奇檔案全恐怖漫畫界巨匠野出志早期留下短篇４篇以被譽為最佳傑作藏六怪病開始每一篇扣人心弦非常...       fevlaner   \n",
       "57638  阿保童話如詩般阿保漫畫像夢般童年寄情歲孩童珍寶也成年人心中精靈每故事輕易帶領夢一般美麗天空中...              凜   \n",
       "57639  小鎮人家阿保美代漫畫有散文氣質且精簡哲理散文觀賞小鎮人家有如閱讀莊子書中寓言故事蒲公英訊息中...              凜   \n",
       "57640  森林小語中國人常說詩中有畫畫中有詩森林小語正這一句話最好詮釋文字用得輕巧懂得中國話中留白趣味...              凜   \n",
       "\n",
       "                                                 CONTENT  USERSTAR  \n",
       "0      書中先按時期分類，將世界史分開前、中、後三個時期，再將前期世界史按地區分類，令錯綜複雜的大混...         5  \n",
       "1      這本書花了一點時間才看完，雖然厚度頗高，讀起來卻是趣味十足。\\n從一個寓言故事開始破題，然後...         5  \n",
       "2                      列舉了貫穿古今的戰役歷史，不懂戰略的人來看也是很好看的歷史故事集。         5  \n",
       "3                                        古早決定論 vs. 一時碰巧論         3  \n",
       "4                 東西方比對發展軌跡的論述，清晰、具說服力時之所需支撐社會發展方向+地理決定論         5  \n",
       "...                                                  ...       ...  \n",
       "57636  翻一翻城市獵人出版日期，1985，僅僅比我小一歲。在那個年代裡，相信這樣畫風精緻、兼具戰鬥跟...         3  \n",
       "57637  市面僅見的日野日出志作品\\n也是第一本接觸，卻驚為天人的精選集\\n日野日出志的作品風格不一\\...         5  \n",
       "57638                                   〈炎夏裡的綿綿雪花〉是我的最愛。         5  \n",
       "57639                                                純真。         5  \n",
       "57640                                             溫柔的童話。         5  \n",
       "\n",
       "[57641 rows x 6 columns]"
      ]
     },
     "execution_count": 2,
     "metadata": {},
     "output_type": "execute_result"
    }
   ],
   "source": [
    "#載入資料集\n",
    "import json\n",
    "rating_df=pd.read_json('./userstar.json',lines=True)\n",
    "rating_df"
   ]
  },
  {
   "cell_type": "code",
   "execution_count": 3,
   "id": "1237962d",
   "metadata": {},
   "outputs": [
    {
     "data": {
      "text/plain": [
       "書名          False\n",
       "ISBN        False\n",
       "words       False\n",
       "USER        False\n",
       "CONTENT     False\n",
       "USERSTAR    False\n",
       "dtype: bool"
      ]
     },
     "execution_count": 3,
     "metadata": {},
     "output_type": "execute_result"
    }
   ],
   "source": [
    "# 檢查空值\n",
    "rating_df.isna().any()"
   ]
  },
  {
   "cell_type": "code",
   "execution_count": 4,
   "id": "5b4e62ae",
   "metadata": {},
   "outputs": [
    {
     "data": {
      "text/plain": [
       "書名          False\n",
       "ISBN        False\n",
       "words       False\n",
       "USER        False\n",
       "CONTENT     False\n",
       "USERSTAR    False\n",
       "dtype: bool"
      ]
     },
     "execution_count": 4,
     "metadata": {},
     "output_type": "execute_result"
    }
   ],
   "source": [
    "# 清理空值並檢查空值\n",
    "rating_df=rating_df.dropna(axis=0)\n",
    "rating_df.isna().any()"
   ]
  },
  {
   "cell_type": "code",
   "execution_count": 5,
   "id": "e44ae00a",
   "metadata": {},
   "outputs": [
    {
     "name": "stdout",
     "output_type": "stream",
     "text": [
      "> 33 duplicates\n",
      "> 0 duplicates\n"
     ]
    }
   ],
   "source": [
    "# 清理重複\n",
    "duplicates = rating_df.duplicated()\n",
    "\n",
    "if duplicates.sum() > 0:\n",
    "    print('> {} duplicates'.format(duplicates.sum()))\n",
    "    rating_df = rating_df[~duplicates]\n",
    "\n",
    "print('> {} duplicates'.format(rating_df.duplicated().sum()))"
   ]
  },
  {
   "cell_type": "code",
   "execution_count": 6,
   "id": "d58a5b0d",
   "metadata": {},
   "outputs": [
    {
     "name": "stdout",
     "output_type": "stream",
     "text": [
      "Rating Dataframe shape :  (57608, 6)\n"
     ]
    }
   ],
   "source": [
    "print('Rating Dataframe shape : ', rating_df.shape)"
   ]
  },
  {
   "cell_type": "code",
   "execution_count": 7,
   "id": "86f17429",
   "metadata": {},
   "outputs": [],
   "source": [
    "# 移除 CONTENT 欄位\n",
    "rating_df.drop(['CONTENT'], axis = 1, inplace = True)"
   ]
  },
  {
   "cell_type": "code",
   "execution_count": 9,
   "id": "6da6c013",
   "metadata": {},
   "outputs": [],
   "source": [
    "# ISBN轉為字串 移除 ISBN等於 0\n",
    "rating_df['ISBN'] = rating_df['ISBN'].astype('str')\n",
    "rating_df=rating_df.drop(rating_df[rating_df[\"ISBN\"]=='0'].index,axis=0) "
   ]
  },
  {
   "cell_type": "code",
   "execution_count": 10,
   "id": "d80b8d45",
   "metadata": {},
   "outputs": [
    {
     "data": {
      "text/html": [
       "<div>\n",
       "<style scoped>\n",
       "    .dataframe tbody tr th:only-of-type {\n",
       "        vertical-align: middle;\n",
       "    }\n",
       "\n",
       "    .dataframe tbody tr th {\n",
       "        vertical-align: top;\n",
       "    }\n",
       "\n",
       "    .dataframe thead th {\n",
       "        text-align: right;\n",
       "    }\n",
       "</style>\n",
       "<table border=\"1\" class=\"dataframe\">\n",
       "  <thead>\n",
       "    <tr style=\"text-align: right;\">\n",
       "      <th></th>\n",
       "      <th>書名</th>\n",
       "      <th>ISBN</th>\n",
       "      <th>words</th>\n",
       "      <th>USER</th>\n",
       "      <th>USERSTAR</th>\n",
       "      <th>user_id</th>\n",
       "    </tr>\n",
       "  </thead>\n",
       "  <tbody>\n",
       "    <tr>\n",
       "      <th>0</th>\n",
       "      <td>瞄過一眼就忘不了的世界史：高中老師╳神級YouTuber 2，000萬次點閱的超人氣課程</td>\n",
       "      <td>9789863844433</td>\n",
       "      <td>瞄過一眼忘不世界史高中老師神級 萬次點閱超人氣課程高中老師神級最強圖像記憶法萬次點閱超人氣課...</td>\n",
       "      <td>Frankie</td>\n",
       "      <td>5</td>\n",
       "      <td>534</td>\n",
       "    </tr>\n",
       "    <tr>\n",
       "      <th>1</th>\n",
       "      <td>大戰略：耶魯大學長紅20年大師課程，從歷史提煉的領導決策心法</td>\n",
       "      <td>9789570856712</td>\n",
       "      <td>大戰略耶魯大學長紅年大師課程從歷史提煉領導決策心法金石堂強力推薦書 耶魯大學長紅年戰略大師課...</td>\n",
       "      <td>luckylife8957</td>\n",
       "      <td>5</td>\n",
       "      <td>5071</td>\n",
       "    </tr>\n",
       "    <tr>\n",
       "      <th>2</th>\n",
       "      <td>大戰略：耶魯大學長紅20年大師課程，從歷史提煉的領導決策心法</td>\n",
       "      <td>9789570856712</td>\n",
       "      <td>大戰略耶魯大學長紅年大師課程從歷史提煉領導決策心法金石堂強力推薦書 耶魯大學長紅年戰略大師課...</td>\n",
       "      <td>suliwen</td>\n",
       "      <td>5</td>\n",
       "      <td>6827</td>\n",
       "    </tr>\n",
       "    <tr>\n",
       "      <th>3</th>\n",
       "      <td>西方憑什麼：五萬年人類大歷史，破解中國落後之謎</td>\n",
       "      <td>9789868271272</td>\n",
       "      <td>西方憑什麼五萬年人類大歷史破解中國落後之謎 美國筆會書獎德國國際財經書獎 美國英國中國德國暢...</td>\n",
       "      <td>p26842082001</td>\n",
       "      <td>3</td>\n",
       "      <td>5742</td>\n",
       "    </tr>\n",
       "    <tr>\n",
       "      <th>4</th>\n",
       "      <td>西方憑什麼：五萬年人類大歷史，破解中國落後之謎</td>\n",
       "      <td>9789868271272</td>\n",
       "      <td>西方憑什麼五萬年人類大歷史破解中國落後之謎 美國筆會書獎德國國際財經書獎 美國英國中國德國暢...</td>\n",
       "      <td>rex.mcchiu</td>\n",
       "      <td>5</td>\n",
       "      <td>6138</td>\n",
       "    </tr>\n",
       "  </tbody>\n",
       "</table>\n",
       "</div>"
      ],
      "text/plain": [
       "                                             書名           ISBN  \\\n",
       "0  瞄過一眼就忘不了的世界史：高中老師╳神級YouTuber 2，000萬次點閱的超人氣課程  9789863844433   \n",
       "1                大戰略：耶魯大學長紅20年大師課程，從歷史提煉的領導決策心法  9789570856712   \n",
       "2                大戰略：耶魯大學長紅20年大師課程，從歷史提煉的領導決策心法  9789570856712   \n",
       "3                       西方憑什麼：五萬年人類大歷史，破解中國落後之謎  9789868271272   \n",
       "4                       西方憑什麼：五萬年人類大歷史，破解中國落後之謎  9789868271272   \n",
       "\n",
       "                                               words           USER  USERSTAR  \\\n",
       "0  瞄過一眼忘不世界史高中老師神級 萬次點閱超人氣課程高中老師神級最強圖像記憶法萬次點閱超人氣課...        Frankie         5   \n",
       "1  大戰略耶魯大學長紅年大師課程從歷史提煉領導決策心法金石堂強力推薦書 耶魯大學長紅年戰略大師課...  luckylife8957         5   \n",
       "2  大戰略耶魯大學長紅年大師課程從歷史提煉領導決策心法金石堂強力推薦書 耶魯大學長紅年戰略大師課...        suliwen         5   \n",
       "3  西方憑什麼五萬年人類大歷史破解中國落後之謎 美國筆會書獎德國國際財經書獎 美國英國中國德國暢...   p26842082001         3   \n",
       "4  西方憑什麼五萬年人類大歷史破解中國落後之謎 美國筆會書獎德國國際財經書獎 美國英國中國德國暢...     rex.mcchiu         5   \n",
       "\n",
       "   user_id  \n",
       "0      534  \n",
       "1     5071  \n",
       "2     6827  \n",
       "3     5742  \n",
       "4     6138  "
      ]
     },
     "execution_count": 10,
     "metadata": {},
     "output_type": "execute_result"
    }
   ],
   "source": [
    "# 給user_id\n",
    "import statsmodels.api as sm\n",
    "rating_df['user_id'] = pd.Categorical(rating_df.USER).codes   \n",
    "rating_df.head()"
   ]
  },
  {
   "cell_type": "code",
   "execution_count": 11,
   "id": "3b9a4ecf",
   "metadata": {},
   "outputs": [
    {
     "data": {
      "text/html": [
       "<div>\n",
       "<style scoped>\n",
       "    .dataframe tbody tr th:only-of-type {\n",
       "        vertical-align: middle;\n",
       "    }\n",
       "\n",
       "    .dataframe tbody tr th {\n",
       "        vertical-align: top;\n",
       "    }\n",
       "\n",
       "    .dataframe thead th {\n",
       "        text-align: right;\n",
       "    }\n",
       "</style>\n",
       "<table border=\"1\" class=\"dataframe\">\n",
       "  <thead>\n",
       "    <tr style=\"text-align: right;\">\n",
       "      <th>user_id</th>\n",
       "      <th>0</th>\n",
       "      <th>1</th>\n",
       "      <th>2</th>\n",
       "      <th>3</th>\n",
       "      <th>4</th>\n",
       "      <th>5</th>\n",
       "      <th>6</th>\n",
       "      <th>7</th>\n",
       "      <th>8</th>\n",
       "      <th>9</th>\n",
       "      <th>...</th>\n",
       "      <th>8877</th>\n",
       "      <th>8878</th>\n",
       "      <th>8879</th>\n",
       "      <th>8880</th>\n",
       "      <th>8881</th>\n",
       "      <th>8882</th>\n",
       "      <th>8883</th>\n",
       "      <th>8884</th>\n",
       "      <th>8885</th>\n",
       "      <th>8886</th>\n",
       "    </tr>\n",
       "    <tr>\n",
       "      <th>ISBN</th>\n",
       "      <th></th>\n",
       "      <th></th>\n",
       "      <th></th>\n",
       "      <th></th>\n",
       "      <th></th>\n",
       "      <th></th>\n",
       "      <th></th>\n",
       "      <th></th>\n",
       "      <th></th>\n",
       "      <th></th>\n",
       "      <th></th>\n",
       "      <th></th>\n",
       "      <th></th>\n",
       "      <th></th>\n",
       "      <th></th>\n",
       "      <th></th>\n",
       "      <th></th>\n",
       "      <th></th>\n",
       "      <th></th>\n",
       "      <th></th>\n",
       "      <th></th>\n",
       "    </tr>\n",
       "  </thead>\n",
       "  <tbody>\n",
       "    <tr>\n",
       "      <th>1509092070025</th>\n",
       "      <td>NaN</td>\n",
       "      <td>NaN</td>\n",
       "      <td>NaN</td>\n",
       "      <td>NaN</td>\n",
       "      <td>NaN</td>\n",
       "      <td>NaN</td>\n",
       "      <td>NaN</td>\n",
       "      <td>NaN</td>\n",
       "      <td>NaN</td>\n",
       "      <td>NaN</td>\n",
       "      <td>...</td>\n",
       "      <td>NaN</td>\n",
       "      <td>NaN</td>\n",
       "      <td>NaN</td>\n",
       "      <td>NaN</td>\n",
       "      <td>NaN</td>\n",
       "      <td>NaN</td>\n",
       "      <td>NaN</td>\n",
       "      <td>NaN</td>\n",
       "      <td>NaN</td>\n",
       "      <td>NaN</td>\n",
       "    </tr>\n",
       "    <tr>\n",
       "      <th>1611172070020</th>\n",
       "      <td>NaN</td>\n",
       "      <td>NaN</td>\n",
       "      <td>NaN</td>\n",
       "      <td>NaN</td>\n",
       "      <td>NaN</td>\n",
       "      <td>NaN</td>\n",
       "      <td>NaN</td>\n",
       "      <td>NaN</td>\n",
       "      <td>NaN</td>\n",
       "      <td>NaN</td>\n",
       "      <td>...</td>\n",
       "      <td>NaN</td>\n",
       "      <td>NaN</td>\n",
       "      <td>NaN</td>\n",
       "      <td>NaN</td>\n",
       "      <td>NaN</td>\n",
       "      <td>NaN</td>\n",
       "      <td>NaN</td>\n",
       "      <td>NaN</td>\n",
       "      <td>NaN</td>\n",
       "      <td>NaN</td>\n",
       "    </tr>\n",
       "    <tr>\n",
       "      <th>1706192070010</th>\n",
       "      <td>NaN</td>\n",
       "      <td>NaN</td>\n",
       "      <td>NaN</td>\n",
       "      <td>NaN</td>\n",
       "      <td>NaN</td>\n",
       "      <td>NaN</td>\n",
       "      <td>NaN</td>\n",
       "      <td>NaN</td>\n",
       "      <td>NaN</td>\n",
       "      <td>NaN</td>\n",
       "      <td>...</td>\n",
       "      <td>NaN</td>\n",
       "      <td>NaN</td>\n",
       "      <td>NaN</td>\n",
       "      <td>NaN</td>\n",
       "      <td>NaN</td>\n",
       "      <td>NaN</td>\n",
       "      <td>NaN</td>\n",
       "      <td>NaN</td>\n",
       "      <td>NaN</td>\n",
       "      <td>NaN</td>\n",
       "    </tr>\n",
       "    <tr>\n",
       "      <th>2006172050018</th>\n",
       "      <td>NaN</td>\n",
       "      <td>NaN</td>\n",
       "      <td>NaN</td>\n",
       "      <td>NaN</td>\n",
       "      <td>NaN</td>\n",
       "      <td>NaN</td>\n",
       "      <td>NaN</td>\n",
       "      <td>NaN</td>\n",
       "      <td>NaN</td>\n",
       "      <td>NaN</td>\n",
       "      <td>...</td>\n",
       "      <td>NaN</td>\n",
       "      <td>NaN</td>\n",
       "      <td>NaN</td>\n",
       "      <td>NaN</td>\n",
       "      <td>NaN</td>\n",
       "      <td>NaN</td>\n",
       "      <td>NaN</td>\n",
       "      <td>NaN</td>\n",
       "      <td>NaN</td>\n",
       "      <td>NaN</td>\n",
       "    </tr>\n",
       "    <tr>\n",
       "      <th>2020070100002</th>\n",
       "      <td>NaN</td>\n",
       "      <td>NaN</td>\n",
       "      <td>NaN</td>\n",
       "      <td>NaN</td>\n",
       "      <td>NaN</td>\n",
       "      <td>NaN</td>\n",
       "      <td>NaN</td>\n",
       "      <td>NaN</td>\n",
       "      <td>NaN</td>\n",
       "      <td>NaN</td>\n",
       "      <td>...</td>\n",
       "      <td>NaN</td>\n",
       "      <td>NaN</td>\n",
       "      <td>NaN</td>\n",
       "      <td>NaN</td>\n",
       "      <td>NaN</td>\n",
       "      <td>NaN</td>\n",
       "      <td>NaN</td>\n",
       "      <td>NaN</td>\n",
       "      <td>NaN</td>\n",
       "      <td>NaN</td>\n",
       "    </tr>\n",
       "  </tbody>\n",
       "</table>\n",
       "<p>5 rows × 8887 columns</p>\n",
       "</div>"
      ],
      "text/plain": [
       "user_id        0     1     2     3     4     5     6     7     8     9     \\\n",
       "ISBN                                                                        \n",
       "1509092070025   NaN   NaN   NaN   NaN   NaN   NaN   NaN   NaN   NaN   NaN   \n",
       "1611172070020   NaN   NaN   NaN   NaN   NaN   NaN   NaN   NaN   NaN   NaN   \n",
       "1706192070010   NaN   NaN   NaN   NaN   NaN   NaN   NaN   NaN   NaN   NaN   \n",
       "2006172050018   NaN   NaN   NaN   NaN   NaN   NaN   NaN   NaN   NaN   NaN   \n",
       "2020070100002   NaN   NaN   NaN   NaN   NaN   NaN   NaN   NaN   NaN   NaN   \n",
       "\n",
       "user_id        ...  8877  8878  8879  8880  8881  8882  8883  8884  8885  8886  \n",
       "ISBN           ...                                                              \n",
       "1509092070025  ...   NaN   NaN   NaN   NaN   NaN   NaN   NaN   NaN   NaN   NaN  \n",
       "1611172070020  ...   NaN   NaN   NaN   NaN   NaN   NaN   NaN   NaN   NaN   NaN  \n",
       "1706192070010  ...   NaN   NaN   NaN   NaN   NaN   NaN   NaN   NaN   NaN   NaN  \n",
       "2006172050018  ...   NaN   NaN   NaN   NaN   NaN   NaN   NaN   NaN   NaN   NaN  \n",
       "2020070100002  ...   NaN   NaN   NaN   NaN   NaN   NaN   NaN   NaN   NaN   NaN  \n",
       "\n",
       "[5 rows x 8887 columns]"
      ]
     },
     "execution_count": 11,
     "metadata": {},
     "output_type": "execute_result"
    }
   ],
   "source": [
    "book_features_df = rating_df.pivot_table(index = 'ISBN',columns = 'user_id',values = 'USERSTAR')\n",
    "book_features_df.head()"
   ]
  },
  {
   "cell_type": "code",
   "execution_count": 12,
   "id": "712229fe",
   "metadata": {},
   "outputs": [
    {
     "data": {
      "text/plain": [
       "user_id\n",
       "0       28776\n",
       "1       28772\n",
       "2       28745\n",
       "3       28779\n",
       "4       28765\n",
       "        ...  \n",
       "8882    28749\n",
       "8883    28778\n",
       "8884    28778\n",
       "8885    28777\n",
       "8886    28773\n",
       "Length: 8887, dtype: int64"
      ]
     },
     "execution_count": 12,
     "metadata": {},
     "output_type": "execute_result"
    }
   ],
   "source": [
    "missing_value = book_features_df.isna().sum()\n",
    "missing_value"
   ]
  },
  {
   "cell_type": "code",
   "execution_count": 13,
   "id": "2f7a342e",
   "metadata": {},
   "outputs": [
    {
     "name": "stdout",
     "output_type": "stream",
     "text": [
      "Total Empty cells are :  255710275\n",
      "Total cells in Matrix are :  255767860\n",
      "Sparsity of Matrix are :  0.999774854432453\n"
     ]
    }
   ],
   "source": [
    "rows = book_features_df.shape[0]\n",
    "cols = book_features_df.shape[1]\n",
    "\n",
    "count_empty_or_zero_cells = book_features_df.isna().sum().sum()\n",
    "total_elements = rows * cols\n",
    "\n",
    "sparsity_of_matrix = count_empty_or_zero_cells/total_elements\n",
    "\n",
    "print('Total Empty cells are : ', count_empty_or_zero_cells)\n",
    "print('Total cells in Matrix are : ', total_elements)\n",
    "print('Sparsity of Matrix are : ', sparsity_of_matrix)"
   ]
  },
  {
   "cell_type": "code",
   "execution_count": 14,
   "id": "214ec3a9",
   "metadata": {},
   "outputs": [],
   "source": [
    "# 空值用 0 取代\n",
    "book_features_df.fillna(0, inplace = True)"
   ]
  },
  {
   "cell_type": "code",
   "execution_count": 15,
   "id": "576c892b",
   "metadata": {},
   "outputs": [
    {
     "data": {
      "text/plain": [
       "array([[0., 0., 0., ..., 0., 0., 0.],\n",
       "       [0., 0., 0., ..., 0., 0., 0.],\n",
       "       [0., 0., 0., ..., 0., 0., 0.],\n",
       "       ...,\n",
       "       [0., 0., 0., ..., 0., 0., 0.],\n",
       "       [0., 0., 0., ..., 0., 0., 0.],\n",
       "       [0., 0., 0., ..., 0., 0., 0.]])"
      ]
     },
     "execution_count": 15,
     "metadata": {},
     "output_type": "execute_result"
    }
   ],
   "source": [
    "book_features_df.values"
   ]
  },
  {
   "cell_type": "code",
   "execution_count": 16,
   "id": "319f8c46",
   "metadata": {},
   "outputs": [],
   "source": [
    "from scipy.sparse import csr_matrix\n",
    "book_features_df_matrix = csr_matrix(book_features_df.values)"
   ]
  },
  {
   "cell_type": "code",
   "execution_count": 57,
   "id": "184d2756",
   "metadata": {},
   "outputs": [
    {
     "data": {
      "text/plain": [
       "NearestNeighbors(algorithm='brute', metric='cosine')"
      ]
     },
     "execution_count": 57,
     "metadata": {},
     "output_type": "execute_result"
    }
   ],
   "source": [
    "# 建立餘弦相似模型 (K-近鄰演算法)\n",
    "from sklearn.neighbors import NearestNeighbors\n",
    "nearest_neighbor_model = NearestNeighbors(metric = 'cosine', algorithm = 'brute')\n",
    "nearest_neighbor_model.fit(book_features_df_matrix)"
   ]
  },
  {
   "cell_type": "code",
   "execution_count": 58,
   "id": "2891aed2",
   "metadata": {},
   "outputs": [
    {
     "name": "stdout",
     "output_type": "stream",
     "text": [
      "Total books in our pivot table :  28780\n",
      "Random book Index :  3190\n"
     ]
    }
   ],
   "source": [
    "# 隨機選擇一本書\n",
    "total_no_of_books = book_features_df.shape[0]\n",
    "print('Total books in our pivot table : ', total_no_of_books)\n",
    "random_book_index = np.random.choice(total_no_of_books)\n",
    "print('Random book Index : ', random_book_index)"
   ]
  },
  {
   "cell_type": "code",
   "execution_count": 59,
   "id": "725a3cdb",
   "metadata": {},
   "outputs": [
    {
     "data": {
      "text/plain": [
       "user_id\n",
       "0       0.0\n",
       "1       0.0\n",
       "2       0.0\n",
       "3       0.0\n",
       "4       0.0\n",
       "       ... \n",
       "8882    0.0\n",
       "8883    0.0\n",
       "8884    0.0\n",
       "8885    0.0\n",
       "8886    0.0\n",
       "Name: 9789571369792, Length: 8887, dtype: float64"
      ]
     },
     "execution_count": 59,
     "metadata": {},
     "output_type": "execute_result"
    }
   ],
   "source": [
    "book_features_df.iloc[random_book_index]"
   ]
  },
  {
   "cell_type": "code",
   "execution_count": 60,
   "id": "40b0ab33",
   "metadata": {},
   "outputs": [
    {
     "data": {
      "text/plain": [
       "array([[0., 0., 0., ..., 0., 0., 0.]])"
      ]
     },
     "execution_count": 60,
     "metadata": {},
     "output_type": "execute_result"
    }
   ],
   "source": [
    "# 向量顯示 random_book\n",
    "one_dimensional_representation_of_book_vector = book_features_df.iloc[random_book_index].values.reshape(1, -1)\n",
    "one_dimensional_representation_of_book_vector"
   ]
  },
  {
   "cell_type": "code",
   "execution_count": 61,
   "id": "de69e75d",
   "metadata": {},
   "outputs": [
    {
     "name": "stdout",
     "output_type": "stream",
     "text": [
      "Distance : [[0.         0.33041052 0.5582739  0.63933215 1.         1.        ]]\n",
      "Indices : [[ 3190  3192 17785 16323 19193 19186]]\n"
     ]
    }
   ],
   "source": [
    "# 相似書本與 random_book 的餘弦距離指數\n",
    "distances, indices = nearest_neighbor_model.kneighbors(one_dimensional_representation_of_book_vector, n_neighbors = 6)\n",
    "print('Distance :', distances)\n",
    "print('Indices :', indices)"
   ]
  },
  {
   "cell_type": "code",
   "execution_count": 62,
   "id": "45409215",
   "metadata": {},
   "outputs": [
    {
     "name": "stdout",
     "output_type": "stream",
     "text": [
      "Recommendations for 9789571369792:\n",
      "\n",
      "1: 9789571369815, with distance of 0.33041051999302484\n",
      "2: 9789863616351, with distance of 0.5582738957006139\n",
      "3: 9789863208525, with distance of 0.639332146133027\n",
      "4: 9789864659142, with distance of 1.0\n",
      "5: 9789864658244, with distance of 1.0\n"
     ]
    }
   ],
   "source": [
    "indices = indices.flatten()\n",
    "distances = distances.flatten()\n",
    "for i in range(0, len(indices)):\n",
    "    ## same book\n",
    "    if i == 0:\n",
    "        print('Recommendations for {0}:\\n'.format(book_features_df.index[random_book_index]))\n",
    "    else:\n",
    "        ## similar books\n",
    "        print('{0}: {1}, with distance of {2}'.format(i, book_features_df.index[indices[i]], distances[i]))"
   ]
  },
  {
   "cell_type": "code",
   "execution_count": 23,
   "id": "2b6ac45f",
   "metadata": {},
   "outputs": [],
   "source": [
    "# 找出全部書本的相似資料集 \n",
    "my_dict = {}\n",
    "for book_index in range(book_features_df.shape[0]):\n",
    "    \n",
    "    one_dimensional_representation_of_book_vector = book_features_df.iloc[book_index].values.reshape(1, -1)\n",
    "    distances, indices = nearest_neighbor_model.kneighbors(one_dimensional_representation_of_book_vector, n_neighbors = 4)\n",
    "    indices = indices.flatten()\n",
    "    distances = distances.flatten()\n",
    "    similar_books = []\n",
    "    \n",
    "    for i in range(0, len(indices)):\n",
    "        ## same book\n",
    "        if i == 0:\n",
    "            original_book = book_features_df.index[book_index]\n",
    "        else:\n",
    "            ## similar books\n",
    "            similar_books.append(book_features_df.index[indices[i]])\n",
    "\n",
    "        my_dict[original_book] = similar_books"
   ]
  },
  {
   "cell_type": "code",
   "execution_count": 24,
   "id": "e4be0867",
   "metadata": {},
   "outputs": [
    {
     "data": {
      "text/html": [
       "<div>\n",
       "<style scoped>\n",
       "    .dataframe tbody tr th:only-of-type {\n",
       "        vertical-align: middle;\n",
       "    }\n",
       "\n",
       "    .dataframe tbody tr th {\n",
       "        vertical-align: top;\n",
       "    }\n",
       "\n",
       "    .dataframe thead th {\n",
       "        text-align: right;\n",
       "    }\n",
       "</style>\n",
       "<table border=\"1\" class=\"dataframe\">\n",
       "  <thead>\n",
       "    <tr style=\"text-align: right;\">\n",
       "      <th></th>\n",
       "      <th>1st_Similar_book</th>\n",
       "      <th>2nd_Similar_book</th>\n",
       "      <th>3rd_Similar_book</th>\n",
       "    </tr>\n",
       "  </thead>\n",
       "  <tbody>\n",
       "    <tr>\n",
       "      <th>1509092070025</th>\n",
       "      <td>9789864820894</td>\n",
       "      <td>9789865987916</td>\n",
       "      <td>9789865660406</td>\n",
       "    </tr>\n",
       "    <tr>\n",
       "      <th>1611172070020</th>\n",
       "      <td>9789866237218</td>\n",
       "      <td>9789865625061</td>\n",
       "      <td>9789861659459</td>\n",
       "    </tr>\n",
       "    <tr>\n",
       "      <th>1706192070010</th>\n",
       "      <td>9789865945374</td>\n",
       "      <td>9789863193678</td>\n",
       "      <td>9789863842477</td>\n",
       "    </tr>\n",
       "    <tr>\n",
       "      <th>2006172050018</th>\n",
       "      <td>9789865945374</td>\n",
       "      <td>9789863193678</td>\n",
       "      <td>9789863842477</td>\n",
       "    </tr>\n",
       "    <tr>\n",
       "      <th>2020070100002</th>\n",
       "      <td>9789865945374</td>\n",
       "      <td>9789863193678</td>\n",
       "      <td>9789863842477</td>\n",
       "    </tr>\n",
       "  </tbody>\n",
       "</table>\n",
       "</div>"
      ],
      "text/plain": [
       "              1st_Similar_book 2nd_Similar_book 3rd_Similar_book\n",
       "1509092070025    9789864820894    9789865987916    9789865660406\n",
       "1611172070020    9789866237218    9789865625061    9789861659459\n",
       "1706192070010    9789865945374    9789863193678    9789863842477\n",
       "2006172050018    9789865945374    9789863193678    9789863842477\n",
       "2020070100002    9789865945374    9789863193678    9789863842477"
      ]
     },
     "execution_count": 24,
     "metadata": {},
     "output_type": "execute_result"
    }
   ],
   "source": [
    "# 秀出前三本相似\n",
    "recommended_book_df = pd.DataFrame(my_dict)\n",
    "recommended_book_df = recommended_book_df.T\n",
    "recommended_book_df.columns = ['1st_Similar_book', '2nd_Similar_book', '3rd_Similar_book']\n",
    "recommended_book_df.head()"
   ]
  },
  {
   "cell_type": "code",
   "execution_count": 25,
   "id": "b80ee8af",
   "metadata": {},
   "outputs": [
    {
     "name": "stdout",
     "output_type": "stream",
     "text": [
      "I have book recommendatation for you: \n",
      "\n",
      "9789570839913\n",
      "9789862724743\n",
      "9789570839531\n"
     ]
    }
   ],
   "source": [
    "# 書本推薦\n",
    "book_name = \"9789862134467\"\n",
    "result = recommended_book_df.loc[book_name, : ]\n",
    "print('I have book recommendatation for you: \\n')\n",
    "for books in list(result.values):\n",
    "      print(books)"
   ]
  },
  {
   "cell_type": "code",
   "execution_count": 26,
   "id": "79df25af",
   "metadata": {},
   "outputs": [
    {
     "data": {
      "text/html": [
       "<div>\n",
       "<style scoped>\n",
       "    .dataframe tbody tr th:only-of-type {\n",
       "        vertical-align: middle;\n",
       "    }\n",
       "\n",
       "    .dataframe tbody tr th {\n",
       "        vertical-align: top;\n",
       "    }\n",
       "\n",
       "    .dataframe thead th {\n",
       "        text-align: right;\n",
       "    }\n",
       "</style>\n",
       "<table border=\"1\" class=\"dataframe\">\n",
       "  <thead>\n",
       "    <tr style=\"text-align: right;\">\n",
       "      <th></th>\n",
       "      <th>1st_Similar_book</th>\n",
       "      <th>2nd_Similar_book</th>\n",
       "      <th>3rd_Similar_book</th>\n",
       "    </tr>\n",
       "  </thead>\n",
       "  <tbody>\n",
       "    <tr>\n",
       "      <th>1509092070025</th>\n",
       "      <td>9789864820894</td>\n",
       "      <td>9789865987916</td>\n",
       "      <td>9789865660406</td>\n",
       "    </tr>\n",
       "    <tr>\n",
       "      <th>1611172070020</th>\n",
       "      <td>9789866237218</td>\n",
       "      <td>9789865625061</td>\n",
       "      <td>9789861659459</td>\n",
       "    </tr>\n",
       "    <tr>\n",
       "      <th>1706192070010</th>\n",
       "      <td>9789865945374</td>\n",
       "      <td>9789863193678</td>\n",
       "      <td>9789863842477</td>\n",
       "    </tr>\n",
       "    <tr>\n",
       "      <th>2006172050018</th>\n",
       "      <td>9789865945374</td>\n",
       "      <td>9789863193678</td>\n",
       "      <td>9789863842477</td>\n",
       "    </tr>\n",
       "    <tr>\n",
       "      <th>2020070100002</th>\n",
       "      <td>9789865945374</td>\n",
       "      <td>9789863193678</td>\n",
       "      <td>9789863842477</td>\n",
       "    </tr>\n",
       "  </tbody>\n",
       "</table>\n",
       "</div>"
      ],
      "text/plain": [
       "              1st_Similar_book 2nd_Similar_book 3rd_Similar_book\n",
       "1509092070025    9789864820894    9789865987916    9789865660406\n",
       "1611172070020    9789866237218    9789865625061    9789861659459\n",
       "1706192070010    9789865945374    9789863193678    9789863842477\n",
       "2006172050018    9789865945374    9789863193678    9789863842477\n",
       "2020070100002    9789865945374    9789863193678    9789863842477"
      ]
     },
     "execution_count": 26,
     "metadata": {},
     "output_type": "execute_result"
    }
   ],
   "source": [
    "# 秀出前三本相似\n",
    "recommended_book_df = pd.DataFrame(my_dict)\n",
    "recommended_book_df = recommended_book_df.T\n",
    "recommended_book_df.columns = ['1st_Similar_book', '2nd_Similar_book', '3rd_Similar_book']\n",
    "recommended_book_df.head()"
   ]
  },
  {
   "cell_type": "code",
   "execution_count": 27,
   "id": "425da858",
   "metadata": {},
   "outputs": [],
   "source": [
    "# recommended_book_df.to_json('recommended_book_df.json',orient='records',lines=True,force_ascii=False)"
   ]
  },
  {
   "cell_type": "code",
   "execution_count": 29,
   "id": "88e4484e",
   "metadata": {},
   "outputs": [
    {
     "name": "stderr",
     "output_type": "stream",
     "text": [
      "<ipython-input-29-7cb042515916>:13: DeprecationWarning: insert is deprecated. Use insert_one or insert_many instead.\n",
      "  coll.insert([kv])\n"
     ]
    }
   ],
   "source": [
    "# # 存入資料庫\n",
    "# from pymongo import MongoClient\n",
    "# import json\n",
    "\n",
    "# client = MongoClient(host='10.2.14.10',port=27017)\n",
    "# db = client.kingstone\n",
    "# coll = db.userCF\n",
    "# coll.drop()\n",
    "# for k,v in my_dict.items():\n",
    "    \n",
    "#     kv={\"ISBN\":k,\"list\":v}\n",
    "# #     print(kv)\n",
    "#     coll.insert([kv])"
   ]
  },
  {
   "cell_type": "code",
   "execution_count": null,
   "id": "36822f57",
   "metadata": {},
   "outputs": [],
   "source": []
  }
 ],
 "metadata": {
  "kernelspec": {
   "display_name": "Python 3 (ipykernel)",
   "language": "python",
   "name": "python3"
  },
  "language_info": {
   "codemirror_mode": {
    "name": "ipython",
    "version": 3
   },
   "file_extension": ".py",
   "mimetype": "text/x-python",
   "name": "python",
   "nbconvert_exporter": "python",
   "pygments_lexer": "ipython3",
   "version": "3.9.6"
  }
 },
 "nbformat": 4,
 "nbformat_minor": 5
}
