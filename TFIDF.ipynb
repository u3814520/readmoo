{
 "cells": [
  {
   "cell_type": "code",
   "execution_count": 142,
   "id": "4e3fe31b",
   "metadata": {},
   "outputs": [
    {
     "data": {
      "text/html": [
       "<div>\n",
       "<style scoped>\n",
       "    .dataframe tbody tr th:only-of-type {\n",
       "        vertical-align: middle;\n",
       "    }\n",
       "\n",
       "    .dataframe tbody tr th {\n",
       "        vertical-align: top;\n",
       "    }\n",
       "\n",
       "    .dataframe thead th {\n",
       "        text-align: right;\n",
       "    }\n",
       "</style>\n",
       "<table border=\"1\" class=\"dataframe\">\n",
       "  <thead>\n",
       "    <tr style=\"text-align: right;\">\n",
       "      <th></th>\n",
       "      <th>ISBN</th>\n",
       "      <th>書名</th>\n",
       "      <th>書籍簡介</th>\n",
       "    </tr>\n",
       "  </thead>\n",
       "  <tbody>\n",
       "    <tr>\n",
       "      <th>0</th>\n",
       "      <td>9789863844433</td>\n",
       "      <td>瞄過一眼就忘不了的世界史：高中老師╳神級YouTuber 2，000萬次點閱的超人氣課程</td>\n",
       "      <td>高中老師╳神級YouTuber╳最強「圖像記憶法」★2,000萬次點閱的超人氣課程！★狂銷3...</td>\n",
       "    </tr>\n",
       "    <tr>\n",
       "      <th>1</th>\n",
       "      <td>9789869399470</td>\n",
       "      <td>酷刑史：99種人類的罪與罰</td>\n",
       "      <td>充滿鮮血與瘋狂的黑暗刑罰史圖解古今中外的處刑與拷問車裂、木裂、剝皮、拔舌、吞釘、刺眼斷頭臺、...</td>\n",
       "    </tr>\n",
       "    <tr>\n",
       "      <th>2</th>\n",
       "      <td>9789869590235</td>\n",
       "      <td>詭圖：地圖歷史上最偉大的神話、謊言和謬誤（精裝）</td>\n",
       "      <td>人類勇於探索未知，遠赴險地，征服困境，驗證夢想的偉大過程！英國亞馬遜地圖製圖學與大地測量學類...</td>\n",
       "    </tr>\n",
       "    <tr>\n",
       "      <th>3</th>\n",
       "      <td>9789861782645</td>\n",
       "      <td>圖解世界史—現代卷【彩圖解說版】</td>\n",
       "      <td>【圖解世界史系列】——放眼全球歷史的浪漫人文之旅！！★1.古代卷 ☆2.中古卷 ★3.近代卷...</td>\n",
       "    </tr>\n",
       "    <tr>\n",
       "      <th>4</th>\n",
       "      <td>9789570533446</td>\n",
       "      <td>歷史學的探究與實作操作手冊</td>\n",
       "      <td>108課綱歷史科目「探究與實作」課程規劃設計參考指南！一次解決 主題設定、課程活動、參考書目...</td>\n",
       "    </tr>\n",
       "    <tr>\n",
       "      <th>...</th>\n",
       "      <td>...</td>\n",
       "      <td>...</td>\n",
       "      <td>...</td>\n",
       "    </tr>\n",
       "    <tr>\n",
       "      <th>472829</th>\n",
       "      <td>9789571307664</td>\n",
       "      <td>新樂園(全)</td>\n",
       "      <td>充滿理想世界的「新樂園」Push！阿推，漫畫界的怪傑。畫風特異前衛，向來是文化評論者最感興趣...</td>\n",
       "    </tr>\n",
       "    <tr>\n",
       "      <th>472830</th>\n",
       "      <td>9789571311630</td>\n",
       "      <td>封神榜01</td>\n",
       "      <td>封神榜「敖幼祥的漫畫中國成語」發行以來，不僅連連再版，更獲得了國立編譯館年度優良漫畫…全書以...</td>\n",
       "    </tr>\n",
       "    <tr>\n",
       "      <th>472831</th>\n",
       "      <td>9789571309859</td>\n",
       "      <td>人生的滋味菜根譚</td>\n",
       "      <td>人生的滋味菜根之香敬奉有緣人洪自誠著「菜根譚」一書，是一本生動、饒富情味的格言小品，在三百六...</td>\n",
       "    </tr>\n",
       "    <tr>\n",
       "      <th>472832</th>\n",
       "      <td>9789571309736</td>\n",
       "      <td>快樂營02(完)</td>\n",
       "      <td>前集提及塞外彎月蠻族犯境，朝廷遣派包將軍、錢師爺並快樂營一干人馬，往救邊險，在敵我對壘之際，...</td>\n",
       "    </tr>\n",
       "    <tr>\n",
       "      <th>472833</th>\n",
       "      <td>9789571309743</td>\n",
       "      <td>快樂營01</td>\n",
       "      <td>快樂營「快樂營」毫無疑問是敖幼祥「烏龍院」之後最傑出的作品，它呈現的仍是敖幼祥「才子式」的幽...</td>\n",
       "    </tr>\n",
       "  </tbody>\n",
       "</table>\n",
       "<p>472834 rows × 3 columns</p>\n",
       "</div>"
      ],
      "text/plain": [
       "                 ISBN                                            書名  \\\n",
       "0       9789863844433  瞄過一眼就忘不了的世界史：高中老師╳神級YouTuber 2，000萬次點閱的超人氣課程   \n",
       "1       9789869399470                                 酷刑史：99種人類的罪與罰   \n",
       "2       9789869590235                      詭圖：地圖歷史上最偉大的神話、謊言和謬誤（精裝）   \n",
       "3       9789861782645                              圖解世界史—現代卷【彩圖解說版】   \n",
       "4       9789570533446                                 歷史學的探究與實作操作手冊   \n",
       "...               ...                                           ...   \n",
       "472829  9789571307664                                        新樂園(全)   \n",
       "472830  9789571311630                                         封神榜01   \n",
       "472831  9789571309859                                      人生的滋味菜根譚   \n",
       "472832  9789571309736                                      快樂營02(完)   \n",
       "472833  9789571309743                                         快樂營01   \n",
       "\n",
       "                                                     書籍簡介  \n",
       "0       高中老師╳神級YouTuber╳最強「圖像記憶法」★2,000萬次點閱的超人氣課程！★狂銷3...  \n",
       "1       充滿鮮血與瘋狂的黑暗刑罰史圖解古今中外的處刑與拷問車裂、木裂、剝皮、拔舌、吞釘、刺眼斷頭臺、...  \n",
       "2       人類勇於探索未知，遠赴險地，征服困境，驗證夢想的偉大過程！英國亞馬遜地圖製圖學與大地測量學類...  \n",
       "3       【圖解世界史系列】——放眼全球歷史的浪漫人文之旅！！★1.古代卷 ☆2.中古卷 ★3.近代卷...  \n",
       "4       108課綱歷史科目「探究與實作」課程規劃設計參考指南！一次解決 主題設定、課程活動、參考書目...  \n",
       "...                                                   ...  \n",
       "472829  充滿理想世界的「新樂園」Push！阿推，漫畫界的怪傑。畫風特異前衛，向來是文化評論者最感興趣...  \n",
       "472830  封神榜「敖幼祥的漫畫中國成語」發行以來，不僅連連再版，更獲得了國立編譯館年度優良漫畫…全書以...  \n",
       "472831  人生的滋味菜根之香敬奉有緣人洪自誠著「菜根譚」一書，是一本生動、饒富情味的格言小品，在三百六...  \n",
       "472832  前集提及塞外彎月蠻族犯境，朝廷遣派包將軍、錢師爺並快樂營一干人馬，往救邊險，在敵我對壘之際，...  \n",
       "472833  快樂營「快樂營」毫無疑問是敖幼祥「烏龍院」之後最傑出的作品，它呈現的仍是敖幼祥「才子式」的幽...  \n",
       "\n",
       "[472834 rows x 3 columns]"
      ]
     },
     "execution_count": 142,
     "metadata": {},
     "output_type": "execute_result"
    }
   ],
   "source": [
    "import numpy as np\n",
    "import pandas as pd\n",
    "import jieba.analyse\n",
    "from sklearn import preprocessing\n",
    "df = pd.read_csv('./cleanbook.csv', \n",
    "                        low_memory=False, \n",
    "                        usecols=[\"ISBN\", \"書籍簡介\", \"書名\"]\n",
    "                        )\n",
    "df"
   ]
  },
  {
   "cell_type": "code",
   "execution_count": 153,
   "id": "ec464941",
   "metadata": {},
   "outputs": [],
   "source": [
    "df1=df.sample(n=1000)"
   ]
  },
  {
   "cell_type": "code",
   "execution_count": 154,
   "id": "61184c87",
   "metadata": {},
   "outputs": [
    {
     "data": {
      "text/html": [
       "<div>\n",
       "<style scoped>\n",
       "    .dataframe tbody tr th:only-of-type {\n",
       "        vertical-align: middle;\n",
       "    }\n",
       "\n",
       "    .dataframe tbody tr th {\n",
       "        vertical-align: top;\n",
       "    }\n",
       "\n",
       "    .dataframe thead th {\n",
       "        text-align: right;\n",
       "    }\n",
       "</style>\n",
       "<table border=\"1\" class=\"dataframe\">\n",
       "  <thead>\n",
       "    <tr style=\"text-align: right;\">\n",
       "      <th></th>\n",
       "      <th>ISBN</th>\n",
       "      <th>書名</th>\n",
       "      <th>書籍簡介</th>\n",
       "    </tr>\n",
       "  </thead>\n",
       "  <tbody>\n",
       "    <tr>\n",
       "      <th>10911</th>\n",
       "      <td>9789578357181</td>\n",
       "      <td>台灣歷史</td>\n",
       "      <td>本書描述從褔爾摩莎時期的台灣到鄭成功統治時期清治台期期日本統治時期到李登輝時期給讀者全面且詳...</td>\n",
       "    </tr>\n",
       "    <tr>\n",
       "      <th>438089</th>\n",
       "      <td>9789861196671</td>\n",
       "      <td>黃金足球 3</td>\n",
       "      <td>賭上在代表隊留下的資格阿和學會了緩急變化的動作完成了做為前鋒的進化另一方面大宮司等人在激戰的...</td>\n",
       "    </tr>\n",
       "    <tr>\n",
       "      <th>244507</th>\n",
       "      <td>9789577009258</td>\n",
       "      <td>求人一次就OK</td>\n",
       "      <td>內容簡介求人的技巧人生不能不求人每個人牙牙學語至壽終正寢為止幾十年的生命歷程中誰都免不了求人...</td>\n",
       "    </tr>\n",
       "    <tr>\n",
       "      <th>332700</th>\n",
       "      <td>9789867959911</td>\n",
       "      <td>漫畫入門特訓班 VOL.1：第一次漫畫就上手 (附教學光碟)</td>\n",
       "      <td>特訓班1訓練你畫人物五官的表現人物的表情臉部角度及頭髮光澤度特訓班2訓練你刻畫背景人物和背景...</td>\n",
       "    </tr>\n",
       "    <tr>\n",
       "      <th>243907</th>\n",
       "      <td>9789861270005</td>\n",
       "      <td>60秒展現好人氣</td>\n",
       "      <td>內容簡介主動出擊真誠付出親和力讓你魅力四射自信替你吸引眾多好感展現圓融魅力創造好人緣60秒內...</td>\n",
       "    </tr>\n",
       "    <tr>\n",
       "      <th>...</th>\n",
       "      <td>...</td>\n",
       "      <td>...</td>\n",
       "      <td>...</td>\n",
       "    </tr>\n",
       "    <tr>\n",
       "      <th>423266</th>\n",
       "      <td>9789861150994</td>\n",
       "      <td>海皇紀22</td>\n",
       "      <td>為了進攻加爾哈珊的王都魯固卡薩爾率領大軍通過難關亞魯蘭山脈風為了送達卡薩爾的輜重而試著通過德...</td>\n",
       "    </tr>\n",
       "    <tr>\n",
       "      <th>250270</th>\n",
       "      <td>9789575298364</td>\n",
       "      <td>心靈成長：地球生命課程</td>\n",
       "      <td>內容簡介 心靈成長地球生命課程人文明的演進玉二十世紀未到達了物質追求與發展的高峰隨著寶瓶...</td>\n",
       "    </tr>\n",
       "    <tr>\n",
       "      <th>104565</th>\n",
       "      <td>9789869524049</td>\n",
       "      <td>交通刑法理論與實務－大學用書.警界適用＜一品＞</td>\n",
       "      <td>適用對象大學用書適用時間無期限使用功效1主要在於探討實務上經常發生酒醉駕車肇事逃逸危險駕車及...</td>\n",
       "    </tr>\n",
       "    <tr>\n",
       "      <th>16406</th>\n",
       "      <td>9781714210411</td>\n",
       "      <td>Zen Lifestyle, Animal Print, Write-in Notebook...</td>\n",
       "      <td>Beautifully crafted writein notebooks tailored...</td>\n",
       "    </tr>\n",
       "    <tr>\n",
       "      <th>367882</th>\n",
       "      <td>9789861003986</td>\n",
       "      <td>蝴蝶（全）</td>\n",
       "      <td>全一冊一直都是好朋友的悠里和未宇一同朝著時裝模特兒的目標努力前進但是隨著未宇的先出道二人間的...</td>\n",
       "    </tr>\n",
       "  </tbody>\n",
       "</table>\n",
       "<p>1000 rows × 3 columns</p>\n",
       "</div>"
      ],
      "text/plain": [
       "                 ISBN                                                 書名  \\\n",
       "10911   9789578357181                                              台灣歷史   \n",
       "438089  9789861196671                                             黃金足球 3   \n",
       "244507  9789577009258                                            求人一次就OK   \n",
       "332700  9789867959911                     漫畫入門特訓班 VOL.1：第一次漫畫就上手 (附教學光碟)   \n",
       "243907  9789861270005                                           60秒展現好人氣   \n",
       "...               ...                                                ...   \n",
       "423266  9789861150994                                              海皇紀22   \n",
       "250270  9789575298364                                        心靈成長：地球生命課程   \n",
       "104565  9789869524049                            交通刑法理論與實務－大學用書.警界適用＜一品＞   \n",
       "16406   9781714210411  Zen Lifestyle, Animal Print, Write-in Notebook...   \n",
       "367882  9789861003986                                              蝴蝶（全）   \n",
       "\n",
       "                                                     書籍簡介  \n",
       "10911   本書描述從褔爾摩莎時期的台灣到鄭成功統治時期清治台期期日本統治時期到李登輝時期給讀者全面且詳...  \n",
       "438089  賭上在代表隊留下的資格阿和學會了緩急變化的動作完成了做為前鋒的進化另一方面大宮司等人在激戰的...  \n",
       "244507  內容簡介求人的技巧人生不能不求人每個人牙牙學語至壽終正寢為止幾十年的生命歷程中誰都免不了求人...  \n",
       "332700  特訓班1訓練你畫人物五官的表現人物的表情臉部角度及頭髮光澤度特訓班2訓練你刻畫背景人物和背景...  \n",
       "243907  內容簡介主動出擊真誠付出親和力讓你魅力四射自信替你吸引眾多好感展現圓融魅力創造好人緣60秒內...  \n",
       "...                                                   ...  \n",
       "423266  為了進攻加爾哈珊的王都魯固卡薩爾率領大軍通過難關亞魯蘭山脈風為了送達卡薩爾的輜重而試著通過德...  \n",
       "250270    內容簡介 心靈成長地球生命課程人文明的演進玉二十世紀未到達了物質追求與發展的高峰隨著寶瓶...  \n",
       "104565  適用對象大學用書適用時間無期限使用功效1主要在於探討實務上經常發生酒醉駕車肇事逃逸危險駕車及...  \n",
       "16406   Beautifully crafted writein notebooks tailored...  \n",
       "367882  全一冊一直都是好朋友的悠里和未宇一同朝著時裝模特兒的目標努力前進但是隨著未宇的先出道二人間的...  \n",
       "\n",
       "[1000 rows x 3 columns]"
      ]
     },
     "execution_count": 154,
     "metadata": {},
     "output_type": "execute_result"
    }
   ],
   "source": [
    "df1"
   ]
  },
  {
   "cell_type": "code",
   "execution_count": 155,
   "id": "5f563137",
   "metadata": {},
   "outputs": [],
   "source": [
    "jieba.set_dictionary('./dict.txt.big')"
   ]
  },
  {
   "cell_type": "code",
   "execution_count": 156,
   "id": "d914f8e1",
   "metadata": {},
   "outputs": [
    {
     "name": "stderr",
     "output_type": "stream",
     "text": [
      "C:\\Users\\Tibame\\AppData\\Local\\Temp/ipykernel_13532/1687810164.py:2: FutureWarning: The default value of regex will change from True to False in a future version.\n",
      "  df1['書籍簡介']=df.書籍簡介.str.replace(kill1,'')\n"
     ]
    }
   ],
   "source": [
    "kill1='[^\\w\\s]+'\n",
    "df1['書籍簡介']=df.書籍簡介.str.replace(kill1,'')"
   ]
  },
  {
   "cell_type": "code",
   "execution_count": 157,
   "id": "a7cf038f",
   "metadata": {},
   "outputs": [],
   "source": [
    "documents=[]\n",
    "for i in range(len(df1)):\n",
    "    aa=df1.iloc[i,2].replace('\\n',\"\").replace('\\t',\"\").replace('本書特色',\"\").replace('\\xa0',\"\").replace('\\u3000',\"\")\n",
    "    \n",
    "    documents.append(aa)"
   ]
  },
  {
   "cell_type": "code",
   "execution_count": 69,
   "id": "c384c911",
   "metadata": {},
   "outputs": [
    {
     "name": "stderr",
     "output_type": "stream",
     "text": [
      "Building prefix dict from C:\\Users\\Tibame\\Desktop\\WebCrawler_readmoo\\dict.txt.big ...\n",
      "Loading model from cache C:\\Users\\Tibame\\AppData\\Local\\Temp\\jieba.ubcb3e4b11e34eb042bfe0c421656b27f.cache\n",
      "Loading model cost 1.028 seconds.\n",
      "Prefix dict has been built successfully.\n"
     ]
    }
   ],
   "source": [
    "# Article_List=[]\n",
    "# for a in documents:\n",
    "#     word_list=[]\n",
    "#     text_str=str(a)\n",
    "#     seg_result=jieba.cut(text_str,cut_all=False)\n",
    "#     result=' '.join(seg_result)\n",
    "    \n",
    "#     tags=jieba.analyse.extract_tags(result,topK=10,allowPOS=('n','a','ns','nz','v'))\n",
    "#     for tag in tags:\n",
    "#         word=str(tag)\n",
    "#         word_list.append(word)\n",
    "#     Article_List.append(word_list)"
   ]
  },
  {
   "cell_type": "code",
   "execution_count": 158,
   "id": "14481b47",
   "metadata": {},
   "outputs": [
    {
     "name": "stderr",
     "output_type": "stream",
     "text": [
      "Building prefix dict from C:\\Users\\Tibame\\Desktop\\WebCrawler_readmoo\\dict.txt.big ...\n",
      "Loading model from cache C:\\Users\\Tibame\\AppData\\Local\\Temp\\jieba.ubcb3e4b11e34eb042bfe0c421656b27f.cache\n",
      "Loading model cost 1.020 seconds.\n",
      "Prefix dict has been built successfully.\n"
     ]
    }
   ],
   "source": [
    "Article_cul=[]\n",
    "for a in documents:\n",
    "    word_list=[]\n",
    "    text_str=str(a)\n",
    "    seg_result=jieba.cut(text_str,cut_all=False)\n",
    "    result=' '.join(seg_result)\n",
    "    \n",
    "    tags=jieba.analyse.extract_tags(result,topK=10,allowPOS=('n','a','ns','nz','v'))\n",
    "    for tag in tags:\n",
    "        Article_cul.append(tag)"
   ]
  },
  {
   "cell_type": "code",
   "execution_count": 159,
   "id": "70415dab",
   "metadata": {},
   "outputs": [
    {
     "ename": "AttributeError",
     "evalue": "'float' object has no attribute 'decode'",
     "output_type": "error",
     "traceback": [
      "\u001b[1;31m---------------------------------------------------------------------------\u001b[0m",
      "\u001b[1;31mAttributeError\u001b[0m                            Traceback (most recent call last)",
      "\u001b[1;32m~\\AppData\\Local\\Temp/ipykernel_13532/2724256205.py\u001b[0m in \u001b[0;36m<module>\u001b[1;34m\u001b[0m\n\u001b[0;32m      4\u001b[0m     \u001b[0mtags\u001b[0m\u001b[1;33m=\u001b[0m\u001b[0mjieba\u001b[0m\u001b[1;33m.\u001b[0m\u001b[0manalyse\u001b[0m\u001b[1;33m.\u001b[0m\u001b[0mextract_tags\u001b[0m\u001b[1;33m(\u001b[0m\u001b[0mresult\u001b[0m\u001b[1;33m,\u001b[0m\u001b[0mtopK\u001b[0m\u001b[1;33m=\u001b[0m\u001b[1;36m10\u001b[0m\u001b[1;33m,\u001b[0m\u001b[0mallowPOS\u001b[0m\u001b[1;33m=\u001b[0m\u001b[1;33m(\u001b[0m\u001b[1;34m'n'\u001b[0m\u001b[1;33m,\u001b[0m\u001b[1;34m'a'\u001b[0m\u001b[1;33m,\u001b[0m\u001b[1;34m'ns'\u001b[0m\u001b[1;33m,\u001b[0m\u001b[1;34m'nz'\u001b[0m\u001b[1;33m,\u001b[0m\u001b[1;34m'v'\u001b[0m\u001b[1;33m)\u001b[0m\u001b[1;33m)\u001b[0m\u001b[1;33m\u001b[0m\u001b[1;33m\u001b[0m\u001b[0m\n\u001b[0;32m      5\u001b[0m     \u001b[1;32mreturn\u001b[0m \u001b[1;34m','\u001b[0m\u001b[1;33m.\u001b[0m\u001b[0mjoin\u001b[0m\u001b[1;33m(\u001b[0m\u001b[0mtags\u001b[0m\u001b[1;33m)\u001b[0m\u001b[1;33m\u001b[0m\u001b[1;33m\u001b[0m\u001b[0m\n\u001b[1;32m----> 6\u001b[1;33m \u001b[0mdf1\u001b[0m\u001b[1;33m[\u001b[0m\u001b[1;34m'cut_word'\u001b[0m\u001b[1;33m]\u001b[0m\u001b[1;33m=\u001b[0m\u001b[0mdf\u001b[0m\u001b[1;33m[\u001b[0m\u001b[1;34m'書籍簡介'\u001b[0m\u001b[1;33m]\u001b[0m\u001b[1;33m.\u001b[0m\u001b[0mapply\u001b[0m\u001b[1;33m(\u001b[0m\u001b[0mcut_word\u001b[0m\u001b[1;33m)\u001b[0m\u001b[1;33m\u001b[0m\u001b[1;33m\u001b[0m\u001b[0m\n\u001b[0m",
      "\u001b[1;32m~\\anaconda3\\envs\\Flask\\lib\\site-packages\\pandas\\core\\series.py\u001b[0m in \u001b[0;36mapply\u001b[1;34m(self, func, convert_dtype, args, **kwargs)\u001b[0m\n\u001b[0;32m   4355\u001b[0m         \u001b[0mdtype\u001b[0m\u001b[1;33m:\u001b[0m \u001b[0mfloat64\u001b[0m\u001b[1;33m\u001b[0m\u001b[1;33m\u001b[0m\u001b[0m\n\u001b[0;32m   4356\u001b[0m         \"\"\"\n\u001b[1;32m-> 4357\u001b[1;33m         \u001b[1;32mreturn\u001b[0m \u001b[0mSeriesApply\u001b[0m\u001b[1;33m(\u001b[0m\u001b[0mself\u001b[0m\u001b[1;33m,\u001b[0m \u001b[0mfunc\u001b[0m\u001b[1;33m,\u001b[0m \u001b[0mconvert_dtype\u001b[0m\u001b[1;33m,\u001b[0m \u001b[0margs\u001b[0m\u001b[1;33m,\u001b[0m \u001b[0mkwargs\u001b[0m\u001b[1;33m)\u001b[0m\u001b[1;33m.\u001b[0m\u001b[0mapply\u001b[0m\u001b[1;33m(\u001b[0m\u001b[1;33m)\u001b[0m\u001b[1;33m\u001b[0m\u001b[1;33m\u001b[0m\u001b[0m\n\u001b[0m\u001b[0;32m   4358\u001b[0m \u001b[1;33m\u001b[0m\u001b[0m\n\u001b[0;32m   4359\u001b[0m     def _reduce(\n",
      "\u001b[1;32m~\\anaconda3\\envs\\Flask\\lib\\site-packages\\pandas\\core\\apply.py\u001b[0m in \u001b[0;36mapply\u001b[1;34m(self)\u001b[0m\n\u001b[0;32m   1041\u001b[0m             \u001b[1;32mreturn\u001b[0m \u001b[0mself\u001b[0m\u001b[1;33m.\u001b[0m\u001b[0mapply_str\u001b[0m\u001b[1;33m(\u001b[0m\u001b[1;33m)\u001b[0m\u001b[1;33m\u001b[0m\u001b[1;33m\u001b[0m\u001b[0m\n\u001b[0;32m   1042\u001b[0m \u001b[1;33m\u001b[0m\u001b[0m\n\u001b[1;32m-> 1043\u001b[1;33m         \u001b[1;32mreturn\u001b[0m \u001b[0mself\u001b[0m\u001b[1;33m.\u001b[0m\u001b[0mapply_standard\u001b[0m\u001b[1;33m(\u001b[0m\u001b[1;33m)\u001b[0m\u001b[1;33m\u001b[0m\u001b[1;33m\u001b[0m\u001b[0m\n\u001b[0m\u001b[0;32m   1044\u001b[0m \u001b[1;33m\u001b[0m\u001b[0m\n\u001b[0;32m   1045\u001b[0m     \u001b[1;32mdef\u001b[0m \u001b[0magg\u001b[0m\u001b[1;33m(\u001b[0m\u001b[0mself\u001b[0m\u001b[1;33m)\u001b[0m\u001b[1;33m:\u001b[0m\u001b[1;33m\u001b[0m\u001b[1;33m\u001b[0m\u001b[0m\n",
      "\u001b[1;32m~\\anaconda3\\envs\\Flask\\lib\\site-packages\\pandas\\core\\apply.py\u001b[0m in \u001b[0;36mapply_standard\u001b[1;34m(self)\u001b[0m\n\u001b[0;32m   1097\u001b[0m                 \u001b[1;31m# List[Union[Callable[..., Any], str]]]]]\"; expected\u001b[0m\u001b[1;33m\u001b[0m\u001b[1;33m\u001b[0m\u001b[1;33m\u001b[0m\u001b[0m\n\u001b[0;32m   1098\u001b[0m                 \u001b[1;31m# \"Callable[[Any], Any]\"\u001b[0m\u001b[1;33m\u001b[0m\u001b[1;33m\u001b[0m\u001b[1;33m\u001b[0m\u001b[0m\n\u001b[1;32m-> 1099\u001b[1;33m                 mapped = lib.map_infer(\n\u001b[0m\u001b[0;32m   1100\u001b[0m                     \u001b[0mvalues\u001b[0m\u001b[1;33m,\u001b[0m\u001b[1;33m\u001b[0m\u001b[1;33m\u001b[0m\u001b[0m\n\u001b[0;32m   1101\u001b[0m                     \u001b[0mf\u001b[0m\u001b[1;33m,\u001b[0m  \u001b[1;31m# type: ignore[arg-type]\u001b[0m\u001b[1;33m\u001b[0m\u001b[1;33m\u001b[0m\u001b[0m\n",
      "\u001b[1;32m~\\anaconda3\\envs\\Flask\\lib\\site-packages\\pandas\\_libs\\lib.pyx\u001b[0m in \u001b[0;36mpandas._libs.lib.map_infer\u001b[1;34m()\u001b[0m\n",
      "\u001b[1;32m~\\AppData\\Local\\Temp/ipykernel_13532/2724256205.py\u001b[0m in \u001b[0;36mcut_word\u001b[1;34m(word)\u001b[0m\n\u001b[0;32m      1\u001b[0m \u001b[1;32mdef\u001b[0m \u001b[0mcut_word\u001b[0m\u001b[1;33m(\u001b[0m\u001b[0mword\u001b[0m\u001b[1;33m)\u001b[0m\u001b[1;33m:\u001b[0m\u001b[1;33m\u001b[0m\u001b[1;33m\u001b[0m\u001b[0m\n\u001b[0;32m      2\u001b[0m     \u001b[0mcw\u001b[0m\u001b[1;33m=\u001b[0m\u001b[0mjieba\u001b[0m\u001b[1;33m.\u001b[0m\u001b[0mcut\u001b[0m\u001b[1;33m(\u001b[0m\u001b[0mword\u001b[0m\u001b[1;33m)\u001b[0m\u001b[1;33m\u001b[0m\u001b[1;33m\u001b[0m\u001b[0m\n\u001b[1;32m----> 3\u001b[1;33m     \u001b[0mresult\u001b[0m\u001b[1;33m=\u001b[0m\u001b[1;34m' '\u001b[0m\u001b[1;33m.\u001b[0m\u001b[0mjoin\u001b[0m\u001b[1;33m(\u001b[0m\u001b[0mcw\u001b[0m\u001b[1;33m)\u001b[0m\u001b[1;33m\u001b[0m\u001b[1;33m\u001b[0m\u001b[0m\n\u001b[0m\u001b[0;32m      4\u001b[0m     \u001b[0mtags\u001b[0m\u001b[1;33m=\u001b[0m\u001b[0mjieba\u001b[0m\u001b[1;33m.\u001b[0m\u001b[0manalyse\u001b[0m\u001b[1;33m.\u001b[0m\u001b[0mextract_tags\u001b[0m\u001b[1;33m(\u001b[0m\u001b[0mresult\u001b[0m\u001b[1;33m,\u001b[0m\u001b[0mtopK\u001b[0m\u001b[1;33m=\u001b[0m\u001b[1;36m10\u001b[0m\u001b[1;33m,\u001b[0m\u001b[0mallowPOS\u001b[0m\u001b[1;33m=\u001b[0m\u001b[1;33m(\u001b[0m\u001b[1;34m'n'\u001b[0m\u001b[1;33m,\u001b[0m\u001b[1;34m'a'\u001b[0m\u001b[1;33m,\u001b[0m\u001b[1;34m'ns'\u001b[0m\u001b[1;33m,\u001b[0m\u001b[1;34m'nz'\u001b[0m\u001b[1;33m,\u001b[0m\u001b[1;34m'v'\u001b[0m\u001b[1;33m)\u001b[0m\u001b[1;33m)\u001b[0m\u001b[1;33m\u001b[0m\u001b[1;33m\u001b[0m\u001b[0m\n\u001b[0;32m      5\u001b[0m     \u001b[1;32mreturn\u001b[0m \u001b[1;34m','\u001b[0m\u001b[1;33m.\u001b[0m\u001b[0mjoin\u001b[0m\u001b[1;33m(\u001b[0m\u001b[0mtags\u001b[0m\u001b[1;33m)\u001b[0m\u001b[1;33m\u001b[0m\u001b[1;33m\u001b[0m\u001b[0m\n",
      "\u001b[1;32m~\\anaconda3\\envs\\Flask\\lib\\site-packages\\jieba\\__init__.py\u001b[0m in \u001b[0;36mcut\u001b[1;34m(self, sentence, cut_all, HMM, use_paddle)\u001b[0m\n\u001b[0;32m    298\u001b[0m         \"\"\"\n\u001b[0;32m    299\u001b[0m         \u001b[0mis_paddle_installed\u001b[0m \u001b[1;33m=\u001b[0m \u001b[0mcheck_paddle_install\u001b[0m\u001b[1;33m[\u001b[0m\u001b[1;34m'is_paddle_installed'\u001b[0m\u001b[1;33m]\u001b[0m\u001b[1;33m\u001b[0m\u001b[1;33m\u001b[0m\u001b[0m\n\u001b[1;32m--> 300\u001b[1;33m         \u001b[0msentence\u001b[0m \u001b[1;33m=\u001b[0m \u001b[0mstrdecode\u001b[0m\u001b[1;33m(\u001b[0m\u001b[0msentence\u001b[0m\u001b[1;33m)\u001b[0m\u001b[1;33m\u001b[0m\u001b[1;33m\u001b[0m\u001b[0m\n\u001b[0m\u001b[0;32m    301\u001b[0m         \u001b[1;32mif\u001b[0m \u001b[0muse_paddle\u001b[0m \u001b[1;32mand\u001b[0m \u001b[0mis_paddle_installed\u001b[0m\u001b[1;33m:\u001b[0m\u001b[1;33m\u001b[0m\u001b[1;33m\u001b[0m\u001b[0m\n\u001b[0;32m    302\u001b[0m             \u001b[1;31m# if sentence is null, it will raise core exception in paddle.\u001b[0m\u001b[1;33m\u001b[0m\u001b[1;33m\u001b[0m\u001b[1;33m\u001b[0m\u001b[0m\n",
      "\u001b[1;32m~\\anaconda3\\envs\\Flask\\lib\\site-packages\\jieba\\_compat.py\u001b[0m in \u001b[0;36mstrdecode\u001b[1;34m(sentence)\u001b[0m\n\u001b[0;32m     77\u001b[0m     \u001b[1;32mif\u001b[0m \u001b[1;32mnot\u001b[0m \u001b[0misinstance\u001b[0m\u001b[1;33m(\u001b[0m\u001b[0msentence\u001b[0m\u001b[1;33m,\u001b[0m \u001b[0mtext_type\u001b[0m\u001b[1;33m)\u001b[0m\u001b[1;33m:\u001b[0m\u001b[1;33m\u001b[0m\u001b[1;33m\u001b[0m\u001b[0m\n\u001b[0;32m     78\u001b[0m         \u001b[1;32mtry\u001b[0m\u001b[1;33m:\u001b[0m\u001b[1;33m\u001b[0m\u001b[1;33m\u001b[0m\u001b[0m\n\u001b[1;32m---> 79\u001b[1;33m             \u001b[0msentence\u001b[0m \u001b[1;33m=\u001b[0m \u001b[0msentence\u001b[0m\u001b[1;33m.\u001b[0m\u001b[0mdecode\u001b[0m\u001b[1;33m(\u001b[0m\u001b[1;34m'utf-8'\u001b[0m\u001b[1;33m)\u001b[0m\u001b[1;33m\u001b[0m\u001b[1;33m\u001b[0m\u001b[0m\n\u001b[0m\u001b[0;32m     80\u001b[0m         \u001b[1;32mexcept\u001b[0m \u001b[0mUnicodeDecodeError\u001b[0m\u001b[1;33m:\u001b[0m\u001b[1;33m\u001b[0m\u001b[1;33m\u001b[0m\u001b[0m\n\u001b[0;32m     81\u001b[0m             \u001b[0msentence\u001b[0m \u001b[1;33m=\u001b[0m \u001b[0msentence\u001b[0m\u001b[1;33m.\u001b[0m\u001b[0mdecode\u001b[0m\u001b[1;33m(\u001b[0m\u001b[1;34m'gbk'\u001b[0m\u001b[1;33m,\u001b[0m \u001b[1;34m'ignore'\u001b[0m\u001b[1;33m)\u001b[0m\u001b[1;33m\u001b[0m\u001b[1;33m\u001b[0m\u001b[0m\n",
      "\u001b[1;31mAttributeError\u001b[0m: 'float' object has no attribute 'decode'"
     ]
    }
   ],
   "source": [
    "def cut_word(word):\n",
    "    cw=jieba.cut(word)\n",
    "    result=' '.join(cw)\n",
    "    tags=jieba.analyse.extract_tags(result,topK=10,allowPOS=('n','a','ns','nz','v'))\n",
    "    return ','.join(tags)\n",
    "df1['cut_word']=df['書籍簡介'].apply(cut_word)"
   ]
  },
  {
   "cell_type": "code",
   "execution_count": null,
   "id": "392575c0",
   "metadata": {},
   "outputs": [],
   "source": [
    "dummies=  df1['cut_word'].str.get_dummies(',')"
   ]
  },
  {
   "cell_type": "code",
   "execution_count": null,
   "id": "38c67643",
   "metadata": {},
   "outputs": [],
   "source": [
    "dummies"
   ]
  },
  {
   "cell_type": "code",
   "execution_count": null,
   "id": "1a4d4ba7",
   "metadata": {},
   "outputs": [],
   "source": [
    "data1=pd.concat([df1[\"ISBN\"],dummies],axis=1)\n",
    "data1"
   ]
  },
  {
   "cell_type": "code",
   "execution_count": 141,
   "id": "d58e23d8",
   "metadata": {},
   "outputs": [
    {
     "name": "stdout",
     "output_type": "stream",
     "text": [
      "[0 0 0 0 0 0 0 1 0 0 0 0 0 0 0 0 0 0 0 0 0 0 0 0 0 0 0 0 0 0 0 0 0 0 0 0 0\n",
      " 0 0 0 1 0 0 0 0 0 0 0 0 0 0 0 0 0 0 0 0 0 0 0 0 1 0 0 0 0 0 0 0 0 0 0 0 0\n",
      " 0 0 0 0 0 2 2 2 0 0 2 0 0 0 0 0 0 0 0 0 0 0 0 0 0 0]\n"
     ]
    },
    {
     "data": {
      "image/png": "[encoded data removed]",
      "text/plain": [
       "<Figure size 576x432 with 1 Axes>"
      ]
     },
     "metadata": {
      "needs_background": "light"
     },
     "output_type": "display_data"
    }
   ],
   "source": [
    "%matplotlib inline\n",
    "\n",
    "from sklearn.cluster import KMeans\n",
    "import matplotlib.pyplot as plt\n",
    "from sklearn.preprocessing import scale\n",
    "# from numpy import random, float\n",
    "\n",
    "data =X_pca\n",
    "\n",
    "model = KMeans(n_clusters=3)\n",
    "\n",
    "# Note I'm scaling the data to normalize it! Important for good results.\n",
    "model = model.fit(scale(data))       # 對資料正規化很重要\n",
    "\n",
    "# We can look at the clusters each data point was assigned to\n",
    "print(model.labels_)\n",
    "\n",
    "# And we'll visualize it:\n",
    "plt.figure(figsize=(8, 6))\n",
    "plt.scatter(data[:,0], data[:,1], c=model.labels_.astype(int))\n",
    "plt.show()"
   ]
  },
  {
   "cell_type": "code",
   "execution_count": 130,
   "id": "c544c1fb",
   "metadata": {},
   "outputs": [
    {
     "data": {
      "text/plain": [
       "(100, 634)"
      ]
     },
     "execution_count": 130,
     "metadata": {},
     "output_type": "execute_result"
    }
   ],
   "source": [
    "data1.shape"
   ]
  },
  {
   "cell_type": "code",
   "execution_count": null,
   "id": "d84e77a8",
   "metadata": {},
   "outputs": [],
   "source": [
    "\n",
    "from sklearn.decomposition import PCA\n",
    "import pylab as pl\n",
    "from itertools import cycle"
   ]
  },
  {
   "cell_type": "code",
   "execution_count": null,
   "id": "9bd3ce55",
   "metadata": {},
   "outputs": [],
   "source": [
    "X = data1\n",
    "pca = PCA(n_components=2, whiten=True).fit(X)  # whiten=True 表示資料需要正規化\n",
    "X_pca = pca.transform(X)"
   ]
  },
  {
   "cell_type": "code",
   "execution_count": null,
   "id": "1a0fe732",
   "metadata": {},
   "outputs": [],
   "source": [
    "X_pca.shape"
   ]
  }
 ],
 "metadata": {
  "kernelspec": {
   "display_name": "Python 3 (ipykernel)",
   "language": "python",
   "name": "python3"
  },
  "language_info": {
   "codemirror_mode": {
    "name": "ipython",
    "version": 3
   },
   "file_extension": ".py",
   "mimetype": "text/x-python",
   "name": "python",
   "nbconvert_exporter": "python",
   "pygments_lexer": "ipython3",
   "version": "3.9.6"
  }
 },
 "nbformat": 4,
 "nbformat_minor": 5
}
