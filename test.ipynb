{
 "cells": [
  {
   "cell_type": "code",
   "execution_count": null,
   "id": "d8c83286",
   "metadata": {},
   "outputs": [],
   "source": [
    "import pymongo\n",
    "import pandas as pd\n",
    "from pymongo import MongoClient\n",
    "MONGO_HOST = '10.2.14.10'\n",
    "MONGO_DB = 'kingstone'\n",
    "MONGO_COLLETION = 'clean_data'\n",
    "\n",
    "def connect_mongo():  #連線資料庫\n",
    "    global collection\n",
    "    client = MongoClient(MONGO_HOST, 27017)\n",
    "    db = client[MONGO_DB]\n",
    "    collection = db[MONGO_COLLETION]\n",
    "\n",
    "connect_mongo()  #呼叫連線資料庫函式\n",
    "cursor = collection.find()  #依query查詢資料\n",
    "df=  pd.DataFrame(list(cursor))  #轉換成DataFrame\n",
    "del df['_id']\n",
    "df.head()"
   ]
  },
  {
   "cell_type": "code",
   "execution_count": null,
   "id": "daadd532",
   "metadata": {},
   "outputs": [],
   "source": [
    "df = df.dropna(subset=['words'])\n",
    "df.head()"
   ]
  },
  {
   "cell_type": "code",
   "execution_count": null,
   "id": "e7774b74",
   "metadata": {},
   "outputs": [],
   "source": [
    "# Import everything that will be used\n",
    "from keras.models import Sequential\n",
    "from keras.layers import *\n",
    "from keras.preprocessing.sequence import pad_sequences\n",
    "import gensim\n",
    "import sys\n",
    "import numpy as np\n",
    "import pandas as pd\n",
    "import string\n",
    "import logging\n",
    "import random\n",
    "import matplotlib.pyplot as plt\n",
    "\n",
    "# Create an iterator object that returns words properly formatted for Word2Vec training\n",
    "class NewsIterator:\n",
    "    def __init__(self, dataset):\n",
    "        self.dataset = dataset\n",
    "\n",
    "        # The text contains a stupid special character, hence the + '–'\n",
    "        self.translator = str.maketrans('', '', string.punctuation + '–')\n",
    "\n",
    "    def __iter__(self):\n",
    "        for news in self.dataset.iloc[:, 0]:\n",
    "            # Make all characters lower-case\n",
    "            news = news.lower()\n",
    "            for sentence in news.split('.')[:-1]:\n",
    "                # Clean string of all punctuation\n",
    "                sentence = sentence.translate(self.translator)\n",
    "\n",
    "                words = [w for w in sentence.split(' ') if w != '']\n",
    "\n",
    "                yield words\n",
    "                \n",
    "sentences = NewsIterator(df)"
   ]
  },
  {
   "cell_type": "code",
   "execution_count": null,
   "id": "2838cff7",
   "metadata": {},
   "outputs": [],
   "source": [
    "!pip install gensim"
   ]
  },
  {
   "cell_type": "code",
   "execution_count": null,
   "id": "7cfb7411",
   "metadata": {},
   "outputs": [],
   "source": [
    "# Set up logging\n",
    "#logging.basicConfig(format='%(asctime)s : %(levelname)s : %(message)s', level=logging.INFO)\n",
    "\n",
    "# Train Word2Vec model with gensim on the dataset\n",
    "w2v_model = gensim.models.Word2Vec(sentences, size=100, window=5, min_count=10, workers=8)\n",
    "\n",
    "# Retrieve the weights from the model. This is used for initializing the weights\n",
    "# in a Keras Embedding layer later\n",
    "w2v_weights = w2v_model.wv.vectors\n",
    "vocab_size, embedding_size = w2v_weights.shape\n",
    "\n",
    "print(\"Vocabulary Size: {} - Embedding Dim: {}\".format(vocab_size, embedding_size))\n",
    "\n",
    "# Some validation on the quality of the Word2Vec model\n",
    "print(w2v_model.wv.most_similar('1', topn=3))\n",
    "print(w2v_model.wv.most_similar('janeiro', topn=3))\n",
    "print(w2v_model.wv.most_similar('palmeiras', topn=3))\n",
    "print(w2v_model.wv.most_similar('ufsc', topn=3))\n",
    "print(w2v_model.wv.most_similar(positive=['rei', 'mulher'], negative=['homem'], topn=3))\n",
    "\n",
    "def word2token(word):\n",
    "    try:\n",
    "        return w2v_model.wv.vocab[word].index\n",
    "    # If word is not in index return 0. I realize this means that this\n",
    "    # is the same as the word of index 0 (i.e. most frequent word), but 0s\n",
    "    # will be padded later anyway by the embedding layer (which also\n",
    "    # seems dirty but I couldn't find a better solution right now)\n",
    "    except KeyError:\n",
    "        return 0\n",
    "def token2word(token):\n",
    "    return w2v_model.wv.index2word[token]"
   ]
  }
 ],
 "metadata": {
  "kernelspec": {
   "display_name": "Python 3 (ipykernel)",
   "language": "python",
   "name": "python3"
  },
  "language_info": {
   "codemirror_mode": {
    "name": "ipython",
    "version": 3
   },
   "file_extension": ".py",
   "mimetype": "text/x-python",
   "name": "python",
   "nbconvert_exporter": "python",
   "pygments_lexer": "ipython3",
   "version": "3.9.6"
  }
 },
 "nbformat": 4,
 "nbformat_minor": 5
}
