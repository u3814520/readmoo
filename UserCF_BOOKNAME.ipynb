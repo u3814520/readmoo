{
 "cells": [
  {
   "cell_type": "code",
   "execution_count": 1,
   "id": "cdc75179",
   "metadata": {},
   "outputs": [],
   "source": [
    "import pandas as pd\n",
    "import numpy as np\n",
    "from scipy.sparse import csr_matrix\n",
    "from sklearn.neighbors import NearestNeighbors"
   ]
  },
  {
   "cell_type": "code",
   "execution_count": 2,
   "id": "f175894c",
   "metadata": {},
   "outputs": [
    {
     "data": {
      "text/html": [
       "<div>\n",
       "<style scoped>\n",
       "    .dataframe tbody tr th:only-of-type {\n",
       "        vertical-align: middle;\n",
       "    }\n",
       "\n",
       "    .dataframe tbody tr th {\n",
       "        vertical-align: top;\n",
       "    }\n",
       "\n",
       "    .dataframe thead th {\n",
       "        text-align: right;\n",
       "    }\n",
       "</style>\n",
       "<table border=\"1\" class=\"dataframe\">\n",
       "  <thead>\n",
       "    <tr style=\"text-align: right;\">\n",
       "      <th></th>\n",
       "      <th>BOOKNAME</th>\n",
       "      <th>CONTENT</th>\n",
       "      <th>ISBN</th>\n",
       "      <th>USER</th>\n",
       "      <th>USERSTAR</th>\n",
       "    </tr>\n",
       "  </thead>\n",
       "  <tbody>\n",
       "    <tr>\n",
       "      <th>0</th>\n",
       "      <td>「氣內臟」自癒按摩法：每天按摩脾．肝．腎30秒，美肌、消除便秘、好眠、減肥，天天都有好氣色！</td>\n",
       "      <td>深入淺出，圖片清晰介唔按壓身體及伸展。\\n按照個人體質、情志、節氣等，以吃，嗅香芬、調息、伸...</td>\n",
       "      <td>9789865683498</td>\n",
       "      <td>啟迪</td>\n",
       "      <td>5.0</td>\n",
       "    </tr>\n",
       "    <tr>\n",
       "      <th>1</th>\n",
       "      <td>唐鳳：我所看待的自由與未來</td>\n",
       "      <td>一開始是對唐鳳好奇，想更了解她，讀完之後真正體認到她是個傳奇人物，同時她的家庭給了她很大的自...</td>\n",
       "      <td>9789575036942</td>\n",
       "      <td>Miley Guan</td>\n",
       "      <td>5.0</td>\n",
       "    </tr>\n",
       "    <tr>\n",
       "      <th>2</th>\n",
       "      <td>老夫老妻重返青春（1）</td>\n",
       "      <td>看了很暖心的漫畫，會覺得要好好過每一天</td>\n",
       "      <td>9789865241810</td>\n",
       "      <td>蘇蘇</td>\n",
       "      <td>0.0</td>\n",
       "    </tr>\n",
       "    <tr>\n",
       "      <th>3</th>\n",
       "      <td>祕密瑜伽士的日常</td>\n",
       "      <td>直指心性的好書，書中道理發人省思</td>\n",
       "      <td>9789864779079</td>\n",
       "      <td>kbboss7416</td>\n",
       "      <td>5.0</td>\n",
       "    </tr>\n",
       "    <tr>\n",
       "      <th>4</th>\n",
       "      <td>花開千年（01）</td>\n",
       "      <td>好唯美的畫風。喜歡故事開頭引用的一段《佛經》：「彼岸花，開一千年，落一千年，花葉永不想見。情...</td>\n",
       "      <td>9789571068121</td>\n",
       "      <td>Annie</td>\n",
       "      <td>5.0</td>\n",
       "    </tr>\n",
       "  </tbody>\n",
       "</table>\n",
       "</div>"
      ],
      "text/plain": [
       "                                         BOOKNAME  \\\n",
       "0  「氣內臟」自癒按摩法：每天按摩脾．肝．腎30秒，美肌、消除便秘、好眠、減肥，天天都有好氣色！   \n",
       "1                                   唐鳳：我所看待的自由與未來   \n",
       "2                                     老夫老妻重返青春（1）   \n",
       "3                                        祕密瑜伽士的日常   \n",
       "4                                        花開千年（01）   \n",
       "\n",
       "                                             CONTENT           ISBN  \\\n",
       "0  深入淺出，圖片清晰介唔按壓身體及伸展。\\n按照個人體質、情志、節氣等，以吃，嗅香芬、調息、伸...  9789865683498   \n",
       "1  一開始是對唐鳳好奇，想更了解她，讀完之後真正體認到她是個傳奇人物，同時她的家庭給了她很大的自...  9789575036942   \n",
       "2                                看了很暖心的漫畫，會覺得要好好過每一天  9789865241810   \n",
       "3                                   直指心性的好書，書中道理發人省思  9789864779079   \n",
       "4  好唯美的畫風。喜歡故事開頭引用的一段《佛經》：「彼岸花，開一千年，落一千年，花葉永不想見。情...  9789571068121   \n",
       "\n",
       "         USER  USERSTAR  \n",
       "0          啟迪       5.0  \n",
       "1  Miley Guan       5.0  \n",
       "2          蘇蘇       0.0  \n",
       "3  kbboss7416       5.0  \n",
       "4       Annie       5.0  "
      ]
     },
     "execution_count": 2,
     "metadata": {},
     "output_type": "execute_result"
    }
   ],
   "source": [
    "#載入資料集\n",
    "rating_df = pd.read_csv('userstar.csv')\n",
    "rating_df.head()"
   ]
  },
  {
   "cell_type": "code",
   "execution_count": 3,
   "id": "15f1b9c9",
   "metadata": {},
   "outputs": [
    {
     "data": {
      "text/plain": [
       "BOOKNAME    False\n",
       "CONTENT      True\n",
       "ISBN        False\n",
       "USER         True\n",
       "USERSTAR     True\n",
       "dtype: bool"
      ]
     },
     "execution_count": 3,
     "metadata": {},
     "output_type": "execute_result"
    }
   ],
   "source": [
    "# 檢查空值\n",
    "rating_df.isna().any()"
   ]
  },
  {
   "cell_type": "code",
   "execution_count": 4,
   "id": "ca6774bd",
   "metadata": {},
   "outputs": [
    {
     "data": {
      "text/plain": [
       "BOOKNAME    False\n",
       "CONTENT     False\n",
       "ISBN        False\n",
       "USER        False\n",
       "USERSTAR    False\n",
       "dtype: bool"
      ]
     },
     "execution_count": 4,
     "metadata": {},
     "output_type": "execute_result"
    }
   ],
   "source": [
    "# 清理空值並檢查空值\n",
    "rating_df=rating_df.dropna(axis=0)\n",
    "rating_df.isna().any()"
   ]
  },
  {
   "cell_type": "code",
   "execution_count": 5,
   "id": "78ec1f0d",
   "metadata": {},
   "outputs": [
    {
     "name": "stdout",
     "output_type": "stream",
     "text": [
      "> 72 duplicates\n",
      "> 0 duplicates\n"
     ]
    }
   ],
   "source": [
    "# 清理重複\n",
    "duplicates = rating_df.duplicated()\n",
    "\n",
    "if duplicates.sum() > 0:\n",
    "    print('> {} duplicates'.format(duplicates.sum()))\n",
    "    rating_df = rating_df[~duplicates]\n",
    "\n",
    "print('> {} duplicates'.format(rating_df.duplicated().sum()))"
   ]
  },
  {
   "cell_type": "code",
   "execution_count": 6,
   "id": "c92893ff",
   "metadata": {},
   "outputs": [
    {
     "name": "stdout",
     "output_type": "stream",
     "text": [
      "Rating Dataframe shape :  (100091, 5)\n"
     ]
    }
   ],
   "source": [
    "print('Rating Dataframe shape : ', rating_df.shape)"
   ]
  },
  {
   "cell_type": "code",
   "execution_count": 7,
   "id": "ebc8c72a",
   "metadata": {},
   "outputs": [],
   "source": [
    "# 移除 CONTENT 欄位\n",
    "rating_df.drop(['CONTENT'], axis = 1, inplace = True)"
   ]
  },
  {
   "cell_type": "code",
   "execution_count": 8,
   "id": "eb8893e1",
   "metadata": {},
   "outputs": [
    {
     "data": {
      "text/html": [
       "<div>\n",
       "<style scoped>\n",
       "    .dataframe tbody tr th:only-of-type {\n",
       "        vertical-align: middle;\n",
       "    }\n",
       "\n",
       "    .dataframe tbody tr th {\n",
       "        vertical-align: top;\n",
       "    }\n",
       "\n",
       "    .dataframe thead th {\n",
       "        text-align: right;\n",
       "    }\n",
       "</style>\n",
       "<table border=\"1\" class=\"dataframe\">\n",
       "  <thead>\n",
       "    <tr style=\"text-align: right;\">\n",
       "      <th></th>\n",
       "      <th>BOOKNAME</th>\n",
       "      <th>ISBN</th>\n",
       "      <th>USER</th>\n",
       "      <th>USERSTAR</th>\n",
       "      <th>user_id</th>\n",
       "    </tr>\n",
       "  </thead>\n",
       "  <tbody>\n",
       "    <tr>\n",
       "      <th>0</th>\n",
       "      <td>「氣內臟」自癒按摩法：每天按摩脾．肝．腎30秒，美肌、消除便秘、好眠、減肥，天天都有好氣色！</td>\n",
       "      <td>9789865683498</td>\n",
       "      <td>啟迪</td>\n",
       "      <td>5.0</td>\n",
       "      <td>8064</td>\n",
       "    </tr>\n",
       "    <tr>\n",
       "      <th>1</th>\n",
       "      <td>唐鳳：我所看待的自由與未來</td>\n",
       "      <td>9789575036942</td>\n",
       "      <td>Miley Guan</td>\n",
       "      <td>5.0</td>\n",
       "      <td>942</td>\n",
       "    </tr>\n",
       "    <tr>\n",
       "      <th>2</th>\n",
       "      <td>老夫老妻重返青春（1）</td>\n",
       "      <td>9789865241810</td>\n",
       "      <td>蘇蘇</td>\n",
       "      <td>0.0</td>\n",
       "      <td>8727</td>\n",
       "    </tr>\n",
       "    <tr>\n",
       "      <th>3</th>\n",
       "      <td>祕密瑜伽士的日常</td>\n",
       "      <td>9789864779079</td>\n",
       "      <td>kbboss7416</td>\n",
       "      <td>5.0</td>\n",
       "      <td>4513</td>\n",
       "    </tr>\n",
       "    <tr>\n",
       "      <th>4</th>\n",
       "      <td>花開千年（01）</td>\n",
       "      <td>9789571068121</td>\n",
       "      <td>Annie</td>\n",
       "      <td>5.0</td>\n",
       "      <td>203</td>\n",
       "    </tr>\n",
       "  </tbody>\n",
       "</table>\n",
       "</div>"
      ],
      "text/plain": [
       "                                         BOOKNAME           ISBN        USER  \\\n",
       "0  「氣內臟」自癒按摩法：每天按摩脾．肝．腎30秒，美肌、消除便秘、好眠、減肥，天天都有好氣色！  9789865683498          啟迪   \n",
       "1                                   唐鳳：我所看待的自由與未來  9789575036942  Miley Guan   \n",
       "2                                     老夫老妻重返青春（1）  9789865241810          蘇蘇   \n",
       "3                                        祕密瑜伽士的日常  9789864779079  kbboss7416   \n",
       "4                                        花開千年（01）  9789571068121       Annie   \n",
       "\n",
       "   USERSTAR  user_id  \n",
       "0       5.0     8064  \n",
       "1       5.0      942  \n",
       "2       0.0     8727  \n",
       "3       5.0     4513  \n",
       "4       5.0      203  "
      ]
     },
     "execution_count": 8,
     "metadata": {},
     "output_type": "execute_result"
    }
   ],
   "source": [
    "# 給user_id\n",
    "import statsmodels.api as sm\n",
    "rating_df['user_id'] = pd.Categorical(rating_df.USER).codes   \n",
    "rating_df.head()"
   ]
  },
  {
   "cell_type": "code",
   "execution_count": 9,
   "id": "6363438b",
   "metadata": {},
   "outputs": [
    {
     "data": {
      "text/html": [
       "<div>\n",
       "<style scoped>\n",
       "    .dataframe tbody tr th:only-of-type {\n",
       "        vertical-align: middle;\n",
       "    }\n",
       "\n",
       "    .dataframe tbody tr th {\n",
       "        vertical-align: top;\n",
       "    }\n",
       "\n",
       "    .dataframe thead th {\n",
       "        text-align: right;\n",
       "    }\n",
       "</style>\n",
       "<table border=\"1\" class=\"dataframe\">\n",
       "  <thead>\n",
       "    <tr style=\"text-align: right;\">\n",
       "      <th>user_id</th>\n",
       "      <th>0</th>\n",
       "      <th>1</th>\n",
       "      <th>2</th>\n",
       "      <th>3</th>\n",
       "      <th>4</th>\n",
       "      <th>5</th>\n",
       "      <th>6</th>\n",
       "      <th>7</th>\n",
       "      <th>8</th>\n",
       "      <th>9</th>\n",
       "      <th>...</th>\n",
       "      <th>8944</th>\n",
       "      <th>8945</th>\n",
       "      <th>8946</th>\n",
       "      <th>8947</th>\n",
       "      <th>8948</th>\n",
       "      <th>8949</th>\n",
       "      <th>8950</th>\n",
       "      <th>8951</th>\n",
       "      <th>8952</th>\n",
       "      <th>8953</th>\n",
       "    </tr>\n",
       "    <tr>\n",
       "      <th>BOOKNAME</th>\n",
       "      <th></th>\n",
       "      <th></th>\n",
       "      <th></th>\n",
       "      <th></th>\n",
       "      <th></th>\n",
       "      <th></th>\n",
       "      <th></th>\n",
       "      <th></th>\n",
       "      <th></th>\n",
       "      <th></th>\n",
       "      <th></th>\n",
       "      <th></th>\n",
       "      <th></th>\n",
       "      <th></th>\n",
       "      <th></th>\n",
       "      <th></th>\n",
       "      <th></th>\n",
       "      <th></th>\n",
       "      <th></th>\n",
       "      <th></th>\n",
       "      <th></th>\n",
       "    </tr>\n",
       "  </thead>\n",
       "  <tbody>\n",
       "    <tr>\n",
       "      <th>81</th>\n",
       "      <td>NaN</td>\n",
       "      <td>NaN</td>\n",
       "      <td>NaN</td>\n",
       "      <td>NaN</td>\n",
       "      <td>NaN</td>\n",
       "      <td>NaN</td>\n",
       "      <td>NaN</td>\n",
       "      <td>NaN</td>\n",
       "      <td>NaN</td>\n",
       "      <td>NaN</td>\n",
       "      <td>...</td>\n",
       "      <td>NaN</td>\n",
       "      <td>NaN</td>\n",
       "      <td>NaN</td>\n",
       "      <td>NaN</td>\n",
       "      <td>NaN</td>\n",
       "      <td>NaN</td>\n",
       "      <td>NaN</td>\n",
       "      <td>NaN</td>\n",
       "      <td>NaN</td>\n",
       "      <td>NaN</td>\n",
       "    </tr>\n",
       "    <tr>\n",
       "      <th>BACCANO！大騷動！ (15) 1710</th>\n",
       "      <td>NaN</td>\n",
       "      <td>NaN</td>\n",
       "      <td>NaN</td>\n",
       "      <td>NaN</td>\n",
       "      <td>NaN</td>\n",
       "      <td>NaN</td>\n",
       "      <td>NaN</td>\n",
       "      <td>NaN</td>\n",
       "      <td>NaN</td>\n",
       "      <td>NaN</td>\n",
       "      <td>...</td>\n",
       "      <td>NaN</td>\n",
       "      <td>NaN</td>\n",
       "      <td>NaN</td>\n",
       "      <td>NaN</td>\n",
       "      <td>NaN</td>\n",
       "      <td>NaN</td>\n",
       "      <td>NaN</td>\n",
       "      <td>NaN</td>\n",
       "      <td>NaN</td>\n",
       "      <td>NaN</td>\n",
       "    </tr>\n",
       "    <tr>\n",
       "      <th>Mr. Adult 大人先生</th>\n",
       "      <td>NaN</td>\n",
       "      <td>NaN</td>\n",
       "      <td>NaN</td>\n",
       "      <td>NaN</td>\n",
       "      <td>NaN</td>\n",
       "      <td>NaN</td>\n",
       "      <td>NaN</td>\n",
       "      <td>NaN</td>\n",
       "      <td>NaN</td>\n",
       "      <td>NaN</td>\n",
       "      <td>...</td>\n",
       "      <td>NaN</td>\n",
       "      <td>NaN</td>\n",
       "      <td>NaN</td>\n",
       "      <td>NaN</td>\n",
       "      <td>NaN</td>\n",
       "      <td>NaN</td>\n",
       "      <td>NaN</td>\n",
       "      <td>NaN</td>\n",
       "      <td>NaN</td>\n",
       "      <td>NaN</td>\n",
       "    </tr>\n",
       "    <tr>\n",
       "      <th>TWO CAN TOUCAN大嘴鳥「兩罐」的故事</th>\n",
       "      <td>NaN</td>\n",
       "      <td>NaN</td>\n",
       "      <td>NaN</td>\n",
       "      <td>NaN</td>\n",
       "      <td>NaN</td>\n",
       "      <td>NaN</td>\n",
       "      <td>NaN</td>\n",
       "      <td>NaN</td>\n",
       "      <td>NaN</td>\n",
       "      <td>NaN</td>\n",
       "      <td>...</td>\n",
       "      <td>NaN</td>\n",
       "      <td>NaN</td>\n",
       "      <td>NaN</td>\n",
       "      <td>NaN</td>\n",
       "      <td>NaN</td>\n",
       "      <td>NaN</td>\n",
       "      <td>NaN</td>\n",
       "      <td>NaN</td>\n",
       "      <td>NaN</td>\n",
       "      <td>NaN</td>\n",
       "    </tr>\n",
       "    <tr>\n",
       "      <th>Visual C# 2008 程式設計範例教本</th>\n",
       "      <td>NaN</td>\n",
       "      <td>NaN</td>\n",
       "      <td>NaN</td>\n",
       "      <td>NaN</td>\n",
       "      <td>NaN</td>\n",
       "      <td>NaN</td>\n",
       "      <td>NaN</td>\n",
       "      <td>NaN</td>\n",
       "      <td>NaN</td>\n",
       "      <td>NaN</td>\n",
       "      <td>...</td>\n",
       "      <td>NaN</td>\n",
       "      <td>NaN</td>\n",
       "      <td>NaN</td>\n",
       "      <td>NaN</td>\n",
       "      <td>NaN</td>\n",
       "      <td>NaN</td>\n",
       "      <td>NaN</td>\n",
       "      <td>NaN</td>\n",
       "      <td>NaN</td>\n",
       "      <td>NaN</td>\n",
       "    </tr>\n",
       "  </tbody>\n",
       "</table>\n",
       "<p>5 rows × 8954 columns</p>\n",
       "</div>"
      ],
      "text/plain": [
       "user_id                    0     1     2     3     4     5     6     7     \\\n",
       "BOOKNAME                                                                    \n",
       " 81                         NaN   NaN   NaN   NaN   NaN   NaN   NaN   NaN   \n",
       " BACCANO！大騷動！ (15) 1710     NaN   NaN   NaN   NaN   NaN   NaN   NaN   NaN   \n",
       " Mr. Adult 大人先生             NaN   NaN   NaN   NaN   NaN   NaN   NaN   NaN   \n",
       " TWO CAN TOUCAN大嘴鳥「兩罐」的故事   NaN   NaN   NaN   NaN   NaN   NaN   NaN   NaN   \n",
       " Visual C# 2008 程式設計範例教本    NaN   NaN   NaN   NaN   NaN   NaN   NaN   NaN   \n",
       "\n",
       "user_id                    8     9     ...  8944  8945  8946  8947  8948  \\\n",
       "BOOKNAME                               ...                                 \n",
       " 81                         NaN   NaN  ...   NaN   NaN   NaN   NaN   NaN   \n",
       " BACCANO！大騷動！ (15) 1710     NaN   NaN  ...   NaN   NaN   NaN   NaN   NaN   \n",
       " Mr. Adult 大人先生             NaN   NaN  ...   NaN   NaN   NaN   NaN   NaN   \n",
       " TWO CAN TOUCAN大嘴鳥「兩罐」的故事   NaN   NaN  ...   NaN   NaN   NaN   NaN   NaN   \n",
       " Visual C# 2008 程式設計範例教本    NaN   NaN  ...   NaN   NaN   NaN   NaN   NaN   \n",
       "\n",
       "user_id                    8949  8950  8951  8952  8953  \n",
       "BOOKNAME                                                 \n",
       " 81                         NaN   NaN   NaN   NaN   NaN  \n",
       " BACCANO！大騷動！ (15) 1710     NaN   NaN   NaN   NaN   NaN  \n",
       " Mr. Adult 大人先生             NaN   NaN   NaN   NaN   NaN  \n",
       " TWO CAN TOUCAN大嘴鳥「兩罐」的故事   NaN   NaN   NaN   NaN   NaN  \n",
       " Visual C# 2008 程式設計範例教本    NaN   NaN   NaN   NaN   NaN  \n",
       "\n",
       "[5 rows x 8954 columns]"
      ]
     },
     "execution_count": 9,
     "metadata": {},
     "output_type": "execute_result"
    }
   ],
   "source": [
    "book_features_df = rating_df.pivot_table(index = 'BOOKNAME',columns = 'user_id',values = 'USERSTAR')\n",
    "book_features_df.head()"
   ]
  },
  {
   "cell_type": "code",
   "execution_count": 10,
   "id": "6b143f28",
   "metadata": {},
   "outputs": [
    {
     "data": {
      "text/plain": [
       "user_id\n",
       "0       46141\n",
       "1       46132\n",
       "2       46080\n",
       "3       46147\n",
       "4       46129\n",
       "        ...  \n",
       "8949    46108\n",
       "8950    46147\n",
       "8951    46146\n",
       "8952    46146\n",
       "8953    46140\n",
       "Length: 8954, dtype: int64"
      ]
     },
     "execution_count": 10,
     "metadata": {},
     "output_type": "execute_result"
    }
   ],
   "source": [
    "missing_value = book_features_df.isna().sum()\n",
    "missing_value"
   ]
  },
  {
   "cell_type": "code",
   "execution_count": 11,
   "id": "092c60c9",
   "metadata": {},
   "outputs": [
    {
     "name": "stdout",
     "output_type": "stream",
     "text": [
      "Total Empty cells are :  413118241\n",
      "Total cells in Matrix are :  413218146\n",
      "Sparsity of Matrix are :  0.9997582269777668\n"
     ]
    }
   ],
   "source": [
    "rows = book_features_df.shape[0]\n",
    "cols = book_features_df.shape[1]\n",
    "\n",
    "count_empty_or_zero_cells = book_features_df.isna().sum().sum()\n",
    "total_elements = rows * cols\n",
    "\n",
    "sparsity_of_matrix = count_empty_or_zero_cells/total_elements\n",
    "\n",
    "print('Total Empty cells are : ', count_empty_or_zero_cells)\n",
    "print('Total cells in Matrix are : ', total_elements)\n",
    "print('Sparsity of Matrix are : ', sparsity_of_matrix)"
   ]
  },
  {
   "cell_type": "code",
   "execution_count": 12,
   "id": "c3786f64",
   "metadata": {},
   "outputs": [],
   "source": [
    "# 空值用 0 取代\n",
    "book_features_df.fillna(0, inplace = True)"
   ]
  },
  {
   "cell_type": "code",
   "execution_count": 13,
   "id": "c3fd5ff5",
   "metadata": {},
   "outputs": [
    {
     "data": {
      "text/plain": [
       "array([[0., 0., 0., ..., 0., 0., 0.],\n",
       "       [0., 0., 0., ..., 0., 0., 0.],\n",
       "       [0., 0., 0., ..., 0., 0., 0.],\n",
       "       ...,\n",
       "       [0., 0., 0., ..., 0., 0., 0.],\n",
       "       [0., 0., 0., ..., 0., 0., 0.],\n",
       "       [0., 0., 0., ..., 0., 0., 0.]])"
      ]
     },
     "execution_count": 13,
     "metadata": {},
     "output_type": "execute_result"
    }
   ],
   "source": [
    "book_features_df.values"
   ]
  },
  {
   "cell_type": "code",
   "execution_count": 15,
   "id": "c452d831",
   "metadata": {},
   "outputs": [],
   "source": [
    "from scipy.sparse import csr_matrix\n",
    "book_features_df_matrix = csr_matrix(book_features_df.values)"
   ]
  },
  {
   "cell_type": "code",
   "execution_count": 16,
   "id": "f47748e3",
   "metadata": {},
   "outputs": [
    {
     "data": {
      "text/plain": [
       "NearestNeighbors(algorithm='brute', metric='cosine')"
      ]
     },
     "execution_count": 16,
     "metadata": {},
     "output_type": "execute_result"
    }
   ],
   "source": [
    "# 建立餘弦相似模型 (K-近鄰演算法)\n",
    "from sklearn.neighbors import NearestNeighbors\n",
    "nearest_neighbor_model = NearestNeighbors(metric = 'cosine', algorithm = 'brute')\n",
    "nearest_neighbor_model.fit(book_features_df_matrix)"
   ]
  },
  {
   "cell_type": "code",
   "execution_count": 17,
   "id": "f8ba8ec2",
   "metadata": {},
   "outputs": [
    {
     "name": "stdout",
     "output_type": "stream",
     "text": [
      "Total books in our pivot table :  46149\n",
      "Random book Index :  9977\n"
     ]
    }
   ],
   "source": [
    "# 隨機選擇一本書\n",
    "total_no_of_books = book_features_df.shape[0]\n",
    "print('Total books in our pivot table : ', total_no_of_books)\n",
    "random_book_index = np.random.choice(total_no_of_books)\n",
    "print('Random book Index : ', random_book_index)"
   ]
  },
  {
   "cell_type": "code",
   "execution_count": 18,
   "id": "4b421425",
   "metadata": {},
   "outputs": [
    {
     "data": {
      "text/plain": [
       "user_id\n",
       "0       0.0\n",
       "1       0.0\n",
       "2       0.0\n",
       "3       0.0\n",
       "4       0.0\n",
       "       ... \n",
       "8949    0.0\n",
       "8950    0.0\n",
       "8951    0.0\n",
       "8952    0.0\n",
       "8953    0.0\n",
       "Name: 危機中的盼望 Hope in Any Crisis, Length: 8954, dtype: float64"
      ]
     },
     "execution_count": 18,
     "metadata": {},
     "output_type": "execute_result"
    }
   ],
   "source": [
    "book_features_df.iloc[random_book_index]"
   ]
  },
  {
   "cell_type": "code",
   "execution_count": 19,
   "id": "4d21d88d",
   "metadata": {},
   "outputs": [
    {
     "data": {
      "text/plain": [
       "array([[0., 0., 0., ..., 0., 0., 0.]])"
      ]
     },
     "execution_count": 19,
     "metadata": {},
     "output_type": "execute_result"
    }
   ],
   "source": [
    "# 向量顯示 random_book\n",
    "one_dimensional_representation_of_book_vector = book_features_df.iloc[random_book_index].values.reshape(1, -1)\n",
    "one_dimensional_representation_of_book_vector"
   ]
  },
  {
   "cell_type": "code",
   "execution_count": 20,
   "id": "5d384817",
   "metadata": {},
   "outputs": [
    {
     "name": "stdout",
     "output_type": "stream",
     "text": [
      "Distance : [[0. 1. 1. 1. 1. 1.]]\n",
      "Indices : [[ 9977 30767 30765 30769 30768 30771]]\n"
     ]
    }
   ],
   "source": [
    "# 相似書本與 random_book 的餘弦距離指數\n",
    "distances, indices = nearest_neighbor_model.kneighbors(one_dimensional_representation_of_book_vector, n_neighbors = 6)\n",
    "print('Distance :', distances)\n",
    "print('Indices :', indices)"
   ]
  },
  {
   "cell_type": "code",
   "execution_count": 21,
   "id": "c11866f8",
   "metadata": {},
   "outputs": [
    {
     "name": "stdout",
     "output_type": "stream",
     "text": [
      "Recommendations for 危機中的盼望 Hope in Any Crisis:\n",
      "\n",
      "1: 生命是長期而持續的累積, with distance of 1.0\n",
      "2: 生命是什麼？, with distance of 1.0\n",
      "3: 生命最後一個月的花嫁              全, with distance of 1.0\n",
      "4: 生命暗章, with distance of 1.0\n",
      "5: 生命永不落：一個心理醫師追尋老化意義的旅程, with distance of 1.0\n"
     ]
    }
   ],
   "source": [
    "indices = indices.flatten()\n",
    "distances = distances.flatten()\n",
    "for i in range(0, len(indices)):\n",
    "    ## same book\n",
    "    if i == 0:\n",
    "        print('Recommendations for {0}:\\n'.format(book_features_df.index[random_book_index]))\n",
    "    else:\n",
    "        ## similar books\n",
    "        print('{0}: {1}, with distance of {2}'.format(i, book_features_df.index[indices[i]], distances[i]))"
   ]
  },
  {
   "cell_type": "code",
   "execution_count": 22,
   "id": "41f64ff5",
   "metadata": {},
   "outputs": [],
   "source": [
    "# 找出全部書本的相似資料集 \n",
    "my_dict = {}\n",
    "for book_index in range(book_features_df.shape[0]):\n",
    "    \n",
    "    one_dimensional_representation_of_book_vector = book_features_df.iloc[book_index].values.reshape(1, -1)\n",
    "    distances, indices = nearest_neighbor_model.kneighbors(one_dimensional_representation_of_book_vector, n_neighbors = 4)\n",
    "    indices = indices.flatten()\n",
    "    distances = distances.flatten()\n",
    "    similar_books = []\n",
    "    \n",
    "    for i in range(0, len(indices)):\n",
    "        ## same book\n",
    "        if i == 0:\n",
    "            original_book = book_features_df.index[book_index]\n",
    "        else:\n",
    "            ## similar books\n",
    "            similar_books.append(book_features_df.index[indices[i]])\n",
    "\n",
    "        my_dict[original_book] = similar_books"
   ]
  },
  {
   "cell_type": "code",
   "execution_count": 23,
   "id": "a9d04dc8",
   "metadata": {},
   "outputs": [
    {
     "data": {
      "text/html": [
       "<div>\n",
       "<style scoped>\n",
       "    .dataframe tbody tr th:only-of-type {\n",
       "        vertical-align: middle;\n",
       "    }\n",
       "\n",
       "    .dataframe tbody tr th {\n",
       "        vertical-align: top;\n",
       "    }\n",
       "\n",
       "    .dataframe thead th {\n",
       "        text-align: right;\n",
       "    }\n",
       "</style>\n",
       "<table border=\"1\" class=\"dataframe\">\n",
       "  <thead>\n",
       "    <tr style=\"text-align: right;\">\n",
       "      <th></th>\n",
       "      <th>1st_Similar_book</th>\n",
       "      <th>2nd_Similar_book</th>\n",
       "      <th>3rd_Similar_book</th>\n",
       "    </tr>\n",
       "  </thead>\n",
       "  <tbody>\n",
       "    <tr>\n",
       "      <th>81</th>\n",
       "      <td>餐飲業邪惡的賺錢祕密</td>\n",
       "      <td>イメージ別レイアウトスタイルシリーズクールandスタイリッシュ編</td>\n",
       "      <td>雑誌をデザインする集団キャップ</td>\n",
       "    </tr>\n",
       "    <tr>\n",
       "      <th>BACCANO！大騷動！ (15) 1710</th>\n",
       "      <td>The Chronicles of Narnia</td>\n",
       "      <td>涼宮春日的陰謀</td>\n",
       "      <td>忍者：闇影軍團的真實面貌！</td>\n",
       "    </tr>\n",
       "    <tr>\n",
       "      <th>Mr. Adult 大人先生</th>\n",
       "      <td>字母會C獨身</td>\n",
       "      <td>奧森巴赫之眼</td>\n",
       "      <td>有效期滿的初戀（全）（限）</td>\n",
       "    </tr>\n",
       "    <tr>\n",
       "      <th>TWO CAN TOUCAN大嘴鳥「兩罐」的故事</th>\n",
       "      <td>數位設計案內所--名片篇(附光碟)(平裝)</td>\n",
       "      <td>眾神的山嶺（上）</td>\n",
       "      <td>紙之月</td>\n",
       "    </tr>\n",
       "    <tr>\n",
       "      <th>Visual C# 2008 程式設計範例教本</th>\n",
       "      <td>我的四千金</td>\n",
       "      <td>我上班，我存到100萬</td>\n",
       "      <td>魚類圖鑑-台灣七百多種常見魚類圖鑑(精裝)</td>\n",
       "    </tr>\n",
       "  </tbody>\n",
       "</table>\n",
       "</div>"
      ],
      "text/plain": [
       "                                   1st_Similar_book  \\\n",
       " 81                                      餐飲業邪惡的賺錢祕密   \n",
       " BACCANO！大騷動！ (15) 1710    The Chronicles of Narnia   \n",
       " Mr. Adult 大人先生                              字母會C獨身   \n",
       " TWO CAN TOUCAN大嘴鳥「兩罐」的故事     數位設計案內所--名片篇(附光碟)(平裝)   \n",
       " Visual C# 2008 程式設計範例教本                      我的四千金   \n",
       "\n",
       "                                           2nd_Similar_book  \\\n",
       " 81                        イメージ別レイアウトスタイルシリーズクールandスタイリッシュ編   \n",
       " BACCANO！大騷動！ (15) 1710                             涼宮春日的陰謀   \n",
       " Mr. Adult 大人先生                                      奧森巴赫之眼   \n",
       " TWO CAN TOUCAN大嘴鳥「兩罐」的故事                          眾神的山嶺（上）   \n",
       " Visual C# 2008 程式設計範例教本                        我上班，我存到100萬   \n",
       "\n",
       "                                3rd_Similar_book  \n",
       " 81                              雑誌をデザインする集団キャップ  \n",
       " BACCANO！大騷動！ (15) 1710            忍者：闇影軍團的真實面貌！  \n",
       " Mr. Adult 大人先生                    有效期滿的初戀（全）（限）  \n",
       " TWO CAN TOUCAN大嘴鳥「兩罐」的故事                    紙之月  \n",
       " Visual C# 2008 程式設計範例教本   魚類圖鑑-台灣七百多種常見魚類圖鑑(精裝)  "
      ]
     },
     "execution_count": 23,
     "metadata": {},
     "output_type": "execute_result"
    }
   ],
   "source": [
    "# 秀出前三本相似\n",
    "recommended_book_df = pd.DataFrame(my_dict)\n",
    "recommended_book_df = recommended_book_df.T\n",
    "recommended_book_df.columns = ['1st_Similar_book', '2nd_Similar_book', '3rd_Similar_book']\n",
    "recommended_book_df.head()"
   ]
  },
  {
   "cell_type": "code",
   "execution_count": 24,
   "id": "51b13d99",
   "metadata": {},
   "outputs": [
    {
     "name": "stdout",
     "output_type": "stream",
     "text": [
      "I have book recommendatation for you: \n",
      "\n",
      "一起去看宋朝的活色生香\n",
      "7個習慣教出優秀的孩子（教育現場篇）自我領導力教育的奇蹟\n",
      "茶行的女兒\n"
     ]
    }
   ],
   "source": [
    "# 書本推薦\n",
    "book_name = \"忘了我是誰\"\n",
    "result = recommended_book_df.loc[book_name, : ]\n",
    "print('I have book recommendatation for you: \\n')\n",
    "for books in list(result.values):\n",
    "      print(books)"
   ]
  },
  {
   "cell_type": "code",
   "execution_count": null,
   "id": "1e607493",
   "metadata": {},
   "outputs": [],
   "source": []
  }
 ],
 "metadata": {
  "kernelspec": {
   "display_name": "Python 3",
   "language": "python",
   "name": "python3"
  },
  "language_info": {
   "codemirror_mode": {
    "name": "ipython",
    "version": 3
   },
   "file_extension": ".py",
   "mimetype": "text/x-python",
   "name": "python",
   "nbconvert_exporter": "python",
   "pygments_lexer": "ipython3",
   "version": "3.8.10"
  }
 },
 "nbformat": 4,
 "nbformat_minor": 5
}
